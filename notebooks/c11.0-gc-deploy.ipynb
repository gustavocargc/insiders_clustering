{
 "cells": [
  {
   "cell_type": "markdown",
   "id": "11a90148",
   "metadata": {},
   "source": [
    "# PA005: HIGH VALUE CUSTOMER INDETIFICATION (INSIDERS)"
   ]
  },
  {
   "cell_type": "markdown",
   "id": "c498b696",
   "metadata": {
    "hidden": true
   },
   "source": [
    "# 0.0 - Imports"
   ]
  },
  {
   "cell_type": "markdown",
   "id": "8ce4920d",
   "metadata": {},
   "source": [
    " ## 0.1. Imports"
   ]
  },
  {
   "cell_type": "code",
   "execution_count": 1,
   "id": "7ffe8324",
   "metadata": {
    "ExecuteTime": {
     "end_time": "2021-11-07T00:44:32.273702Z",
     "start_time": "2021-11-07T00:44:30.720472Z"
    }
   },
   "outputs": [],
   "source": [
    "import sqlite3\n",
    "import re\n",
    "import numpy      as np\n",
    "import pandas     as pd\n",
    "import seaborn    as sns\n",
    "\n",
    "import umap.umap_ as umap\n",
    "\n",
    "from matplotlib            import pyplot as plt\n",
    "\n",
    "from sklearn               import cluster       as c\n",
    "from sklearn               import metrics       as m\n",
    "from sklearn               import ensemble      as en\n",
    "from sklearn               import preprocessing as pp\n",
    "from sklearn               import decomposition as dd\n",
    "from sklearn               import manifold      as mn\n",
    "from sklearn               import mixture       as mx\n",
    "\n",
    "from scipy.cluster import hierarchy as hc\n",
    "from sqlalchemy import create_engine\n",
    "\n",
    "from plotly                import express as px\n",
    "\n",
    "import inflection\n",
    "\n",
    "from numpy                 import int64"
   ]
  },
  {
   "cell_type": "markdown",
   "id": "188b23db",
   "metadata": {},
   "source": [
    "# 1.0 - Data Description"
   ]
  },
  {
   "cell_type": "markdown",
   "id": "23d8400f",
   "metadata": {},
   "source": [
    "##  1.1. Load dataset"
   ]
  },
  {
   "cell_type": "code",
   "execution_count": 2,
   "id": "aee84156",
   "metadata": {
    "ExecuteTime": {
     "end_time": "2021-11-07T00:28:04.825096Z",
     "start_time": "2021-11-07T00:28:03.720554Z"
    }
   },
   "outputs": [],
   "source": [
    "# load data\n",
    "df_raw = pd.read_csv('C:/Users/DML1WFE/repos/projects/pa005_insiders_clustering/insiders_clustering/data/raw/Ecommerce.csv', encoding='unicode_escape', low_memory=False)\n",
    "\n",
    "# drop extra column\n",
    "df_raw = df_raw.drop(['Unnamed: 8'], axis = 1)"
   ]
  },
  {
   "cell_type": "markdown",
   "id": "a7634e51",
   "metadata": {},
   "source": [
    "##  1.2. Rename Columns"
   ]
  },
  {
   "cell_type": "code",
   "execution_count": 3,
   "id": "f19a709e",
   "metadata": {
    "ExecuteTime": {
     "end_time": "2021-11-07T00:28:04.833042Z",
     "start_time": "2021-11-07T00:28:04.825096Z"
    }
   },
   "outputs": [],
   "source": [
    "df1 = df_raw.copy()"
   ]
  },
  {
   "cell_type": "code",
   "execution_count": 4,
   "id": "e455f9af",
   "metadata": {
    "ExecuteTime": {
     "end_time": "2021-11-07T00:28:04.867948Z",
     "start_time": "2021-11-07T00:28:04.836034Z"
    },
    "code_folding": []
   },
   "outputs": [],
   "source": [
    "cols_old = ['InvoiceNo', 'StockCode', 'Description', 'Quantity', 'InvoiceDate',\n",
    "       'UnitPrice', 'CustomerID', 'Country']\n",
    "\n",
    "snakecase = lambda x: inflection.underscore(x)\n",
    "cols_new = list(map(snakecase, cols_old))\n",
    "\n",
    "#rename\n",
    "df1.columns = cols_new"
   ]
  },
  {
   "cell_type": "markdown",
   "id": "d3d09134",
   "metadata": {},
   "source": [
    "##  1.3. Data Dimensions"
   ]
  },
  {
   "cell_type": "code",
   "execution_count": 5,
   "id": "b2389757",
   "metadata": {
    "ExecuteTime": {
     "end_time": "2021-11-07T00:28:04.876924Z",
     "start_time": "2021-11-07T00:28:04.869943Z"
    }
   },
   "outputs": [
    {
     "name": "stdout",
     "output_type": "stream",
     "text": [
      "Number od rows: 541909 \n",
      "Number of columns: 8\n"
     ]
    }
   ],
   "source": [
    "print('Number od rows: {} '.format(df1.shape[0]))\n",
    "print('Number of columns: {}'.format(df1.shape[1]))"
   ]
  },
  {
   "cell_type": "markdown",
   "id": "6ddbe3b2",
   "metadata": {},
   "source": [
    "## 1.4. Data Types"
   ]
  },
  {
   "cell_type": "code",
   "execution_count": 6,
   "id": "5b17d5a3",
   "metadata": {
    "ExecuteTime": {
     "end_time": "2021-11-07T00:28:04.888892Z",
     "start_time": "2021-11-07T00:28:04.879918Z"
    }
   },
   "outputs": [
    {
     "data": {
      "text/plain": [
       "invoice_no       object\n",
       "stock_code       object\n",
       "description      object\n",
       "quantity          int64\n",
       "invoice_date     object\n",
       "unit_price      float64\n",
       "customer_id     float64\n",
       "country          object\n",
       "dtype: object"
      ]
     },
     "execution_count": 6,
     "metadata": {},
     "output_type": "execute_result"
    }
   ],
   "source": [
    "df1.dtypes"
   ]
  },
  {
   "cell_type": "markdown",
   "id": "667aedbe",
   "metadata": {},
   "source": [
    "##  1.5. Check NA"
   ]
  },
  {
   "cell_type": "code",
   "execution_count": 7,
   "id": "43362cc7",
   "metadata": {
    "ExecuteTime": {
     "end_time": "2021-11-07T00:28:05.066418Z",
     "start_time": "2021-11-07T00:28:04.891886Z"
    }
   },
   "outputs": [
    {
     "data": {
      "text/plain": [
       "invoice_no           0\n",
       "stock_code           0\n",
       "description       1454\n",
       "quantity             0\n",
       "invoice_date         0\n",
       "unit_price           0\n",
       "customer_id     135080\n",
       "country              0\n",
       "dtype: int64"
      ]
     },
     "execution_count": 7,
     "metadata": {},
     "output_type": "execute_result"
    }
   ],
   "source": [
    "df1.isna().sum()"
   ]
  },
  {
   "cell_type": "markdown",
   "id": "ac0215b4",
   "metadata": {},
   "source": [
    "##  1.6. Fillout NA"
   ]
  },
  {
   "cell_type": "code",
   "execution_count": 8,
   "id": "b01e6b2f",
   "metadata": {},
   "outputs": [],
   "source": [
    "df_missing = df1.loc[df1['customer_id'].isna(), :]\n",
    "df_not_missing = df1.loc[~df1['customer_id'].isna(), :]"
   ]
  },
  {
   "cell_type": "code",
   "execution_count": 9,
   "id": "73749973",
   "metadata": {},
   "outputs": [],
   "source": [
    "# create refrence\n",
    "df_backup = pd.DataFrame(df_missing['invoice_no'].drop_duplicates())\n",
    "df_backup['customer_id'] = np.arange(19000, 19000+len(df_backup),1)\n",
    "\n",
    "# merge original with refrence dataframe\n",
    "df1 = pd.merge(df1, df_backup, on='invoice_no', how='left')\n",
    "\n",
    "# coalesce\n",
    "df1['customer_id'] = df1['customer_id_x'].combine_first(df1['customer_id_y'])\n",
    "\n",
    "# drop extra Columns\n",
    "df1 = df1.drop(columns = ['customer_id_x', 'customer_id_y'], axis = 1)"
   ]
  },
  {
   "cell_type": "code",
   "execution_count": 10,
   "id": "925cb3e3",
   "metadata": {},
   "outputs": [
    {
     "data": {
      "text/plain": [
       "invoice_no         0\n",
       "stock_code         0\n",
       "description     1454\n",
       "quantity           0\n",
       "invoice_date       0\n",
       "unit_price         0\n",
       "country            0\n",
       "customer_id        0\n",
       "dtype: int64"
      ]
     },
     "execution_count": 10,
     "metadata": {},
     "output_type": "execute_result"
    }
   ],
   "source": [
    "df1.isna().sum()"
   ]
  },
  {
   "cell_type": "markdown",
   "id": "4a331fa4",
   "metadata": {},
   "source": [
    "##  1.7. Chage dtypes"
   ]
  },
  {
   "cell_type": "code",
   "execution_count": 11,
   "id": "1111032c",
   "metadata": {
    "ExecuteTime": {
     "end_time": "2021-11-07T00:28:05.342679Z",
     "start_time": "2021-11-07T00:28:05.220008Z"
    }
   },
   "outputs": [],
   "source": [
    "# invoice date\n",
    "df1['invoice_date'] = pd.to_datetime(df1['invoice_date'],format='%d-%b-%y')\n",
    "\n",
    "# customer id\n",
    "df1['customer_id'] = df1['customer_id'].astype(int64)"
   ]
  },
  {
   "cell_type": "code",
   "execution_count": 12,
   "id": "0db990b5",
   "metadata": {},
   "outputs": [
    {
     "data": {
      "text/plain": [
       "invoice_no              object\n",
       "stock_code              object\n",
       "description             object\n",
       "quantity                 int64\n",
       "invoice_date    datetime64[ns]\n",
       "unit_price             float64\n",
       "country                 object\n",
       "customer_id              int64\n",
       "dtype: object"
      ]
     },
     "execution_count": 12,
     "metadata": {},
     "output_type": "execute_result"
    }
   ],
   "source": [
    "df1.dtypes"
   ]
  },
  {
   "cell_type": "markdown",
   "id": "766bb259",
   "metadata": {},
   "source": [
    "##  1.8. Descriptive Statistical"
   ]
  },
  {
   "cell_type": "code",
   "execution_count": 13,
   "id": "64b2ba80",
   "metadata": {},
   "outputs": [],
   "source": [
    "num_attributes = df1.select_dtypes(include=['int64', 'float64'])\n",
    "cat_attributes = df1.select_dtypes(exclude=['int64', 'float64', 'datetime64[ns]'])"
   ]
  },
  {
   "cell_type": "markdown",
   "id": "328de510",
   "metadata": {},
   "source": [
    "### 1.7.1 - Numerical Attributes"
   ]
  },
  {
   "cell_type": "code",
   "execution_count": 14,
   "id": "f795248b",
   "metadata": {},
   "outputs": [
    {
     "data": {
      "text/html": [
       "<div>\n",
       "<style scoped>\n",
       "    .dataframe tbody tr th:only-of-type {\n",
       "        vertical-align: middle;\n",
       "    }\n",
       "\n",
       "    .dataframe tbody tr th {\n",
       "        vertical-align: top;\n",
       "    }\n",
       "\n",
       "    .dataframe thead th {\n",
       "        text-align: right;\n",
       "    }\n",
       "</style>\n",
       "<table border=\"1\" class=\"dataframe\">\n",
       "  <thead>\n",
       "    <tr style=\"text-align: right;\">\n",
       "      <th></th>\n",
       "      <th>attributes</th>\n",
       "      <th>min</th>\n",
       "      <th>max</th>\n",
       "      <th>range</th>\n",
       "      <th>mean</th>\n",
       "      <th>median</th>\n",
       "      <th>std</th>\n",
       "      <th>skew</th>\n",
       "      <th>kurtosis</th>\n",
       "    </tr>\n",
       "  </thead>\n",
       "  <tbody>\n",
       "    <tr>\n",
       "      <th>0</th>\n",
       "      <td>quantity</td>\n",
       "      <td>-80995.00</td>\n",
       "      <td>80995.0</td>\n",
       "      <td>161990.00</td>\n",
       "      <td>9.552250</td>\n",
       "      <td>3.00</td>\n",
       "      <td>218.080957</td>\n",
       "      <td>-0.264076</td>\n",
       "      <td>119769.160031</td>\n",
       "    </tr>\n",
       "    <tr>\n",
       "      <th>1</th>\n",
       "      <td>unit_price</td>\n",
       "      <td>-11062.06</td>\n",
       "      <td>38970.0</td>\n",
       "      <td>50032.06</td>\n",
       "      <td>4.611114</td>\n",
       "      <td>2.08</td>\n",
       "      <td>96.759764</td>\n",
       "      <td>186.506972</td>\n",
       "      <td>59005.719097</td>\n",
       "    </tr>\n",
       "    <tr>\n",
       "      <th>2</th>\n",
       "      <td>customer_id</td>\n",
       "      <td>12346.00</td>\n",
       "      <td>22709.0</td>\n",
       "      <td>10363.00</td>\n",
       "      <td>16688.840453</td>\n",
       "      <td>16249.00</td>\n",
       "      <td>2911.408666</td>\n",
       "      <td>0.487449</td>\n",
       "      <td>-0.804287</td>\n",
       "    </tr>\n",
       "  </tbody>\n",
       "</table>\n",
       "</div>"
      ],
      "text/plain": [
       "    attributes       min      max      range          mean    median  \\\n",
       "0     quantity -80995.00  80995.0  161990.00      9.552250      3.00   \n",
       "1   unit_price -11062.06  38970.0   50032.06      4.611114      2.08   \n",
       "2  customer_id  12346.00  22709.0   10363.00  16688.840453  16249.00   \n",
       "\n",
       "           std        skew       kurtosis  \n",
       "0   218.080957   -0.264076  119769.160031  \n",
       "1    96.759764  186.506972   59005.719097  \n",
       "2  2911.408666    0.487449      -0.804287  "
      ]
     },
     "execution_count": 14,
     "metadata": {},
     "output_type": "execute_result"
    }
   ],
   "source": [
    "# central tendecy - mean, median\n",
    "ct1 = pd.DataFrame(num_attributes.apply(np.mean)).T\n",
    "ct2 = pd.DataFrame(num_attributes.apply(np.median)).T\n",
    "\n",
    "# dispersion - desvio padrão, mínimo, maximo, range, skew, kurtosis\n",
    "d1 = pd.DataFrame(num_attributes.apply(np.std)).T\n",
    "d2 = pd.DataFrame(num_attributes.apply(np.min)).T\n",
    "d3 = pd.DataFrame(num_attributes.apply(np.max)).T\n",
    "d4 = pd.DataFrame(num_attributes.apply(lambda x: x.max() - x.min())).T\n",
    "#d5 = pd.DataFrame(num_attributes.apply(lambda x: x.skew() - x.skew())).T\n",
    "d5 = pd.DataFrame(num_attributes.apply(lambda x: x.skew())).T\n",
    "d6 = pd.DataFrame(num_attributes.apply(lambda x: x.kurtosis())).T\n",
    "\n",
    "# concatenate\n",
    "m1 = pd.concat([d2, d3, d4, ct1, ct2, d1, d5, d6]).T.reset_index()\n",
    "m1.columns = ['attributes', 'min', 'max', 'range', 'mean', 'median', 'std', 'skew', 'kurtosis']\n",
    "m1"
   ]
  },
  {
   "cell_type": "markdown",
   "id": "328de510",
   "metadata": {},
   "source": [
    "### 1.7.2 - Categorical Attributes"
   ]
  },
  {
   "cell_type": "markdown",
   "id": "f96932ea",
   "metadata": {},
   "source": [
    "#### Invoice No"
   ]
  },
  {
   "cell_type": "code",
   "execution_count": 15,
   "id": "62fc99fa",
   "metadata": {},
   "outputs": [
    {
     "name": "stdout",
     "output_type": "stream",
     "text": [
      "Total number of invoices: 9291\n",
      "Total number of negative quantity: 9288\n"
     ]
    }
   ],
   "source": [
    "#identificação\n",
    "df_letter_invoices = df1.loc[df1['invoice_no'].apply( lambda x: bool( re.search( '[^0-9]+', x ) ) ), :]\n",
    "\n",
    "print('Total number of invoices: {}'.format(len(df_letter_invoices)))\n",
    "print('Total number of negative quantity: {}'.format(len(df_letter_invoices[df_letter_invoices['quantity'] < 0])))"
   ]
  },
  {
   "cell_type": "markdown",
   "id": "f96932ea",
   "metadata": {},
   "source": [
    "#### Stock code"
   ]
  },
  {
   "cell_type": "code",
   "execution_count": 16,
   "id": "cea7be89",
   "metadata": {},
   "outputs": [
    {
     "data": {
      "text/plain": [
       "array(['POST', 'D', 'DOT', 'M', 'S', 'AMAZONFEE', 'm', 'DCGSSBOY',\n",
       "       'DCGSSGIRL', 'PADS', 'B', 'CRUK'], dtype=object)"
      ]
     },
     "execution_count": 16,
     "metadata": {},
     "output_type": "execute_result"
    }
   ],
   "source": [
    "df1.loc[df1['stock_code'].apply(lambda x: bool(re.search('^[a-zA-Z]+$', x))),'stock_code'].unique()"
   ]
  },
  {
   "cell_type": "markdown",
   "id": "1b6193c7",
   "metadata": {},
   "source": [
    "#  2.0 - Filtering Feature"
   ]
  },
  {
   "cell_type": "code",
   "execution_count": 17,
   "id": "f715d3ad",
   "metadata": {
    "ExecuteTime": {
     "end_time": "2021-11-07T00:28:05.689751Z",
     "start_time": "2021-11-07T00:28:05.684764Z"
    }
   },
   "outputs": [],
   "source": [
    "df2 = df1.copy()"
   ]
  },
  {
   "cell_type": "code",
   "execution_count": 18,
   "id": "f5bd767a",
   "metadata": {},
   "outputs": [
    {
     "data": {
      "text/plain": [
       "invoice_no              object\n",
       "stock_code              object\n",
       "description             object\n",
       "quantity                 int64\n",
       "invoice_date    datetime64[ns]\n",
       "unit_price             float64\n",
       "country                 object\n",
       "customer_id              int64\n",
       "dtype: object"
      ]
     },
     "execution_count": 18,
     "metadata": {},
     "output_type": "execute_result"
    }
   ],
   "source": [
    "df2.dtypes"
   ]
  },
  {
   "cell_type": "code",
   "execution_count": 19,
   "id": "c50a77c8",
   "metadata": {},
   "outputs": [],
   "source": [
    "# ==== Numerical attributes =====\n",
    "df2 = df2.loc[df2['unit_price']>=0.04, :]\n",
    "\n",
    "# ==== Categorical attributes =====\n",
    "df2 = df2[~df2['stock_code'].isin(['POST', 'D', 'DOT', 'M', 'S', 'AMAZONFEE', 'm', 'DCGSSBOY','DCGSSGIRL', 'PADS', 'B', 'CRUK'])]\n",
    "\n",
    "# description\n",
    "df2 = df2.drop(columns = 'description', axis = 1)\n",
    "\n",
    "# map\n",
    "df2 = df2[~df2['country'].isin(['Unspecified','European Community'])]\n",
    "\n",
    "# bad users\n",
    "df2 = df2[~df2['customer_id'].isin([16446])]\n",
    "\n",
    "# quantity\n",
    "df2_returns = df2.loc[df2['quantity'] < 0, :] \n",
    "df2_purchases = df2.loc[df2['quantity'] >= 0, :]"
   ]
  },
  {
   "cell_type": "markdown",
   "id": "cc48c328",
   "metadata": {},
   "source": [
    "# 3.0 - Feature Engineering"
   ]
  },
  {
   "cell_type": "markdown",
   "id": "7112ceaf",
   "metadata": {},
   "source": [
    "## 3.1. Data"
   ]
  },
  {
   "cell_type": "code",
   "execution_count": 20,
   "id": "6835e3c3",
   "metadata": {
    "ExecuteTime": {
     "end_time": "2021-11-07T00:28:05.350658Z",
     "start_time": "2021-11-07T00:28:05.344673Z"
    }
   },
   "outputs": [],
   "source": [
    "df3 = df2.copy()"
   ]
  },
  {
   "cell_type": "markdown",
   "id": "4de7a688",
   "metadata": {},
   "source": [
    "## 3.1. Feature Creation"
   ]
  },
  {
   "cell_type": "code",
   "execution_count": 21,
   "id": "dcdc0f66",
   "metadata": {},
   "outputs": [],
   "source": [
    "df_ref = df3.drop(['invoice_no', 'stock_code', 'quantity', 'invoice_date', 'unit_price', 'country'], axis=1).drop_duplicates(ignore_index=True)"
   ]
  },
  {
   "cell_type": "code",
   "execution_count": 22,
   "id": "c7077c55",
   "metadata": {},
   "outputs": [
    {
     "data": {
      "text/plain": [
       "customer_id    0\n",
       "dtype: int64"
      ]
     },
     "execution_count": 22,
     "metadata": {},
     "output_type": "execute_result"
    }
   ],
   "source": [
    "df_ref.isna().sum()"
   ]
  },
  {
   "cell_type": "markdown",
   "id": "aedbde22",
   "metadata": {},
   "source": [
    "### 3.1.1 Gross Revenue"
   ]
  },
  {
   "cell_type": "code",
   "execution_count": 23,
   "id": "9448fc42",
   "metadata": {},
   "outputs": [
    {
     "name": "stderr",
     "output_type": "stream",
     "text": [
      "C:\\Users\\dml1wfe\\repos\\envs\\pa005_insiders_clustering\\lib\\site-packages\\pandas\\core\\indexing.py:1667: SettingWithCopyWarning: \n",
      "A value is trying to be set on a copy of a slice from a DataFrame.\n",
      "Try using .loc[row_indexer,col_indexer] = value instead\n",
      "\n",
      "See the caveats in the documentation: https://pandas.pydata.org/pandas-docs/stable/user_guide/indexing.html#returning-a-view-versus-a-copy\n",
      "  self.obj[key] = value\n"
     ]
    },
    {
     "data": {
      "text/plain": [
       "customer_id       0\n",
       "gross_revenue    91\n",
       "dtype: int64"
      ]
     },
     "execution_count": 23,
     "metadata": {},
     "output_type": "execute_result"
    }
   ],
   "source": [
    "# Gross Revenue ( Faturamento ) quantity * price\n",
    "df2_purchases.loc[:, 'gross_revenue'] = df2_purchases.loc[:, 'quantity'] * df2_purchases.loc[:, 'unit_price']\n",
    "\n",
    "# Monetary\n",
    "df_monetary = df2_purchases.loc[:, ['customer_id', 'gross_revenue']].groupby( 'customer_id' ).sum().reset_index()\n",
    "df_ref = pd.merge( df_ref, df_monetary, on='customer_id', how='left' )\n",
    "df_ref.isna().sum()"
   ]
  },
  {
   "cell_type": "markdown",
   "id": "aedbde22",
   "metadata": {},
   "source": [
    "### 3.1.2 Recency - day from last purchase"
   ]
  },
  {
   "cell_type": "code",
   "execution_count": 24,
   "id": "acb3ca82",
   "metadata": {},
   "outputs": [
    {
     "data": {
      "text/plain": [
       "customer_id       0\n",
       "gross_revenue    91\n",
       "recency_days     91\n",
       "dtype: int64"
      ]
     },
     "execution_count": 24,
     "metadata": {},
     "output_type": "execute_result"
    }
   ],
   "source": [
    "# Recency - Last day purchase\n",
    "df_recency = df2_purchases.loc[:, ['customer_id', 'invoice_date']].groupby( 'customer_id' ).max().reset_index()\n",
    "df_recency['recency_days'] = ( df2['invoice_date'].max() - df_recency['invoice_date'] ).dt.days\n",
    "df_recency = df_recency[['customer_id', 'recency_days']].copy()\n",
    "df_ref = pd.merge( df_ref, df_recency, on='customer_id', how='left' )\n",
    "df_ref.isna().sum()"
   ]
  },
  {
   "cell_type": "markdown",
   "id": "aedbde22",
   "metadata": {},
   "source": [
    "### 3.1.5 Quantity of products purchased"
   ]
  },
  {
   "cell_type": "code",
   "execution_count": 25,
   "id": "bf37ac9e",
   "metadata": {},
   "outputs": [
    {
     "data": {
      "text/plain": [
       "customer_id       0\n",
       "gross_revenue    91\n",
       "recency_days     91\n",
       "qtde_products    91\n",
       "dtype: int64"
      ]
     },
     "execution_count": 25,
     "metadata": {},
     "output_type": "execute_result"
    }
   ],
   "source": [
    "# Numero de produtos\n",
    "df_freq = (df2_purchases.loc[:, ['customer_id', 'stock_code']].groupby( 'customer_id' ).count()\n",
    "                                                           .reset_index()\n",
    "                                                           .rename( columns={'stock_code': 'qtde_products'} ) )\n",
    "df_ref = pd.merge( df_ref, df_freq, on='customer_id', how='left' )\n",
    "df_ref.isna().sum()"
   ]
  },
  {
   "cell_type": "markdown",
   "id": "aedbde22",
   "metadata": {},
   "source": [
    "###  3.1.8. Frequency Purchase"
   ]
  },
  {
   "cell_type": "code",
   "execution_count": 26,
   "id": "3f709b8f",
   "metadata": {},
   "outputs": [
    {
     "data": {
      "text/plain": [
       "customer_id       0\n",
       "gross_revenue    91\n",
       "recency_days     91\n",
       "qtde_products    91\n",
       "frequency        91\n",
       "dtype: int64"
      ]
     },
     "execution_count": 26,
     "metadata": {},
     "output_type": "execute_result"
    }
   ],
   "source": [
    "df_aux = ( df2_purchases[['customer_id', 'invoice_no', 'invoice_date']].drop_duplicates()\n",
    "                                                             .groupby( 'customer_id')\n",
    "                                                             .agg( max_ = ( 'invoice_date', 'max' ), \n",
    "                                                                   min_ = ( 'invoice_date', 'min' ),\n",
    "                                                                   days_= ( 'invoice_date', lambda x: ( ( x.max() - x.min() ).days ) + 1 ),\n",
    "                                                                   buy_ = ( 'invoice_no', 'count' ) ) ).reset_index()\n",
    "# Frequency\n",
    "df_aux['frequency'] = df_aux[['buy_', 'days_']].apply( lambda x: x['buy_'] / x['days_'] if  x['days_'] != 0 else 0, axis=1 )\n",
    "\n",
    "# Merge\n",
    "df_ref = pd.merge( df_ref, df_aux[['customer_id', 'frequency']], on='customer_id', how='left' )\n",
    "\n",
    "df_ref.isna().sum()"
   ]
  },
  {
   "cell_type": "markdown",
   "id": "aedbde22",
   "metadata": {},
   "source": [
    "###  3.1.9. Number of Returns"
   ]
  },
  {
   "cell_type": "code",
   "execution_count": 27,
   "id": "3f709b8f",
   "metadata": {},
   "outputs": [
    {
     "data": {
      "text/plain": [
       "customer_id       0\n",
       "gross_revenue    91\n",
       "recency_days     91\n",
       "qtde_products    91\n",
       "frequency        91\n",
       "qtde_returns      0\n",
       "dtype: int64"
      ]
     },
     "execution_count": 27,
     "metadata": {},
     "output_type": "execute_result"
    }
   ],
   "source": [
    "# Number of Returns\n",
    "df_returns = df2_returns[['customer_id', 'quantity']].groupby( 'customer_id' ).sum().reset_index().rename( columns={'quantity':'qtde_returns'} )\n",
    "df_returns['qtde_returns'] = df_returns['qtde_returns'] * -1\n",
    "\n",
    "df_ref = pd.merge( df_ref, df_returns, how='left', on='customer_id' )\n",
    "df_ref.loc[df_ref['qtde_returns'].isna(), 'qtde_returns'] = 0\n",
    "\n",
    "df_ref.isna().sum()"
   ]
  },
  {
   "cell_type": "markdown",
   "id": "a876e27a",
   "metadata": {},
   "source": [
    "#  4.0 - Exploratory Data Analysis - EDA"
   ]
  },
  {
   "cell_type": "code",
   "execution_count": 28,
   "id": "10bb1e1e",
   "metadata": {
    "ExecuteTime": {
     "end_time": "2021-11-07T00:28:05.700721Z",
     "start_time": "2021-11-07T00:28:05.692743Z"
    }
   },
   "outputs": [
    {
     "data": {
      "text/plain": [
       "customer_id      0\n",
       "gross_revenue    0\n",
       "recency_days     0\n",
       "qtde_products    0\n",
       "frequency        0\n",
       "qtde_returns     0\n",
       "dtype: int64"
      ]
     },
     "execution_count": 28,
     "metadata": {},
     "output_type": "execute_result"
    }
   ],
   "source": [
    "df4 = df_ref.dropna()\n",
    "df4.isna().sum()"
   ]
  },
  {
   "cell_type": "markdown",
   "id": "a7bd0e8b",
   "metadata": {},
   "source": [
    "## 4.3 Estudo do espaço"
   ]
  },
  {
   "cell_type": "code",
   "execution_count": 29,
   "id": "51e65def",
   "metadata": {},
   "outputs": [],
   "source": [
    " # selected dataset\n",
    "cols_selected = ['customer_id', 'gross_revenue', 'recency_days', 'qtde_products', 'frequency', 'qtde_returns']\n",
    "df43 = df4[ cols_selected ].drop( columns='customer_id', axis=1 )"
   ]
  },
  {
   "cell_type": "code",
   "execution_count": 30,
   "id": "da084dc2",
   "metadata": {},
   "outputs": [
    {
     "data": {
      "text/html": [
       "<div>\n",
       "<style scoped>\n",
       "    .dataframe tbody tr th:only-of-type {\n",
       "        vertical-align: middle;\n",
       "    }\n",
       "\n",
       "    .dataframe tbody tr th {\n",
       "        vertical-align: top;\n",
       "    }\n",
       "\n",
       "    .dataframe thead th {\n",
       "        text-align: right;\n",
       "    }\n",
       "</style>\n",
       "<table border=\"1\" class=\"dataframe\">\n",
       "  <thead>\n",
       "    <tr style=\"text-align: right;\">\n",
       "      <th></th>\n",
       "      <th>gross_revenue</th>\n",
       "      <th>recency_days</th>\n",
       "      <th>qtde_products</th>\n",
       "      <th>frequency</th>\n",
       "      <th>qtde_returns</th>\n",
       "    </tr>\n",
       "  </thead>\n",
       "  <tbody>\n",
       "    <tr>\n",
       "      <th>0</th>\n",
       "      <td>5391.21</td>\n",
       "      <td>372.0</td>\n",
       "      <td>297.0</td>\n",
       "      <td>17.000000</td>\n",
       "      <td>40.0</td>\n",
       "    </tr>\n",
       "    <tr>\n",
       "      <th>1</th>\n",
       "      <td>3232.59</td>\n",
       "      <td>56.0</td>\n",
       "      <td>171.0</td>\n",
       "      <td>0.028302</td>\n",
       "      <td>35.0</td>\n",
       "    </tr>\n",
       "    <tr>\n",
       "      <th>2</th>\n",
       "      <td>6705.38</td>\n",
       "      <td>2.0</td>\n",
       "      <td>232.0</td>\n",
       "      <td>0.040323</td>\n",
       "      <td>50.0</td>\n",
       "    </tr>\n",
       "    <tr>\n",
       "      <th>3</th>\n",
       "      <td>948.25</td>\n",
       "      <td>95.0</td>\n",
       "      <td>28.0</td>\n",
       "      <td>0.017921</td>\n",
       "      <td>0.0</td>\n",
       "    </tr>\n",
       "    <tr>\n",
       "      <th>4</th>\n",
       "      <td>876.00</td>\n",
       "      <td>333.0</td>\n",
       "      <td>3.0</td>\n",
       "      <td>0.073171</td>\n",
       "      <td>22.0</td>\n",
       "    </tr>\n",
       "  </tbody>\n",
       "</table>\n",
       "</div>"
      ],
      "text/plain": [
       "   gross_revenue  recency_days  qtde_products  frequency  qtde_returns\n",
       "0        5391.21         372.0          297.0  17.000000          40.0\n",
       "1        3232.59          56.0          171.0   0.028302          35.0\n",
       "2        6705.38           2.0          232.0   0.040323          50.0\n",
       "3         948.25          95.0           28.0   0.017921           0.0\n",
       "4         876.00         333.0            3.0   0.073171          22.0"
      ]
     },
     "execution_count": 30,
     "metadata": {},
     "output_type": "execute_result"
    }
   ],
   "source": [
    "df43.head()"
   ]
  },
  {
   "cell_type": "code",
   "execution_count": 31,
   "id": "bfde53b8",
   "metadata": {},
   "outputs": [],
   "source": [
    " mm = pp.MinMaxScaler()\n",
    "\n",
    "df43['gross_revenue'] = mm.fit_transform( df43[['gross_revenue']] )\n",
    "df43['recency_days']  = mm.fit_transform( df43[['recency_days']] )\n",
    "df43['qtde_products'] = mm.fit_transform( df43[['qtde_products']])\n",
    "df43['frequency']     = mm.fit_transform( df43[['frequency']])\n",
    "df43['qtde_returns']  = mm.fit_transform( df43[['qtde_returns']])\n",
    "\n",
    "X = df43.copy()"
   ]
  },
  {
   "cell_type": "code",
   "execution_count": 32,
   "id": "7fc8b618",
   "metadata": {},
   "outputs": [
    {
     "data": {
      "text/plain": [
       "(5695, 5)"
      ]
     },
     "execution_count": 32,
     "metadata": {},
     "output_type": "execute_result"
    }
   ],
   "source": [
    "X.shape"
   ]
  },
  {
   "cell_type": "markdown",
   "id": "0d4a36a0",
   "metadata": {},
   "source": [
    "### 4.3.1. PCA"
   ]
  },
  {
   "cell_type": "code",
   "execution_count": 33,
   "id": "6880e609",
   "metadata": {},
   "outputs": [
    {
     "data": {
      "image/png": "[encoded data removed]",
      "text/plain": [
       "<Figure size 432x288 with 1 Axes>"
      ]
     },
     "metadata": {
      "needs_background": "light"
     },
     "output_type": "display_data"
    }
   ],
   "source": [
    "pca = dd.PCA( n_components=X.shape[1] )\n",
    "\n",
    "principal_components = pca.fit_transform( X )\n",
    "\n",
    "# plot explained variable\n",
    "features = range( pca.n_components_ )\n",
    "\n",
    "plt.bar( features, pca.explained_variance_ratio_, color='black' )\n",
    "\n",
    "# pca component\n",
    "df_pca = pd.DataFrame( principal_components )"
   ]
  },
  {
   "cell_type": "code",
   "execution_count": 34,
   "id": "4725b739",
   "metadata": {},
   "outputs": [
    {
     "data": {
      "text/plain": [
       "<AxesSubplot:xlabel='0', ylabel='1'>"
      ]
     },
     "execution_count": 34,
     "metadata": {},
     "output_type": "execute_result"
    },
    {
     "data": {
      "image/png": "[encoded data removed]",
      "text/plain": [
       "<Figure size 432x288 with 1 Axes>"
      ]
     },
     "metadata": {
      "needs_background": "light"
     },
     "output_type": "display_data"
    }
   ],
   "source": [
    "sns.scatterplot( x=0, y=1, data=df_pca )"
   ]
  },
  {
   "cell_type": "code",
   "execution_count": 35,
   "id": "dabf9582",
   "metadata": {},
   "outputs": [
    {
     "data": {
      "text/plain": [
       "<AxesSubplot:xlabel='0', ylabel='1'>"
      ]
     },
     "execution_count": 35,
     "metadata": {},
     "output_type": "execute_result"
    },
    {
     "data": {
      "image/png": "[encoded data removed]",
      "text/plain": [
       "<Figure size 432x288 with 1 Axes>"
      ]
     },
     "metadata": {
      "needs_background": "light"
     },
     "output_type": "display_data"
    }
   ],
   "source": [
    "sns.scatterplot( x=0, y=1, data=df_pca )"
   ]
  },
  {
   "cell_type": "markdown",
   "id": "4401a220",
   "metadata": {},
   "source": [
    " ### 4.3.2. UMAP"
   ]
  },
  {
   "cell_type": "code",
   "execution_count": 36,
   "id": "f4db942a",
   "metadata": {},
   "outputs": [
    {
     "data": {
      "text/plain": [
       "<AxesSubplot:xlabel='embedding_x', ylabel='embedding_y'>"
      ]
     },
     "execution_count": 36,
     "metadata": {},
     "output_type": "execute_result"
    },
    {
     "data": {
      "image/png": "[encoded data removed]",
      "text/plain": [
       "<Figure size 432x288 with 1 Axes>"
      ]
     },
     "metadata": {
      "needs_background": "light"
     },
     "output_type": "display_data"
    }
   ],
   "source": [
    " reducer = umap.UMAP( random_state=42 )\n",
    "embedding = reducer.fit_transform( X )\n",
    "\n",
    "# embedding\n",
    "df_umap = pd.DataFrame()\n",
    "df_umap['embedding_x'] = embedding[:, 0]\n",
    "df_umap['embedding_y'] = embedding[:, 1]\n",
    "\n",
    "# plot UMAP\n",
    "sns.scatterplot( x='embedding_x', \n",
    "                 y='embedding_y', \n",
    "                 data=df_umap )"
   ]
  },
  {
   "cell_type": "markdown",
   "id": "e8383103",
   "metadata": {},
   "source": [
    " ### 4.3.3. t-SNE"
   ]
  },
  {
   "cell_type": "code",
   "execution_count": 37,
   "id": "57fd5252",
   "metadata": {},
   "outputs": [
    {
     "name": "stderr",
     "output_type": "stream",
     "text": [
      "C:\\Users\\dml1wfe\\repos\\envs\\pa005_insiders_clustering\\lib\\site-packages\\sklearn\\manifold\\_t_sne.py:780: FutureWarning: The default initialization in TSNE will change from 'random' to 'pca' in 1.2.\n",
      "  warnings.warn(\n",
      "C:\\Users\\dml1wfe\\repos\\envs\\pa005_insiders_clustering\\lib\\site-packages\\sklearn\\manifold\\_t_sne.py:790: FutureWarning: The default learning rate in TSNE will change from 200.0 to 'auto' in 1.2.\n",
      "  warnings.warn(\n"
     ]
    },
    {
     "data": {
      "text/plain": [
       "<AxesSubplot:xlabel='embedding_x', ylabel='embedding_y'>"
      ]
     },
     "execution_count": 37,
     "metadata": {},
     "output_type": "execute_result"
    },
    {
     "data": {
      "image/png": "[encoded data removed]",
      "text/plain": [
       "<Figure size 432x288 with 1 Axes>"
      ]
     },
     "metadata": {
      "needs_background": "light"
     },
     "output_type": "display_data"
    }
   ],
   "source": [
    "reducer = mn.TSNE( n_components=2, n_jobs=-1, random_state=42 )\n",
    "embedding = reducer.fit_transform( X )\n",
    "\n",
    "# embedding\n",
    "df_tsne = pd.DataFrame()\n",
    "df_tsne['embedding_x'] = embedding[:, 0]\n",
    "df_tsne['embedding_y'] = embedding[:, 1]\n",
    "\n",
    "# plot UMAP\n",
    "sns.scatterplot( x='embedding_x', \n",
    "                 y='embedding_y', \n",
    "                 data=df_tsne )"
   ]
  },
  {
   "cell_type": "markdown",
   "id": "709c971b",
   "metadata": {},
   "source": [
    "### 4.3.4 Tree-Based Embedding"
   ]
  },
  {
   "cell_type": "code",
   "execution_count": 38,
   "id": "8e428868",
   "metadata": {},
   "outputs": [],
   "source": [
    " # training dataset\n",
    "X = df43.drop( columns=['gross_revenue'], axis=1 )\n",
    "y = df43['gross_revenue']\n",
    "\n",
    "# model definition\n",
    "rf_model = en.RandomForestRegressor( n_estimators=100, random_state=42 )\n",
    "\n",
    "# model training\n",
    "rf_model.fit( X, y )\n",
    "\n",
    "# Leaf \n",
    "df_leaf = pd.DataFrame( rf_model.apply( X ) )\n"
   ]
  },
  {
   "cell_type": "code",
   "execution_count": 39,
   "id": "556ba257",
   "metadata": {},
   "outputs": [
    {
     "name": "stderr",
     "output_type": "stream",
     "text": [
      "C:\\Users\\dml1wfe\\repos\\envs\\pa005_insiders_clustering\\lib\\site-packages\\sklearn\\manifold\\_spectral_embedding.py:260: UserWarning: Graph is not fully connected, spectral embedding may not work as expected.\n",
      "  warnings.warn(\n"
     ]
    },
    {
     "data": {
      "text/plain": [
       "<AxesSubplot:xlabel='embedding_x', ylabel='embedding_y'>"
      ]
     },
     "execution_count": 39,
     "metadata": {},
     "output_type": "execute_result"
    },
    {
     "data": {
      "image/png": "[encoded data removed]",
      "text/plain": [
       "<Figure size 432x288 with 1 Axes>"
      ]
     },
     "metadata": {
      "needs_background": "light"
     },
     "output_type": "display_data"
    }
   ],
   "source": [
    "# Reduzer dimensionality\n",
    "reducer = umap.UMAP( random_state=42 )\n",
    "embedding = reducer.fit_transform( df_leaf )\n",
    "\n",
    "# embedding\n",
    "df_tree = pd.DataFrame()\n",
    "df_tree['embedding_x'] = embedding[:, 0]\n",
    "df_tree['embedding_y'] = embedding[:, 1]\n",
    "\n",
    "# plot UMAP\n",
    "sns.scatterplot( x='embedding_x', \n",
    "                 y='embedding_y', \n",
    "                 data=df_tree )"
   ]
  },
  {
   "cell_type": "markdown",
   "id": "0ceb9a33",
   "metadata": {},
   "source": [
    " ## 5.0. Data Preparation"
   ]
  },
  {
   "cell_type": "code",
   "execution_count": 40,
   "id": "2dfcb576",
   "metadata": {},
   "outputs": [],
   "source": [
    "# Tree-Based Embedding\n",
    "df5 = df_tree.copy()\n",
    "df5.to_csv('../src/data/tree_based_embedding.csv', index = False)\n",
    "\n",
    "\n",
    "# UMAP Embedding\n",
    "#df5 = df_umap.copy()\n",
    "\n",
    "# TSNE Embedding\n",
    "#df5 = df_tsne.copy()"
   ]
  },
  {
   "cell_type": "markdown",
   "id": "b7cc5d79",
   "metadata": {},
   "source": [
    "#  7.0 - Hyperparameter Fine-Tunning"
   ]
  },
  {
   "cell_type": "code",
   "execution_count": 41,
   "id": "1b5e95cb",
   "metadata": {},
   "outputs": [],
   "source": [
    "X = df5.copy()"
   ]
  },
  {
   "cell_type": "code",
   "execution_count": 42,
   "id": "a40c2ddf",
   "metadata": {},
   "outputs": [
    {
     "data": {
      "text/html": [
       "<div>\n",
       "<style scoped>\n",
       "    .dataframe tbody tr th:only-of-type {\n",
       "        vertical-align: middle;\n",
       "    }\n",
       "\n",
       "    .dataframe tbody tr th {\n",
       "        vertical-align: top;\n",
       "    }\n",
       "\n",
       "    .dataframe thead th {\n",
       "        text-align: right;\n",
       "    }\n",
       "</style>\n",
       "<table border=\"1\" class=\"dataframe\">\n",
       "  <thead>\n",
       "    <tr style=\"text-align: right;\">\n",
       "      <th></th>\n",
       "      <th>embedding_x</th>\n",
       "      <th>embedding_y</th>\n",
       "    </tr>\n",
       "  </thead>\n",
       "  <tbody>\n",
       "    <tr>\n",
       "      <th>0</th>\n",
       "      <td>6.101183</td>\n",
       "      <td>9.462905</td>\n",
       "    </tr>\n",
       "    <tr>\n",
       "      <th>1</th>\n",
       "      <td>7.863738</td>\n",
       "      <td>7.297892</td>\n",
       "    </tr>\n",
       "    <tr>\n",
       "      <th>2</th>\n",
       "      <td>6.118375</td>\n",
       "      <td>8.821128</td>\n",
       "    </tr>\n",
       "    <tr>\n",
       "      <th>3</th>\n",
       "      <td>-3.336483</td>\n",
       "      <td>-2.578328</td>\n",
       "    </tr>\n",
       "    <tr>\n",
       "      <th>4</th>\n",
       "      <td>-7.924327</td>\n",
       "      <td>-9.996942</td>\n",
       "    </tr>\n",
       "  </tbody>\n",
       "</table>\n",
       "</div>"
      ],
      "text/plain": [
       "   embedding_x  embedding_y\n",
       "0     6.101183     9.462905\n",
       "1     7.863738     7.297892\n",
       "2     6.118375     8.821128\n",
       "3    -3.336483    -2.578328\n",
       "4    -7.924327    -9.996942"
      ]
     },
     "execution_count": 42,
     "metadata": {},
     "output_type": "execute_result"
    }
   ],
   "source": [
    "X.head()"
   ]
  },
  {
   "cell_type": "markdown",
   "id": "b3bd3e8e",
   "metadata": {},
   "source": [
    "## 7.1. K-Means"
   ]
  },
  {
   "cell_type": "code",
   "execution_count": 43,
   "id": "43f7b844",
   "metadata": {},
   "outputs": [
    {
     "data": {
      "text/plain": [
       "array([ 2,  3,  4,  5,  6,  7,  8,  9, 10, 11, 12, 13, 14, 15, 16, 17, 18,\n",
       "       19, 20, 21, 22, 23, 24])"
      ]
     },
     "execution_count": 43,
     "metadata": {},
     "output_type": "execute_result"
    }
   ],
   "source": [
    "#clusters = [2, 3, 4, 5, 6, 7, 8, 9]\n",
    "clusters = np.arange( 2, 25, 1)\n",
    "clusters"
   ]
  },
  {
   "cell_type": "code",
   "execution_count": 44,
   "id": "573b216c",
   "metadata": {},
   "outputs": [],
   "source": [
    "kmeans_list = []\n",
    "for k in clusters:\n",
    "    # model definition\n",
    "    kmeans_model = c.KMeans( n_clusters=k, n_init=100, random_state=42 )\n",
    "\n",
    "    # model training\n",
    "    kmeans_model.fit( X )\n",
    "\n",
    "    # model predict\n",
    "    labels = kmeans_model.predict( X )\n",
    "\n",
    "    # model performance\n",
    "    sil = m.silhouette_score( X, labels, metric='euclidean' )\n",
    "    kmeans_list.append( sil )"
   ]
  },
  {
   "cell_type": "code",
   "execution_count": 45,
   "id": "35dbfdba",
   "metadata": {},
   "outputs": [
    {
     "data": {
      "image/png": "[encoded data removed]",
      "text/plain": [
       "<Figure size 432x288 with 1 Axes>"
      ]
     },
     "metadata": {
      "needs_background": "light"
     },
     "output_type": "display_data"
    }
   ],
   "source": [
    "plt.plot( clusters, kmeans_list, linestyle='--', marker='o', color='b' )\n",
    "plt.xlabel( 'K' );\n",
    "plt.ylabel( 'Silhouette Score' );\n",
    "plt.title( 'Silhouette Score x K' );"
   ]
  },
  {
   "cell_type": "markdown",
   "id": "393cc187",
   "metadata": {},
   "source": [
    "## 7.2. GMM"
   ]
  },
  {
   "cell_type": "code",
   "execution_count": 46,
   "id": "28b937a8",
   "metadata": {},
   "outputs": [],
   "source": [
    "gmm_list = []\n",
    "for k in clusters:\n",
    "    # model definition\n",
    "    gmm_model = mx.GaussianMixture( n_components=k, n_init=10, random_state=42 )\n",
    "\n",
    "    # model training\n",
    "    gmm_model.fit( X )\n",
    "\n",
    "    # model predict\n",
    "    labels = gmm_model.predict( X )\n",
    "\n",
    "    # model performance\n",
    "    sil = m.silhouette_score( X, labels, metric='euclidean' )\n",
    "    gmm_list.append( sil )"
   ]
  },
  {
   "cell_type": "code",
   "execution_count": 47,
   "id": "b028f701",
   "metadata": {},
   "outputs": [
    {
     "data": {
      "image/png": "[encoded data removed]",
      "text/plain": [
       "<Figure size 432x288 with 1 Axes>"
      ]
     },
     "metadata": {
      "needs_background": "light"
     },
     "output_type": "display_data"
    }
   ],
   "source": [
    "plt.plot( clusters, gmm_list, linestyle='--', marker='o', color='b' )\n",
    "plt.xlabel( 'k');\n",
    "plt.ylabel( 'Silhouette Score');\n",
    "plt.title( 'Sil x K');"
   ]
  },
  {
   "cell_type": "markdown",
   "id": "095c9632",
   "metadata": {},
   "source": [
    " ### 7.3. Hierarchical Clustering"
   ]
  },
  {
   "cell_type": "code",
   "execution_count": 48,
   "id": "ccae81b7",
   "metadata": {},
   "outputs": [],
   "source": [
    "hc_list = []\n",
    "for k in clusters:\n",
    "    # model definition & training\n",
    "    hc_model = hc.linkage( X, 'ward' )\n",
    "\n",
    "    # model predict\n",
    "    labels = hc.fcluster( hc_model, k, criterion='maxclust' )\n",
    "\n",
    "    # metrics\n",
    "    sil = m.silhouette_score( X, labels, metric='euclidean' )\n",
    "    hc_list.append( sil )"
   ]
  },
  {
   "cell_type": "code",
   "execution_count": 49,
   "id": "b2484e30",
   "metadata": {},
   "outputs": [
    {
     "data": {
      "text/plain": [
       "[<matplotlib.lines.Line2D at 0x1c4484e81c0>]"
      ]
     },
     "execution_count": 49,
     "metadata": {},
     "output_type": "execute_result"
    },
    {
     "data": {
      "image/png": "[encoded data removed]",
      "text/plain": [
       "<Figure size 432x288 with 1 Axes>"
      ]
     },
     "metadata": {
      "needs_background": "light"
     },
     "output_type": "display_data"
    }
   ],
   "source": [
    "plt.plot( clusters,  hc_list, linestyle='--', marker='o', color='b' )"
   ]
  },
  {
   "cell_type": "code",
   "execution_count": 50,
   "id": "52950c98",
   "metadata": {},
   "outputs": [
    {
     "data": {
      "text/html": [
       "<style type=\"text/css\">\n",
       "#T_cf3cc_row0_col22, #T_cf3cc_row1_col21, #T_cf3cc_row2_col21 {\n",
       "  background-color: lightgreen;\n",
       "}\n",
       "</style>\n",
       "<table id=\"T_cf3cc_\">\n",
       "  <thead>\n",
       "    <tr>\n",
       "      <th class=\"blank level0\" >&nbsp;</th>\n",
       "      <th class=\"col_heading level0 col0\" >2</th>\n",
       "      <th class=\"col_heading level0 col1\" >3</th>\n",
       "      <th class=\"col_heading level0 col2\" >4</th>\n",
       "      <th class=\"col_heading level0 col3\" >5</th>\n",
       "      <th class=\"col_heading level0 col4\" >6</th>\n",
       "      <th class=\"col_heading level0 col5\" >7</th>\n",
       "      <th class=\"col_heading level0 col6\" >8</th>\n",
       "      <th class=\"col_heading level0 col7\" >9</th>\n",
       "      <th class=\"col_heading level0 col8\" >10</th>\n",
       "      <th class=\"col_heading level0 col9\" >11</th>\n",
       "      <th class=\"col_heading level0 col10\" >12</th>\n",
       "      <th class=\"col_heading level0 col11\" >13</th>\n",
       "      <th class=\"col_heading level0 col12\" >14</th>\n",
       "      <th class=\"col_heading level0 col13\" >15</th>\n",
       "      <th class=\"col_heading level0 col14\" >16</th>\n",
       "      <th class=\"col_heading level0 col15\" >17</th>\n",
       "      <th class=\"col_heading level0 col16\" >18</th>\n",
       "      <th class=\"col_heading level0 col17\" >19</th>\n",
       "      <th class=\"col_heading level0 col18\" >20</th>\n",
       "      <th class=\"col_heading level0 col19\" >21</th>\n",
       "      <th class=\"col_heading level0 col20\" >22</th>\n",
       "      <th class=\"col_heading level0 col21\" >23</th>\n",
       "      <th class=\"col_heading level0 col22\" >24</th>\n",
       "    </tr>\n",
       "  </thead>\n",
       "  <tbody>\n",
       "    <tr>\n",
       "      <th id=\"T_cf3cc_level0_row0\" class=\"row_heading level0 row0\" >KMeans</th>\n",
       "      <td id=\"T_cf3cc_row0_col0\" class=\"data row0 col0\" >0.370563</td>\n",
       "      <td id=\"T_cf3cc_row0_col1\" class=\"data row0 col1\" >0.388131</td>\n",
       "      <td id=\"T_cf3cc_row0_col2\" class=\"data row0 col2\" >0.398649</td>\n",
       "      <td id=\"T_cf3cc_row0_col3\" class=\"data row0 col3\" >0.399331</td>\n",
       "      <td id=\"T_cf3cc_row0_col4\" class=\"data row0 col4\" >0.429269</td>\n",
       "      <td id=\"T_cf3cc_row0_col5\" class=\"data row0 col5\" >0.429790</td>\n",
       "      <td id=\"T_cf3cc_row0_col6\" class=\"data row0 col6\" >0.447445</td>\n",
       "      <td id=\"T_cf3cc_row0_col7\" class=\"data row0 col7\" >0.455847</td>\n",
       "      <td id=\"T_cf3cc_row0_col8\" class=\"data row0 col8\" >0.469049</td>\n",
       "      <td id=\"T_cf3cc_row0_col9\" class=\"data row0 col9\" >0.467551</td>\n",
       "      <td id=\"T_cf3cc_row0_col10\" class=\"data row0 col10\" >0.490124</td>\n",
       "      <td id=\"T_cf3cc_row0_col11\" class=\"data row0 col11\" >0.495109</td>\n",
       "      <td id=\"T_cf3cc_row0_col12\" class=\"data row0 col12\" >0.515378</td>\n",
       "      <td id=\"T_cf3cc_row0_col13\" class=\"data row0 col13\" >0.517037</td>\n",
       "      <td id=\"T_cf3cc_row0_col14\" class=\"data row0 col14\" >0.521061</td>\n",
       "      <td id=\"T_cf3cc_row0_col15\" class=\"data row0 col15\" >0.530007</td>\n",
       "      <td id=\"T_cf3cc_row0_col16\" class=\"data row0 col16\" >0.538123</td>\n",
       "      <td id=\"T_cf3cc_row0_col17\" class=\"data row0 col17\" >0.551899</td>\n",
       "      <td id=\"T_cf3cc_row0_col18\" class=\"data row0 col18\" >0.559177</td>\n",
       "      <td id=\"T_cf3cc_row0_col19\" class=\"data row0 col19\" >0.555537</td>\n",
       "      <td id=\"T_cf3cc_row0_col20\" class=\"data row0 col20\" >0.564450</td>\n",
       "      <td id=\"T_cf3cc_row0_col21\" class=\"data row0 col21\" >0.568869</td>\n",
       "      <td id=\"T_cf3cc_row0_col22\" class=\"data row0 col22\" >0.572114</td>\n",
       "    </tr>\n",
       "    <tr>\n",
       "      <th id=\"T_cf3cc_level0_row1\" class=\"row_heading level0 row1\" >GMM</th>\n",
       "      <td id=\"T_cf3cc_row1_col0\" class=\"data row1 col0\" >0.356761</td>\n",
       "      <td id=\"T_cf3cc_row1_col1\" class=\"data row1 col1\" >0.283936</td>\n",
       "      <td id=\"T_cf3cc_row1_col2\" class=\"data row1 col2\" >0.341878</td>\n",
       "      <td id=\"T_cf3cc_row1_col3\" class=\"data row1 col3\" >0.335998</td>\n",
       "      <td id=\"T_cf3cc_row1_col4\" class=\"data row1 col4\" >0.307511</td>\n",
       "      <td id=\"T_cf3cc_row1_col5\" class=\"data row1 col5\" >0.303935</td>\n",
       "      <td id=\"T_cf3cc_row1_col6\" class=\"data row1 col6\" >0.363726</td>\n",
       "      <td id=\"T_cf3cc_row1_col7\" class=\"data row1 col7\" >0.367176</td>\n",
       "      <td id=\"T_cf3cc_row1_col8\" class=\"data row1 col8\" >0.384582</td>\n",
       "      <td id=\"T_cf3cc_row1_col9\" class=\"data row1 col9\" >0.408581</td>\n",
       "      <td id=\"T_cf3cc_row1_col10\" class=\"data row1 col10\" >0.410421</td>\n",
       "      <td id=\"T_cf3cc_row1_col11\" class=\"data row1 col11\" >0.409902</td>\n",
       "      <td id=\"T_cf3cc_row1_col12\" class=\"data row1 col12\" >0.454529</td>\n",
       "      <td id=\"T_cf3cc_row1_col13\" class=\"data row1 col13\" >0.430248</td>\n",
       "      <td id=\"T_cf3cc_row1_col14\" class=\"data row1 col14\" >0.478369</td>\n",
       "      <td id=\"T_cf3cc_row1_col15\" class=\"data row1 col15\" >0.452812</td>\n",
       "      <td id=\"T_cf3cc_row1_col16\" class=\"data row1 col16\" >0.470576</td>\n",
       "      <td id=\"T_cf3cc_row1_col17\" class=\"data row1 col17\" >0.490628</td>\n",
       "      <td id=\"T_cf3cc_row1_col18\" class=\"data row1 col18\" >0.513236</td>\n",
       "      <td id=\"T_cf3cc_row1_col19\" class=\"data row1 col19\" >0.517184</td>\n",
       "      <td id=\"T_cf3cc_row1_col20\" class=\"data row1 col20\" >0.527556</td>\n",
       "      <td id=\"T_cf3cc_row1_col21\" class=\"data row1 col21\" >0.536041</td>\n",
       "      <td id=\"T_cf3cc_row1_col22\" class=\"data row1 col22\" >0.528404</td>\n",
       "    </tr>\n",
       "    <tr>\n",
       "      <th id=\"T_cf3cc_level0_row2\" class=\"row_heading level0 row2\" >HC</th>\n",
       "      <td id=\"T_cf3cc_row2_col0\" class=\"data row2 col0\" >0.343521</td>\n",
       "      <td id=\"T_cf3cc_row2_col1\" class=\"data row2 col1\" >0.334899</td>\n",
       "      <td id=\"T_cf3cc_row2_col2\" class=\"data row2 col2\" >0.349118</td>\n",
       "      <td id=\"T_cf3cc_row2_col3\" class=\"data row2 col3\" >0.366536</td>\n",
       "      <td id=\"T_cf3cc_row2_col4\" class=\"data row2 col4\" >0.373620</td>\n",
       "      <td id=\"T_cf3cc_row2_col5\" class=\"data row2 col5\" >0.402449</td>\n",
       "      <td id=\"T_cf3cc_row2_col6\" class=\"data row2 col6\" >0.424188</td>\n",
       "      <td id=\"T_cf3cc_row2_col7\" class=\"data row2 col7\" >0.434895</td>\n",
       "      <td id=\"T_cf3cc_row2_col8\" class=\"data row2 col8\" >0.449551</td>\n",
       "      <td id=\"T_cf3cc_row2_col9\" class=\"data row2 col9\" >0.459316</td>\n",
       "      <td id=\"T_cf3cc_row2_col10\" class=\"data row2 col10\" >0.470041</td>\n",
       "      <td id=\"T_cf3cc_row2_col11\" class=\"data row2 col11\" >0.473088</td>\n",
       "      <td id=\"T_cf3cc_row2_col12\" class=\"data row2 col12\" >0.483060</td>\n",
       "      <td id=\"T_cf3cc_row2_col13\" class=\"data row2 col13\" >0.485052</td>\n",
       "      <td id=\"T_cf3cc_row2_col14\" class=\"data row2 col14\" >0.503703</td>\n",
       "      <td id=\"T_cf3cc_row2_col15\" class=\"data row2 col15\" >0.514538</td>\n",
       "      <td id=\"T_cf3cc_row2_col16\" class=\"data row2 col16\" >0.521971</td>\n",
       "      <td id=\"T_cf3cc_row2_col17\" class=\"data row2 col17\" >0.542487</td>\n",
       "      <td id=\"T_cf3cc_row2_col18\" class=\"data row2 col18\" >0.555071</td>\n",
       "      <td id=\"T_cf3cc_row2_col19\" class=\"data row2 col19\" >0.557071</td>\n",
       "      <td id=\"T_cf3cc_row2_col20\" class=\"data row2 col20\" >0.564033</td>\n",
       "      <td id=\"T_cf3cc_row2_col21\" class=\"data row2 col21\" >0.566932</td>\n",
       "      <td id=\"T_cf3cc_row2_col22\" class=\"data row2 col22\" >0.563714</td>\n",
       "    </tr>\n",
       "  </tbody>\n",
       "</table>\n"
      ],
      "text/plain": [
       "<pandas.io.formats.style.Styler at 0x1c439e4a040>"
      ]
     },
     "execution_count": 50,
     "metadata": {},
     "output_type": "execute_result"
    }
   ],
   "source": [
    "## 7.5. Results - Tree Based Embedding\n",
    "\n",
    "df_results = pd.DataFrame( \n",
    "    {'KMeans': kmeans_list, \n",
    "     'GMM': gmm_list, \n",
    "     'HC': hc_list}\n",
    ").T\n",
    "\n",
    "df_results.columns = clusters\n",
    "df_results.style.highlight_max( color='lightgreen', axis=1 )"
   ]
  },
  {
   "cell_type": "code",
   "execution_count": 51,
   "id": "160b1ea8",
   "metadata": {},
   "outputs": [
    {
     "data": {
      "text/html": [
       "<style type=\"text/css\">\n",
       "#T_9be99_row0_col22, #T_9be99_row1_col21, #T_9be99_row2_col21 {\n",
       "  background-color: lightgreen;\n",
       "}\n",
       "</style>\n",
       "<table id=\"T_9be99_\">\n",
       "  <thead>\n",
       "    <tr>\n",
       "      <th class=\"blank level0\" >&nbsp;</th>\n",
       "      <th class=\"col_heading level0 col0\" >2</th>\n",
       "      <th class=\"col_heading level0 col1\" >3</th>\n",
       "      <th class=\"col_heading level0 col2\" >4</th>\n",
       "      <th class=\"col_heading level0 col3\" >5</th>\n",
       "      <th class=\"col_heading level0 col4\" >6</th>\n",
       "      <th class=\"col_heading level0 col5\" >7</th>\n",
       "      <th class=\"col_heading level0 col6\" >8</th>\n",
       "      <th class=\"col_heading level0 col7\" >9</th>\n",
       "      <th class=\"col_heading level0 col8\" >10</th>\n",
       "      <th class=\"col_heading level0 col9\" >11</th>\n",
       "      <th class=\"col_heading level0 col10\" >12</th>\n",
       "      <th class=\"col_heading level0 col11\" >13</th>\n",
       "      <th class=\"col_heading level0 col12\" >14</th>\n",
       "      <th class=\"col_heading level0 col13\" >15</th>\n",
       "      <th class=\"col_heading level0 col14\" >16</th>\n",
       "      <th class=\"col_heading level0 col15\" >17</th>\n",
       "      <th class=\"col_heading level0 col16\" >18</th>\n",
       "      <th class=\"col_heading level0 col17\" >19</th>\n",
       "      <th class=\"col_heading level0 col18\" >20</th>\n",
       "      <th class=\"col_heading level0 col19\" >21</th>\n",
       "      <th class=\"col_heading level0 col20\" >22</th>\n",
       "      <th class=\"col_heading level0 col21\" >23</th>\n",
       "      <th class=\"col_heading level0 col22\" >24</th>\n",
       "    </tr>\n",
       "  </thead>\n",
       "  <tbody>\n",
       "    <tr>\n",
       "      <th id=\"T_9be99_level0_row0\" class=\"row_heading level0 row0\" >KMeans</th>\n",
       "      <td id=\"T_9be99_row0_col0\" class=\"data row0 col0\" >0.370563</td>\n",
       "      <td id=\"T_9be99_row0_col1\" class=\"data row0 col1\" >0.388131</td>\n",
       "      <td id=\"T_9be99_row0_col2\" class=\"data row0 col2\" >0.398649</td>\n",
       "      <td id=\"T_9be99_row0_col3\" class=\"data row0 col3\" >0.399331</td>\n",
       "      <td id=\"T_9be99_row0_col4\" class=\"data row0 col4\" >0.429269</td>\n",
       "      <td id=\"T_9be99_row0_col5\" class=\"data row0 col5\" >0.429790</td>\n",
       "      <td id=\"T_9be99_row0_col6\" class=\"data row0 col6\" >0.447445</td>\n",
       "      <td id=\"T_9be99_row0_col7\" class=\"data row0 col7\" >0.455847</td>\n",
       "      <td id=\"T_9be99_row0_col8\" class=\"data row0 col8\" >0.469049</td>\n",
       "      <td id=\"T_9be99_row0_col9\" class=\"data row0 col9\" >0.467551</td>\n",
       "      <td id=\"T_9be99_row0_col10\" class=\"data row0 col10\" >0.490124</td>\n",
       "      <td id=\"T_9be99_row0_col11\" class=\"data row0 col11\" >0.495109</td>\n",
       "      <td id=\"T_9be99_row0_col12\" class=\"data row0 col12\" >0.515378</td>\n",
       "      <td id=\"T_9be99_row0_col13\" class=\"data row0 col13\" >0.517037</td>\n",
       "      <td id=\"T_9be99_row0_col14\" class=\"data row0 col14\" >0.521061</td>\n",
       "      <td id=\"T_9be99_row0_col15\" class=\"data row0 col15\" >0.530007</td>\n",
       "      <td id=\"T_9be99_row0_col16\" class=\"data row0 col16\" >0.538123</td>\n",
       "      <td id=\"T_9be99_row0_col17\" class=\"data row0 col17\" >0.551899</td>\n",
       "      <td id=\"T_9be99_row0_col18\" class=\"data row0 col18\" >0.559177</td>\n",
       "      <td id=\"T_9be99_row0_col19\" class=\"data row0 col19\" >0.555537</td>\n",
       "      <td id=\"T_9be99_row0_col20\" class=\"data row0 col20\" >0.564450</td>\n",
       "      <td id=\"T_9be99_row0_col21\" class=\"data row0 col21\" >0.568869</td>\n",
       "      <td id=\"T_9be99_row0_col22\" class=\"data row0 col22\" >0.572114</td>\n",
       "    </tr>\n",
       "    <tr>\n",
       "      <th id=\"T_9be99_level0_row1\" class=\"row_heading level0 row1\" >GMM</th>\n",
       "      <td id=\"T_9be99_row1_col0\" class=\"data row1 col0\" >0.356761</td>\n",
       "      <td id=\"T_9be99_row1_col1\" class=\"data row1 col1\" >0.283936</td>\n",
       "      <td id=\"T_9be99_row1_col2\" class=\"data row1 col2\" >0.341878</td>\n",
       "      <td id=\"T_9be99_row1_col3\" class=\"data row1 col3\" >0.335998</td>\n",
       "      <td id=\"T_9be99_row1_col4\" class=\"data row1 col4\" >0.307511</td>\n",
       "      <td id=\"T_9be99_row1_col5\" class=\"data row1 col5\" >0.303935</td>\n",
       "      <td id=\"T_9be99_row1_col6\" class=\"data row1 col6\" >0.363726</td>\n",
       "      <td id=\"T_9be99_row1_col7\" class=\"data row1 col7\" >0.367176</td>\n",
       "      <td id=\"T_9be99_row1_col8\" class=\"data row1 col8\" >0.384582</td>\n",
       "      <td id=\"T_9be99_row1_col9\" class=\"data row1 col9\" >0.408581</td>\n",
       "      <td id=\"T_9be99_row1_col10\" class=\"data row1 col10\" >0.410421</td>\n",
       "      <td id=\"T_9be99_row1_col11\" class=\"data row1 col11\" >0.409902</td>\n",
       "      <td id=\"T_9be99_row1_col12\" class=\"data row1 col12\" >0.454529</td>\n",
       "      <td id=\"T_9be99_row1_col13\" class=\"data row1 col13\" >0.430248</td>\n",
       "      <td id=\"T_9be99_row1_col14\" class=\"data row1 col14\" >0.478369</td>\n",
       "      <td id=\"T_9be99_row1_col15\" class=\"data row1 col15\" >0.452812</td>\n",
       "      <td id=\"T_9be99_row1_col16\" class=\"data row1 col16\" >0.470576</td>\n",
       "      <td id=\"T_9be99_row1_col17\" class=\"data row1 col17\" >0.490628</td>\n",
       "      <td id=\"T_9be99_row1_col18\" class=\"data row1 col18\" >0.513236</td>\n",
       "      <td id=\"T_9be99_row1_col19\" class=\"data row1 col19\" >0.517184</td>\n",
       "      <td id=\"T_9be99_row1_col20\" class=\"data row1 col20\" >0.527556</td>\n",
       "      <td id=\"T_9be99_row1_col21\" class=\"data row1 col21\" >0.536041</td>\n",
       "      <td id=\"T_9be99_row1_col22\" class=\"data row1 col22\" >0.528404</td>\n",
       "    </tr>\n",
       "    <tr>\n",
       "      <th id=\"T_9be99_level0_row2\" class=\"row_heading level0 row2\" >HC</th>\n",
       "      <td id=\"T_9be99_row2_col0\" class=\"data row2 col0\" >0.343521</td>\n",
       "      <td id=\"T_9be99_row2_col1\" class=\"data row2 col1\" >0.334899</td>\n",
       "      <td id=\"T_9be99_row2_col2\" class=\"data row2 col2\" >0.349118</td>\n",
       "      <td id=\"T_9be99_row2_col3\" class=\"data row2 col3\" >0.366536</td>\n",
       "      <td id=\"T_9be99_row2_col4\" class=\"data row2 col4\" >0.373620</td>\n",
       "      <td id=\"T_9be99_row2_col5\" class=\"data row2 col5\" >0.402449</td>\n",
       "      <td id=\"T_9be99_row2_col6\" class=\"data row2 col6\" >0.424188</td>\n",
       "      <td id=\"T_9be99_row2_col7\" class=\"data row2 col7\" >0.434895</td>\n",
       "      <td id=\"T_9be99_row2_col8\" class=\"data row2 col8\" >0.449551</td>\n",
       "      <td id=\"T_9be99_row2_col9\" class=\"data row2 col9\" >0.459316</td>\n",
       "      <td id=\"T_9be99_row2_col10\" class=\"data row2 col10\" >0.470041</td>\n",
       "      <td id=\"T_9be99_row2_col11\" class=\"data row2 col11\" >0.473088</td>\n",
       "      <td id=\"T_9be99_row2_col12\" class=\"data row2 col12\" >0.483060</td>\n",
       "      <td id=\"T_9be99_row2_col13\" class=\"data row2 col13\" >0.485052</td>\n",
       "      <td id=\"T_9be99_row2_col14\" class=\"data row2 col14\" >0.503703</td>\n",
       "      <td id=\"T_9be99_row2_col15\" class=\"data row2 col15\" >0.514538</td>\n",
       "      <td id=\"T_9be99_row2_col16\" class=\"data row2 col16\" >0.521971</td>\n",
       "      <td id=\"T_9be99_row2_col17\" class=\"data row2 col17\" >0.542487</td>\n",
       "      <td id=\"T_9be99_row2_col18\" class=\"data row2 col18\" >0.555071</td>\n",
       "      <td id=\"T_9be99_row2_col19\" class=\"data row2 col19\" >0.557071</td>\n",
       "      <td id=\"T_9be99_row2_col20\" class=\"data row2 col20\" >0.564033</td>\n",
       "      <td id=\"T_9be99_row2_col21\" class=\"data row2 col21\" >0.566932</td>\n",
       "      <td id=\"T_9be99_row2_col22\" class=\"data row2 col22\" >0.563714</td>\n",
       "    </tr>\n",
       "  </tbody>\n",
       "</table>\n"
      ],
      "text/plain": [
       "<pandas.io.formats.style.Styler at 0x1c44856a2e0>"
      ]
     },
     "execution_count": 51,
     "metadata": {},
     "output_type": "execute_result"
    }
   ],
   "source": [
    "## 7.6. Results - UMAP Embedding\n",
    "\n",
    "df_results = pd.DataFrame( \n",
    "    {'KMeans': kmeans_list, \n",
    "     'GMM': gmm_list, \n",
    "     'HC': hc_list}\n",
    ").T\n",
    "\n",
    "df_results.columns = clusters\n",
    "df_results.style.highlight_max( color='lightgreen', axis=1 )"
   ]
  },
  {
   "cell_type": "code",
   "execution_count": 52,
   "id": "f4b3078e",
   "metadata": {},
   "outputs": [
    {
     "data": {
      "text/html": [
       "<style type=\"text/css\">\n",
       "#T_39d52_row0_col22, #T_39d52_row1_col21, #T_39d52_row2_col21 {\n",
       "  background-color: lightgreen;\n",
       "}\n",
       "</style>\n",
       "<table id=\"T_39d52_\">\n",
       "  <thead>\n",
       "    <tr>\n",
       "      <th class=\"blank level0\" >&nbsp;</th>\n",
       "      <th class=\"col_heading level0 col0\" >2</th>\n",
       "      <th class=\"col_heading level0 col1\" >3</th>\n",
       "      <th class=\"col_heading level0 col2\" >4</th>\n",
       "      <th class=\"col_heading level0 col3\" >5</th>\n",
       "      <th class=\"col_heading level0 col4\" >6</th>\n",
       "      <th class=\"col_heading level0 col5\" >7</th>\n",
       "      <th class=\"col_heading level0 col6\" >8</th>\n",
       "      <th class=\"col_heading level0 col7\" >9</th>\n",
       "      <th class=\"col_heading level0 col8\" >10</th>\n",
       "      <th class=\"col_heading level0 col9\" >11</th>\n",
       "      <th class=\"col_heading level0 col10\" >12</th>\n",
       "      <th class=\"col_heading level0 col11\" >13</th>\n",
       "      <th class=\"col_heading level0 col12\" >14</th>\n",
       "      <th class=\"col_heading level0 col13\" >15</th>\n",
       "      <th class=\"col_heading level0 col14\" >16</th>\n",
       "      <th class=\"col_heading level0 col15\" >17</th>\n",
       "      <th class=\"col_heading level0 col16\" >18</th>\n",
       "      <th class=\"col_heading level0 col17\" >19</th>\n",
       "      <th class=\"col_heading level0 col18\" >20</th>\n",
       "      <th class=\"col_heading level0 col19\" >21</th>\n",
       "      <th class=\"col_heading level0 col20\" >22</th>\n",
       "      <th class=\"col_heading level0 col21\" >23</th>\n",
       "      <th class=\"col_heading level0 col22\" >24</th>\n",
       "    </tr>\n",
       "  </thead>\n",
       "  <tbody>\n",
       "    <tr>\n",
       "      <th id=\"T_39d52_level0_row0\" class=\"row_heading level0 row0\" >KMeans</th>\n",
       "      <td id=\"T_39d52_row0_col0\" class=\"data row0 col0\" >0.370563</td>\n",
       "      <td id=\"T_39d52_row0_col1\" class=\"data row0 col1\" >0.388131</td>\n",
       "      <td id=\"T_39d52_row0_col2\" class=\"data row0 col2\" >0.398649</td>\n",
       "      <td id=\"T_39d52_row0_col3\" class=\"data row0 col3\" >0.399331</td>\n",
       "      <td id=\"T_39d52_row0_col4\" class=\"data row0 col4\" >0.429269</td>\n",
       "      <td id=\"T_39d52_row0_col5\" class=\"data row0 col5\" >0.429790</td>\n",
       "      <td id=\"T_39d52_row0_col6\" class=\"data row0 col6\" >0.447445</td>\n",
       "      <td id=\"T_39d52_row0_col7\" class=\"data row0 col7\" >0.455847</td>\n",
       "      <td id=\"T_39d52_row0_col8\" class=\"data row0 col8\" >0.469049</td>\n",
       "      <td id=\"T_39d52_row0_col9\" class=\"data row0 col9\" >0.467551</td>\n",
       "      <td id=\"T_39d52_row0_col10\" class=\"data row0 col10\" >0.490124</td>\n",
       "      <td id=\"T_39d52_row0_col11\" class=\"data row0 col11\" >0.495109</td>\n",
       "      <td id=\"T_39d52_row0_col12\" class=\"data row0 col12\" >0.515378</td>\n",
       "      <td id=\"T_39d52_row0_col13\" class=\"data row0 col13\" >0.517037</td>\n",
       "      <td id=\"T_39d52_row0_col14\" class=\"data row0 col14\" >0.521061</td>\n",
       "      <td id=\"T_39d52_row0_col15\" class=\"data row0 col15\" >0.530007</td>\n",
       "      <td id=\"T_39d52_row0_col16\" class=\"data row0 col16\" >0.538123</td>\n",
       "      <td id=\"T_39d52_row0_col17\" class=\"data row0 col17\" >0.551899</td>\n",
       "      <td id=\"T_39d52_row0_col18\" class=\"data row0 col18\" >0.559177</td>\n",
       "      <td id=\"T_39d52_row0_col19\" class=\"data row0 col19\" >0.555537</td>\n",
       "      <td id=\"T_39d52_row0_col20\" class=\"data row0 col20\" >0.564450</td>\n",
       "      <td id=\"T_39d52_row0_col21\" class=\"data row0 col21\" >0.568869</td>\n",
       "      <td id=\"T_39d52_row0_col22\" class=\"data row0 col22\" >0.572114</td>\n",
       "    </tr>\n",
       "    <tr>\n",
       "      <th id=\"T_39d52_level0_row1\" class=\"row_heading level0 row1\" >GMM</th>\n",
       "      <td id=\"T_39d52_row1_col0\" class=\"data row1 col0\" >0.356761</td>\n",
       "      <td id=\"T_39d52_row1_col1\" class=\"data row1 col1\" >0.283936</td>\n",
       "      <td id=\"T_39d52_row1_col2\" class=\"data row1 col2\" >0.341878</td>\n",
       "      <td id=\"T_39d52_row1_col3\" class=\"data row1 col3\" >0.335998</td>\n",
       "      <td id=\"T_39d52_row1_col4\" class=\"data row1 col4\" >0.307511</td>\n",
       "      <td id=\"T_39d52_row1_col5\" class=\"data row1 col5\" >0.303935</td>\n",
       "      <td id=\"T_39d52_row1_col6\" class=\"data row1 col6\" >0.363726</td>\n",
       "      <td id=\"T_39d52_row1_col7\" class=\"data row1 col7\" >0.367176</td>\n",
       "      <td id=\"T_39d52_row1_col8\" class=\"data row1 col8\" >0.384582</td>\n",
       "      <td id=\"T_39d52_row1_col9\" class=\"data row1 col9\" >0.408581</td>\n",
       "      <td id=\"T_39d52_row1_col10\" class=\"data row1 col10\" >0.410421</td>\n",
       "      <td id=\"T_39d52_row1_col11\" class=\"data row1 col11\" >0.409902</td>\n",
       "      <td id=\"T_39d52_row1_col12\" class=\"data row1 col12\" >0.454529</td>\n",
       "      <td id=\"T_39d52_row1_col13\" class=\"data row1 col13\" >0.430248</td>\n",
       "      <td id=\"T_39d52_row1_col14\" class=\"data row1 col14\" >0.478369</td>\n",
       "      <td id=\"T_39d52_row1_col15\" class=\"data row1 col15\" >0.452812</td>\n",
       "      <td id=\"T_39d52_row1_col16\" class=\"data row1 col16\" >0.470576</td>\n",
       "      <td id=\"T_39d52_row1_col17\" class=\"data row1 col17\" >0.490628</td>\n",
       "      <td id=\"T_39d52_row1_col18\" class=\"data row1 col18\" >0.513236</td>\n",
       "      <td id=\"T_39d52_row1_col19\" class=\"data row1 col19\" >0.517184</td>\n",
       "      <td id=\"T_39d52_row1_col20\" class=\"data row1 col20\" >0.527556</td>\n",
       "      <td id=\"T_39d52_row1_col21\" class=\"data row1 col21\" >0.536041</td>\n",
       "      <td id=\"T_39d52_row1_col22\" class=\"data row1 col22\" >0.528404</td>\n",
       "    </tr>\n",
       "    <tr>\n",
       "      <th id=\"T_39d52_level0_row2\" class=\"row_heading level0 row2\" >HC</th>\n",
       "      <td id=\"T_39d52_row2_col0\" class=\"data row2 col0\" >0.343521</td>\n",
       "      <td id=\"T_39d52_row2_col1\" class=\"data row2 col1\" >0.334899</td>\n",
       "      <td id=\"T_39d52_row2_col2\" class=\"data row2 col2\" >0.349118</td>\n",
       "      <td id=\"T_39d52_row2_col3\" class=\"data row2 col3\" >0.366536</td>\n",
       "      <td id=\"T_39d52_row2_col4\" class=\"data row2 col4\" >0.373620</td>\n",
       "      <td id=\"T_39d52_row2_col5\" class=\"data row2 col5\" >0.402449</td>\n",
       "      <td id=\"T_39d52_row2_col6\" class=\"data row2 col6\" >0.424188</td>\n",
       "      <td id=\"T_39d52_row2_col7\" class=\"data row2 col7\" >0.434895</td>\n",
       "      <td id=\"T_39d52_row2_col8\" class=\"data row2 col8\" >0.449551</td>\n",
       "      <td id=\"T_39d52_row2_col9\" class=\"data row2 col9\" >0.459316</td>\n",
       "      <td id=\"T_39d52_row2_col10\" class=\"data row2 col10\" >0.470041</td>\n",
       "      <td id=\"T_39d52_row2_col11\" class=\"data row2 col11\" >0.473088</td>\n",
       "      <td id=\"T_39d52_row2_col12\" class=\"data row2 col12\" >0.483060</td>\n",
       "      <td id=\"T_39d52_row2_col13\" class=\"data row2 col13\" >0.485052</td>\n",
       "      <td id=\"T_39d52_row2_col14\" class=\"data row2 col14\" >0.503703</td>\n",
       "      <td id=\"T_39d52_row2_col15\" class=\"data row2 col15\" >0.514538</td>\n",
       "      <td id=\"T_39d52_row2_col16\" class=\"data row2 col16\" >0.521971</td>\n",
       "      <td id=\"T_39d52_row2_col17\" class=\"data row2 col17\" >0.542487</td>\n",
       "      <td id=\"T_39d52_row2_col18\" class=\"data row2 col18\" >0.555071</td>\n",
       "      <td id=\"T_39d52_row2_col19\" class=\"data row2 col19\" >0.557071</td>\n",
       "      <td id=\"T_39d52_row2_col20\" class=\"data row2 col20\" >0.564033</td>\n",
       "      <td id=\"T_39d52_row2_col21\" class=\"data row2 col21\" >0.566932</td>\n",
       "      <td id=\"T_39d52_row2_col22\" class=\"data row2 col22\" >0.563714</td>\n",
       "    </tr>\n",
       "  </tbody>\n",
       "</table>\n"
      ],
      "text/plain": [
       "<pandas.io.formats.style.Styler at 0x1c4487b88b0>"
      ]
     },
     "execution_count": 52,
     "metadata": {},
     "output_type": "execute_result"
    }
   ],
   "source": [
    "## 7.7. Results - TSNE Embedding\n",
    "\n",
    "df_results = pd.DataFrame( \n",
    "    {'KMeans': kmeans_list, \n",
    "     'GMM': gmm_list, \n",
    "     'HC': hc_list}\n",
    ").T\n",
    "\n",
    "df_results.columns = clusters\n",
    "df_results.style.highlight_max( color='lightgreen', axis=1 )"
   ]
  },
  {
   "cell_type": "markdown",
   "id": "428f52dd",
   "metadata": {},
   "source": [
    "#  8.0 - Model Training"
   ]
  },
  {
   "cell_type": "markdown",
   "id": "c84dba9e",
   "metadata": {},
   "source": [
    "## 8.1 - Final Model"
   ]
  },
  {
   "cell_type": "code",
   "execution_count": 53,
   "id": "04ffa941",
   "metadata": {
    "ExecuteTime": {
     "end_time": "2021-11-07T00:34:28.671805Z",
     "start_time": "2021-11-07T00:34:28.519512Z"
    }
   },
   "outputs": [],
   "source": [
    "# model definition\n",
    "k = 8\n",
    "\n",
    "## model definition\n",
    "gmm_model = mx.GaussianMixture( n_components=k, n_init=300, random_state=32 )\n",
    "\n",
    "# model training\n",
    "gmm_model.fit( X )\n",
    "\n",
    "# model predict\n",
    "labels = gmm_model.predict( X )"
   ]
  },
  {
   "cell_type": "markdown",
   "id": "4ac8a942",
   "metadata": {},
   "source": [
    "## 8.2 - Cluster Validation"
   ]
  },
  {
   "cell_type": "code",
   "execution_count": 54,
   "id": "ec7bb632",
   "metadata": {
    "ExecuteTime": {
     "end_time": "2021-11-07T00:36:51.507617Z",
     "start_time": "2021-11-07T00:36:50.984399Z"
    }
   },
   "outputs": [
    {
     "name": "stdout",
     "output_type": "stream",
     "text": [
      "SS value: 0.3917904794216156\n"
     ]
    }
   ],
   "source": [
    "  ## WSS ( Within-cluster sum of square)\n",
    "#print( 'WSS value: {}'.format( kmeans.inertia_ ) )\n",
    "\n",
    "## SS ( Silhouette Score )\n",
    "print( 'SS value: {}'.format( m.silhouette_score( X, labels, metric='euclidean' ) ) )"
   ]
  },
  {
   "cell_type": "markdown",
   "id": "02574b64",
   "metadata": {},
   "source": [
    "#  9.0 - Cluster Analysis"
   ]
  },
  {
   "cell_type": "code",
   "execution_count": 55,
   "id": "4f56743f",
   "metadata": {},
   "outputs": [
    {
     "ename": "NameError",
     "evalue": "name 'df92' is not defined",
     "output_type": "error",
     "traceback": [
      "\u001b[1;31m---------------------------------------------------------------------------\u001b[0m",
      "\u001b[1;31mNameError\u001b[0m                                 Traceback (most recent call last)",
      "\u001b[1;32m~\\AppData\\Local\\Temp/ipykernel_15396/2443256410.py\u001b[0m in \u001b[0;36m<module>\u001b[1;34m\u001b[0m\n\u001b[0;32m      2\u001b[0m \u001b[0mdf9\u001b[0m\u001b[1;33m[\u001b[0m\u001b[1;34m'cluster'\u001b[0m\u001b[1;33m]\u001b[0m \u001b[1;33m=\u001b[0m \u001b[0mlabels\u001b[0m\u001b[1;33m\u001b[0m\u001b[1;33m\u001b[0m\u001b[0m\n\u001b[0;32m      3\u001b[0m \u001b[1;33m\u001b[0m\u001b[0m\n\u001b[1;32m----> 4\u001b[1;33m \u001b[0mdf92\u001b[0m\u001b[1;33m.\u001b[0m\u001b[0mhead\u001b[0m\u001b[1;33m(\u001b[0m\u001b[1;33m)\u001b[0m\u001b[1;33m\u001b[0m\u001b[1;33m\u001b[0m\u001b[0m\n\u001b[0m",
      "\u001b[1;31mNameError\u001b[0m: name 'df92' is not defined"
     ]
    }
   ],
   "source": [
    "df9 = X.copy()\n",
    "df9['cluster'] = labels\n",
    "\n",
    "df92.head()"
   ]
  },
  {
   "cell_type": "markdown",
   "id": "ab2d5510",
   "metadata": {},
   "source": [
    " ## 9.1. Visualization Inspection"
   ]
  },
  {
   "cell_type": "code",
   "execution_count": null,
   "id": "019a1a62",
   "metadata": {},
   "outputs": [
    {
     "data": {
      "text/plain": [
       "<AxesSubplot:xlabel='embedding_x', ylabel='embedding_y'>"
      ]
     },
     "execution_count": 781,
     "metadata": {},
     "output_type": "execute_result"
    },
    {
     "data": {
      "image/png": "[encoded data removed]",
      "text/plain": [
       "<Figure size 432x288 with 1 Axes>"
      ]
     },
     "metadata": {
      "needs_background": "light"
     },
     "output_type": "display_data"
    }
   ],
   "source": [
    "sns.scatterplot( x='embedding_x', y='embedding_y', hue='cluster', data=df9, palette='deep')"
   ]
  },
  {
   "cell_type": "markdown",
   "id": "62d6f9b2",
   "metadata": {},
   "source": [
    " ## 9.4. Cluster Profile"
   ]
  },
  {
   "cell_type": "code",
   "execution_count": null,
   "id": "6a3a0b11",
   "metadata": {},
   "outputs": [
    {
     "data": {
      "text/html": [
       "<div>\n",
       "<style scoped>\n",
       "    .dataframe tbody tr th:only-of-type {\n",
       "        vertical-align: middle;\n",
       "    }\n",
       "\n",
       "    .dataframe tbody tr th {\n",
       "        vertical-align: top;\n",
       "    }\n",
       "\n",
       "    .dataframe thead th {\n",
       "        text-align: right;\n",
       "    }\n",
       "</style>\n",
       "<table border=\"1\" class=\"dataframe\">\n",
       "  <thead>\n",
       "    <tr style=\"text-align: right;\">\n",
       "      <th></th>\n",
       "      <th>customer_id</th>\n",
       "      <th>gross_revenue</th>\n",
       "      <th>recency_days</th>\n",
       "      <th>qtde_products</th>\n",
       "      <th>frequency</th>\n",
       "      <th>qtde_returns</th>\n",
       "      <th>cluster</th>\n",
       "    </tr>\n",
       "  </thead>\n",
       "  <tbody>\n",
       "    <tr>\n",
       "      <th>0</th>\n",
       "      <td>17850</td>\n",
       "      <td>5391.21</td>\n",
       "      <td>372.0</td>\n",
       "      <td>297.0</td>\n",
       "      <td>17.000000</td>\n",
       "      <td>40.0</td>\n",
       "      <td>4</td>\n",
       "    </tr>\n",
       "    <tr>\n",
       "      <th>1</th>\n",
       "      <td>13047</td>\n",
       "      <td>3232.59</td>\n",
       "      <td>56.0</td>\n",
       "      <td>171.0</td>\n",
       "      <td>0.028302</td>\n",
       "      <td>35.0</td>\n",
       "      <td>4</td>\n",
       "    </tr>\n",
       "    <tr>\n",
       "      <th>2</th>\n",
       "      <td>12583</td>\n",
       "      <td>6705.38</td>\n",
       "      <td>2.0</td>\n",
       "      <td>232.0</td>\n",
       "      <td>0.040323</td>\n",
       "      <td>50.0</td>\n",
       "      <td>4</td>\n",
       "    </tr>\n",
       "    <tr>\n",
       "      <th>3</th>\n",
       "      <td>13748</td>\n",
       "      <td>948.25</td>\n",
       "      <td>95.0</td>\n",
       "      <td>28.0</td>\n",
       "      <td>0.017921</td>\n",
       "      <td>0.0</td>\n",
       "      <td>0</td>\n",
       "    </tr>\n",
       "    <tr>\n",
       "      <th>4</th>\n",
       "      <td>15100</td>\n",
       "      <td>876.00</td>\n",
       "      <td>333.0</td>\n",
       "      <td>3.0</td>\n",
       "      <td>0.073171</td>\n",
       "      <td>22.0</td>\n",
       "      <td>0</td>\n",
       "    </tr>\n",
       "  </tbody>\n",
       "</table>\n",
       "</div>"
      ],
      "text/plain": [
       "   customer_id  gross_revenue  recency_days  qtde_products  frequency  \\\n",
       "0        17850        5391.21         372.0          297.0  17.000000   \n",
       "1        13047        3232.59          56.0          171.0   0.028302   \n",
       "2        12583        6705.38           2.0          232.0   0.040323   \n",
       "3        13748         948.25          95.0           28.0   0.017921   \n",
       "4        15100         876.00         333.0            3.0   0.073171   \n",
       "\n",
       "   qtde_returns  cluster  \n",
       "0          40.0        4  \n",
       "1          35.0        4  \n",
       "2          50.0        4  \n",
       "3           0.0        0  \n",
       "4          22.0        0  "
      ]
     },
     "execution_count": 67,
     "metadata": {},
     "output_type": "execute_result"
    }
   ],
   "source": [
    "df92 = df4[ cols_selected ].copy()\n",
    "df92['cluster'] = labels\n",
    "df92.head()"
   ]
  },
  {
   "cell_type": "code",
   "execution_count": null,
   "id": "f61239b3",
   "metadata": {
    "ExecuteTime": {
     "end_time": "2021-11-07T01:05:12.913770Z",
     "start_time": "2021-11-07T01:05:12.867892Z"
    }
   },
   "outputs": [
    {
     "data": {
      "text/html": [
       "<div>\n",
       "<style scoped>\n",
       "    .dataframe tbody tr th:only-of-type {\n",
       "        vertical-align: middle;\n",
       "    }\n",
       "\n",
       "    .dataframe tbody tr th {\n",
       "        vertical-align: top;\n",
       "    }\n",
       "\n",
       "    .dataframe thead th {\n",
       "        text-align: right;\n",
       "    }\n",
       "</style>\n",
       "<table border=\"1\" class=\"dataframe\">\n",
       "  <thead>\n",
       "    <tr style=\"text-align: right;\">\n",
       "      <th></th>\n",
       "      <th>cluster</th>\n",
       "      <th>customer_id</th>\n",
       "      <th>prec_customer</th>\n",
       "      <th>gross_revenue</th>\n",
       "      <th>recency_days</th>\n",
       "      <th>qtde_products</th>\n",
       "      <th>frequency</th>\n",
       "      <th>qtde_returns</th>\n",
       "    </tr>\n",
       "  </thead>\n",
       "  <tbody>\n",
       "    <tr>\n",
       "      <th>4</th>\n",
       "      <td>4</td>\n",
       "      <td>1036</td>\n",
       "      <td>18.19</td>\n",
       "      <td>5,482.87</td>\n",
       "      <td>74.26</td>\n",
       "      <td>295.71</td>\n",
       "      <td>0.34</td>\n",
       "      <td>149.31</td>\n",
       "    </tr>\n",
       "    <tr>\n",
       "      <th>6</th>\n",
       "      <td>6</td>\n",
       "      <td>693</td>\n",
       "      <td>12.17</td>\n",
       "      <td>2,064.18</td>\n",
       "      <td>78.35</td>\n",
       "      <td>131.56</td>\n",
       "      <td>0.36</td>\n",
       "      <td>3.00</td>\n",
       "    </tr>\n",
       "    <tr>\n",
       "      <th>0</th>\n",
       "      <td>0</td>\n",
       "      <td>1001</td>\n",
       "      <td>17.58</td>\n",
       "      <td>1,419.17</td>\n",
       "      <td>104.21</td>\n",
       "      <td>56.15</td>\n",
       "      <td>0.39</td>\n",
       "      <td>7.91</td>\n",
       "    </tr>\n",
       "    <tr>\n",
       "      <th>3</th>\n",
       "      <td>3</td>\n",
       "      <td>329</td>\n",
       "      <td>5.78</td>\n",
       "      <td>1,090.23</td>\n",
       "      <td>92.59</td>\n",
       "      <td>53.36</td>\n",
       "      <td>0.32</td>\n",
       "      <td>12.12</td>\n",
       "    </tr>\n",
       "    <tr>\n",
       "      <th>7</th>\n",
       "      <td>7</td>\n",
       "      <td>380</td>\n",
       "      <td>6.67</td>\n",
       "      <td>931.33</td>\n",
       "      <td>114.71</td>\n",
       "      <td>41.13</td>\n",
       "      <td>0.43</td>\n",
       "      <td>3.67</td>\n",
       "    </tr>\n",
       "    <tr>\n",
       "      <th>2</th>\n",
       "      <td>2</td>\n",
       "      <td>775</td>\n",
       "      <td>13.61</td>\n",
       "      <td>567.24</td>\n",
       "      <td>116.31</td>\n",
       "      <td>23.81</td>\n",
       "      <td>0.60</td>\n",
       "      <td>6.55</td>\n",
       "    </tr>\n",
       "    <tr>\n",
       "      <th>1</th>\n",
       "      <td>1</td>\n",
       "      <td>495</td>\n",
       "      <td>8.69</td>\n",
       "      <td>325.97</td>\n",
       "      <td>201.89</td>\n",
       "      <td>15.88</td>\n",
       "      <td>0.79</td>\n",
       "      <td>2.51</td>\n",
       "    </tr>\n",
       "    <tr>\n",
       "      <th>5</th>\n",
       "      <td>5</td>\n",
       "      <td>986</td>\n",
       "      <td>17.31</td>\n",
       "      <td>263.48</td>\n",
       "      <td>168.59</td>\n",
       "      <td>14.39</td>\n",
       "      <td>1.01</td>\n",
       "      <td>1.70</td>\n",
       "    </tr>\n",
       "  </tbody>\n",
       "</table>\n",
       "</div>"
      ],
      "text/plain": [
       "   cluster  customer_id  prec_customer  gross_revenue  recency_days  \\\n",
       "4        4         1036          18.19       5,482.87         74.26   \n",
       "6        6          693          12.17       2,064.18         78.35   \n",
       "0        0         1001          17.58       1,419.17        104.21   \n",
       "3        3          329           5.78       1,090.23         92.59   \n",
       "7        7          380           6.67         931.33        114.71   \n",
       "2        2          775          13.61         567.24        116.31   \n",
       "1        1          495           8.69         325.97        201.89   \n",
       "5        5          986          17.31         263.48        168.59   \n",
       "\n",
       "   qtde_products  frequency  qtde_returns  \n",
       "4         295.71       0.34        149.31  \n",
       "6         131.56       0.36          3.00  \n",
       "0          56.15       0.39          7.91  \n",
       "3          53.36       0.32         12.12  \n",
       "7          41.13       0.43          3.67  \n",
       "2          23.81       0.60          6.55  \n",
       "1          15.88       0.79          2.51  \n",
       "5          14.39       1.01          1.70  "
      ]
     },
     "execution_count": 68,
     "metadata": {},
     "output_type": "execute_result"
    }
   ],
   "source": [
    "# Number of customer\n",
    "df_cluster = df92[['customer_id', 'cluster']].groupby('cluster').count().reset_index()\n",
    "df_cluster['prec_customer'] = 100* (df_cluster['customer_id'] / df_cluster['customer_id'].sum())\n",
    "\n",
    "# Average Gross Revenue\n",
    "df_avg_gross_revenue = df92[['gross_revenue', 'cluster']].groupby('cluster').mean().reset_index()\n",
    "df_cluster = pd.merge(df_cluster, df_avg_gross_revenue, how='inner', on='cluster')\n",
    "\n",
    "# Average Recency days\n",
    "df_avg_recency_days = df92[['recency_days', 'cluster']].groupby('cluster').mean().reset_index()\n",
    "df_cluster = pd.merge(df_cluster, df_avg_recency_days, how='inner', on='cluster')\n",
    "\n",
    "# AVg invoice no\n",
    "df_qtde_products = df92[['qtde_products', 'cluster']].groupby('cluster').mean().reset_index()\n",
    "df_cluster = pd.merge(df_cluster, df_qtde_products, how='inner', on='cluster')\n",
    "\n",
    "# Frequency\n",
    "df_frequency = df92[['frequency', 'cluster']].groupby('cluster').mean().reset_index()\n",
    "df_cluster = pd.merge(df_cluster, df_frequency, how='inner', on='cluster')\n",
    "\n",
    "# Returns\n",
    "df_avg_invoice_no = df92[['qtde_returns', 'cluster']].groupby('cluster').mean().reset_index()\n",
    "df_cluster = pd.merge(df_cluster, df_avg_invoice_no, how='inner', on='cluster')\n",
    "\n",
    "\n",
    "pd.options.display.float_format = '{:,.2f}'.format\n",
    "df_cluster.sort_values('gross_revenue', ascending = False)"
   ]
  },
  {
   "cell_type": "code",
   "execution_count": null,
   "id": "c5fcab3b",
   "metadata": {},
   "outputs": [],
   "source": [
    "#4 17 Cluster Insiders\n",
    "#0 16 Cluster More Products\n",
    "#5 14 Cluster Spend Money\n",
    "#3 11 Cluster Even More Products\n",
    "#7 13 Cluster Less days\n",
    "#2 10 Cluster Less 1K\n",
    "#6 15 Cluster Stop Returners\n",
    "#1 12 Cluster More Buy"
   ]
  },
  {
   "cell_type": "markdown",
   "id": "f8f1dfa3",
   "metadata": {},
   "source": [
    "Cluster 01: (candidato a insider)\n",
    "\n",
    "    * número de customers : 613 (21% do customers)\n",
    "    * Faturamento médio: $ 7.494\n",
    "    * Recência média: 24 dias\n",
    "    * Media de produtos comprados: 364 produtos\n",
    "    * Frequencia de compras: 0,09 produtos/dia\n",
    "   \n",
    "\n",
    "Cluster 02:\n",
    "\n",
    "    * número de customers : 6 (0,70% do customers)\n",
    "    * Recência média: 14 dias\n",
    "    * Compras média: 53 compras\n",
    "    * Receita média: $40.543,52 USD\n",
    "\n",
    "Cluster 03:\n",
    "\n",
    "    * número de customers : 4.335 (99% do customers)\n",
    "    * Recência média: 92 dias\n",
    "    * Compras média: 5 compras\n",
    "    * Receita média: $1.372,57 USD"
   ]
  },
  {
   "cell_type": "markdown",
   "id": "937533ff",
   "metadata": {},
   "source": [
    "# 10.0. Análise Exploratória de Dados"
   ]
  },
  {
   "cell_type": "code",
   "execution_count": null,
   "id": "421d52f5",
   "metadata": {},
   "outputs": [],
   "source": [
    "df10 = df92.copy()"
   ]
  },
  {
   "cell_type": "code",
   "execution_count": null,
   "id": "ec999a01",
   "metadata": {},
   "outputs": [
    {
     "data": {
      "text/html": [
       "<div>\n",
       "<style scoped>\n",
       "    .dataframe tbody tr th:only-of-type {\n",
       "        vertical-align: middle;\n",
       "    }\n",
       "\n",
       "    .dataframe tbody tr th {\n",
       "        vertical-align: top;\n",
       "    }\n",
       "\n",
       "    .dataframe thead th {\n",
       "        text-align: right;\n",
       "    }\n",
       "</style>\n",
       "<table border=\"1\" class=\"dataframe\">\n",
       "  <thead>\n",
       "    <tr style=\"text-align: right;\">\n",
       "      <th></th>\n",
       "      <th>customer_id</th>\n",
       "      <th>gross_revenue</th>\n",
       "      <th>recency_days</th>\n",
       "      <th>qtde_products</th>\n",
       "      <th>frequency</th>\n",
       "      <th>qtde_returns</th>\n",
       "      <th>cluster</th>\n",
       "    </tr>\n",
       "  </thead>\n",
       "  <tbody>\n",
       "    <tr>\n",
       "      <th>0</th>\n",
       "      <td>17850</td>\n",
       "      <td>5,391.21</td>\n",
       "      <td>372.00</td>\n",
       "      <td>297.00</td>\n",
       "      <td>17.00</td>\n",
       "      <td>40.00</td>\n",
       "      <td>4</td>\n",
       "    </tr>\n",
       "    <tr>\n",
       "      <th>1</th>\n",
       "      <td>13047</td>\n",
       "      <td>3,232.59</td>\n",
       "      <td>56.00</td>\n",
       "      <td>171.00</td>\n",
       "      <td>0.03</td>\n",
       "      <td>35.00</td>\n",
       "      <td>4</td>\n",
       "    </tr>\n",
       "    <tr>\n",
       "      <th>2</th>\n",
       "      <td>12583</td>\n",
       "      <td>6,705.38</td>\n",
       "      <td>2.00</td>\n",
       "      <td>232.00</td>\n",
       "      <td>0.04</td>\n",
       "      <td>50.00</td>\n",
       "      <td>4</td>\n",
       "    </tr>\n",
       "    <tr>\n",
       "      <th>3</th>\n",
       "      <td>13748</td>\n",
       "      <td>948.25</td>\n",
       "      <td>95.00</td>\n",
       "      <td>28.00</td>\n",
       "      <td>0.02</td>\n",
       "      <td>0.00</td>\n",
       "      <td>0</td>\n",
       "    </tr>\n",
       "    <tr>\n",
       "      <th>4</th>\n",
       "      <td>15100</td>\n",
       "      <td>876.00</td>\n",
       "      <td>333.00</td>\n",
       "      <td>3.00</td>\n",
       "      <td>0.07</td>\n",
       "      <td>22.00</td>\n",
       "      <td>0</td>\n",
       "    </tr>\n",
       "  </tbody>\n",
       "</table>\n",
       "</div>"
      ],
      "text/plain": [
       "   customer_id  gross_revenue  recency_days  qtde_products  frequency  \\\n",
       "0        17850       5,391.21        372.00         297.00      17.00   \n",
       "1        13047       3,232.59         56.00         171.00       0.03   \n",
       "2        12583       6,705.38          2.00         232.00       0.04   \n",
       "3        13748         948.25         95.00          28.00       0.02   \n",
       "4        15100         876.00        333.00           3.00       0.07   \n",
       "\n",
       "   qtde_returns  cluster  \n",
       "0         40.00        4  \n",
       "1         35.00        4  \n",
       "2         50.00        4  \n",
       "3          0.00        0  \n",
       "4         22.00        0  "
      ]
     },
     "execution_count": 71,
     "metadata": {},
     "output_type": "execute_result"
    }
   ],
   "source": [
    "df10.head()"
   ]
  },
  {
   "cell_type": "markdown",
   "id": "8298b75d",
   "metadata": {},
   "source": [
    "# 11.0 - Deploy to Production"
   ]
  },
  {
   "cell_type": "code",
   "execution_count": null,
   "id": "84b622b9",
   "metadata": {},
   "outputs": [
    {
     "data": {
      "text/plain": [
       "customer_id        int64\n",
       "gross_revenue    float64\n",
       "recency_days     float64\n",
       "qtde_products    float64\n",
       "frequency        float64\n",
       "qtde_returns     float64\n",
       "cluster            int64\n",
       "dtype: object"
      ]
     },
     "execution_count": 72,
     "metadata": {},
     "output_type": "execute_result"
    }
   ],
   "source": [
    "df92.dtypes"
   ]
  },
  {
   "cell_type": "code",
   "execution_count": null,
   "id": "51074872",
   "metadata": {},
   "outputs": [],
   "source": [
    "# Change dtypes\n",
    "df92['recency_days'] = df92['recency_days'].astype(int64)\n",
    "df92['qtde_products'] = df92['qtde_products'].astype(int64)\n",
    "df92['qtde_returns'] = df92['qtde_returns'].astype(int64)"
   ]
  },
  {
   "cell_type": "code",
   "execution_count": null,
   "id": "87131c03",
   "metadata": {},
   "outputs": [
    {
     "ename": "OperationalError",
     "evalue": "(sqlite3.OperationalError) table insiders already exists\n[SQL: \n    CREATE TABLE insiders (\n        customer_id         INTEGER,    \n        gross_revenue       REAL,\n        recency_days        INTEGER,\n        qtde_products       INTEGER,       \n        frequency           REAL,\n        qtde_returns        INTEGER,\n        cluster             INTEGER\n\n    )\n]\n(Background on this error at: https://sqlalche.me/e/14/e3q8)",
     "output_type": "error",
     "traceback": [
      "\u001b[1;31m---------------------------------------------------------------------------\u001b[0m",
      "\u001b[1;31mOperationalError\u001b[0m                          Traceback (most recent call last)",
      "\u001b[1;32m~\\repos\\envs\\pa005_insiders_clustering\\lib\\site-packages\\sqlalchemy\\engine\\base.py\u001b[0m in \u001b[0;36m_execute_context\u001b[1;34m(self, dialect, constructor, statement, parameters, execution_options, *args, **kw)\u001b[0m\n\u001b[0;32m   1801\u001b[0m                 \u001b[1;32mif\u001b[0m \u001b[1;32mnot\u001b[0m \u001b[0mevt_handled\u001b[0m\u001b[1;33m:\u001b[0m\u001b[1;33m\u001b[0m\u001b[1;33m\u001b[0m\u001b[0m\n\u001b[1;32m-> 1802\u001b[1;33m                     self.dialect.do_execute(\n\u001b[0m\u001b[0;32m   1803\u001b[0m                         \u001b[0mcursor\u001b[0m\u001b[1;33m,\u001b[0m \u001b[0mstatement\u001b[0m\u001b[1;33m,\u001b[0m \u001b[0mparameters\u001b[0m\u001b[1;33m,\u001b[0m \u001b[0mcontext\u001b[0m\u001b[1;33m\u001b[0m\u001b[1;33m\u001b[0m\u001b[0m\n",
      "\u001b[1;32m~\\repos\\envs\\pa005_insiders_clustering\\lib\\site-packages\\sqlalchemy\\engine\\default.py\u001b[0m in \u001b[0;36mdo_execute\u001b[1;34m(self, cursor, statement, parameters, context)\u001b[0m\n\u001b[0;32m    718\u001b[0m     \u001b[1;32mdef\u001b[0m \u001b[0mdo_execute\u001b[0m\u001b[1;33m(\u001b[0m\u001b[0mself\u001b[0m\u001b[1;33m,\u001b[0m \u001b[0mcursor\u001b[0m\u001b[1;33m,\u001b[0m \u001b[0mstatement\u001b[0m\u001b[1;33m,\u001b[0m \u001b[0mparameters\u001b[0m\u001b[1;33m,\u001b[0m \u001b[0mcontext\u001b[0m\u001b[1;33m=\u001b[0m\u001b[1;32mNone\u001b[0m\u001b[1;33m)\u001b[0m\u001b[1;33m:\u001b[0m\u001b[1;33m\u001b[0m\u001b[1;33m\u001b[0m\u001b[0m\n\u001b[1;32m--> 719\u001b[1;33m         \u001b[0mcursor\u001b[0m\u001b[1;33m.\u001b[0m\u001b[0mexecute\u001b[0m\u001b[1;33m(\u001b[0m\u001b[0mstatement\u001b[0m\u001b[1;33m,\u001b[0m \u001b[0mparameters\u001b[0m\u001b[1;33m)\u001b[0m\u001b[1;33m\u001b[0m\u001b[1;33m\u001b[0m\u001b[0m\n\u001b[0m\u001b[0;32m    720\u001b[0m \u001b[1;33m\u001b[0m\u001b[0m\n",
      "\u001b[1;31mOperationalError\u001b[0m: table insiders already exists",
      "\nThe above exception was the direct cause of the following exception:\n",
      "\u001b[1;31mOperationalError\u001b[0m                          Traceback (most recent call last)",
      "\u001b[1;32m~\\AppData\\Local\\Temp/ipykernel_17440/4273538622.py\u001b[0m in \u001b[0;36m<module>\u001b[1;34m\u001b[0m\n\u001b[0;32m     21\u001b[0m \"\"\"\n\u001b[0;32m     22\u001b[0m \u001b[1;33m\u001b[0m\u001b[0m\n\u001b[1;32m---> 23\u001b[1;33m \u001b[0mconn\u001b[0m\u001b[1;33m.\u001b[0m\u001b[0mexecute\u001b[0m \u001b[1;33m(\u001b[0m\u001b[0mquery_create_insiders\u001b[0m\u001b[1;33m)\u001b[0m\u001b[1;33m\u001b[0m\u001b[1;33m\u001b[0m\u001b[0m\n\u001b[0m\u001b[0;32m     24\u001b[0m \u001b[1;33m\u001b[0m\u001b[0m\n\u001b[0;32m     25\u001b[0m \u001b[1;31m#conn = sqlite3.connect('insiders_db.sqlite')\u001b[0m\u001b[1;33m\u001b[0m\u001b[1;33m\u001b[0m\u001b[0m\n",
      "\u001b[1;32m<string>\u001b[0m in \u001b[0;36mexecute\u001b[1;34m(self, statement, *multiparams, **params)\u001b[0m\n",
      "\u001b[1;32m~\\repos\\envs\\pa005_insiders_clustering\\lib\\site-packages\\sqlalchemy\\util\\deprecations.py\u001b[0m in \u001b[0;36mwarned\u001b[1;34m(fn, *args, **kwargs)\u001b[0m\n\u001b[0;32m    399\u001b[0m         \u001b[1;32mif\u001b[0m \u001b[1;32mnot\u001b[0m \u001b[0mskip_warning\u001b[0m\u001b[1;33m:\u001b[0m\u001b[1;33m\u001b[0m\u001b[1;33m\u001b[0m\u001b[0m\n\u001b[0;32m    400\u001b[0m             \u001b[0m_warn_with_version\u001b[0m\u001b[1;33m(\u001b[0m\u001b[0mmessage\u001b[0m\u001b[1;33m,\u001b[0m \u001b[0mversion\u001b[0m\u001b[1;33m,\u001b[0m \u001b[0mwtype\u001b[0m\u001b[1;33m,\u001b[0m \u001b[0mstacklevel\u001b[0m\u001b[1;33m=\u001b[0m\u001b[1;36m3\u001b[0m\u001b[1;33m)\u001b[0m\u001b[1;33m\u001b[0m\u001b[1;33m\u001b[0m\u001b[0m\n\u001b[1;32m--> 401\u001b[1;33m         \u001b[1;32mreturn\u001b[0m \u001b[0mfn\u001b[0m\u001b[1;33m(\u001b[0m\u001b[1;33m*\u001b[0m\u001b[0margs\u001b[0m\u001b[1;33m,\u001b[0m \u001b[1;33m**\u001b[0m\u001b[0mkwargs\u001b[0m\u001b[1;33m)\u001b[0m\u001b[1;33m\u001b[0m\u001b[1;33m\u001b[0m\u001b[0m\n\u001b[0m\u001b[0;32m    402\u001b[0m \u001b[1;33m\u001b[0m\u001b[0m\n\u001b[0;32m    403\u001b[0m     \u001b[0mdoc\u001b[0m \u001b[1;33m=\u001b[0m \u001b[0mfunc\u001b[0m\u001b[1;33m.\u001b[0m\u001b[0m__doc__\u001b[0m \u001b[1;32mis\u001b[0m \u001b[1;32mnot\u001b[0m \u001b[1;32mNone\u001b[0m \u001b[1;32mand\u001b[0m \u001b[0mfunc\u001b[0m\u001b[1;33m.\u001b[0m\u001b[0m__doc__\u001b[0m \u001b[1;32mor\u001b[0m \u001b[1;34m\"\"\u001b[0m\u001b[1;33m\u001b[0m\u001b[1;33m\u001b[0m\u001b[0m\n",
      "\u001b[1;32m~\\repos\\envs\\pa005_insiders_clustering\\lib\\site-packages\\sqlalchemy\\engine\\base.py\u001b[0m in \u001b[0;36mexecute\u001b[1;34m(self, statement, *multiparams, **params)\u001b[0m\n\u001b[0;32m   3137\u001b[0m         \"\"\"\n\u001b[0;32m   3138\u001b[0m         \u001b[0mconnection\u001b[0m \u001b[1;33m=\u001b[0m \u001b[0mself\u001b[0m\u001b[1;33m.\u001b[0m\u001b[0mconnect\u001b[0m\u001b[1;33m(\u001b[0m\u001b[0mclose_with_result\u001b[0m\u001b[1;33m=\u001b[0m\u001b[1;32mTrue\u001b[0m\u001b[1;33m)\u001b[0m\u001b[1;33m\u001b[0m\u001b[1;33m\u001b[0m\u001b[0m\n\u001b[1;32m-> 3139\u001b[1;33m         \u001b[1;32mreturn\u001b[0m \u001b[0mconnection\u001b[0m\u001b[1;33m.\u001b[0m\u001b[0mexecute\u001b[0m\u001b[1;33m(\u001b[0m\u001b[0mstatement\u001b[0m\u001b[1;33m,\u001b[0m \u001b[1;33m*\u001b[0m\u001b[0mmultiparams\u001b[0m\u001b[1;33m,\u001b[0m \u001b[1;33m**\u001b[0m\u001b[0mparams\u001b[0m\u001b[1;33m)\u001b[0m\u001b[1;33m\u001b[0m\u001b[1;33m\u001b[0m\u001b[0m\n\u001b[0m\u001b[0;32m   3140\u001b[0m \u001b[1;33m\u001b[0m\u001b[0m\n\u001b[0;32m   3141\u001b[0m     @util.deprecated_20(\n",
      "\u001b[1;32m~\\repos\\envs\\pa005_insiders_clustering\\lib\\site-packages\\sqlalchemy\\engine\\base.py\u001b[0m in \u001b[0;36mexecute\u001b[1;34m(self, statement, *multiparams, **params)\u001b[0m\n\u001b[0;32m   1272\u001b[0m             )\n\u001b[0;32m   1273\u001b[0m \u001b[1;33m\u001b[0m\u001b[0m\n\u001b[1;32m-> 1274\u001b[1;33m             return self._exec_driver_sql(\n\u001b[0m\u001b[0;32m   1275\u001b[0m                 \u001b[0mstatement\u001b[0m\u001b[1;33m,\u001b[0m\u001b[1;33m\u001b[0m\u001b[1;33m\u001b[0m\u001b[0m\n\u001b[0;32m   1276\u001b[0m                 \u001b[0mmultiparams\u001b[0m\u001b[1;33m,\u001b[0m\u001b[1;33m\u001b[0m\u001b[1;33m\u001b[0m\u001b[0m\n",
      "\u001b[1;32m~\\repos\\envs\\pa005_insiders_clustering\\lib\\site-packages\\sqlalchemy\\engine\\base.py\u001b[0m in \u001b[0;36m_exec_driver_sql\u001b[1;34m(self, statement, multiparams, params, execution_options, future)\u001b[0m\n\u001b[0;32m   1576\u001b[0m \u001b[1;33m\u001b[0m\u001b[0m\n\u001b[0;32m   1577\u001b[0m         \u001b[0mdialect\u001b[0m \u001b[1;33m=\u001b[0m \u001b[0mself\u001b[0m\u001b[1;33m.\u001b[0m\u001b[0mdialect\u001b[0m\u001b[1;33m\u001b[0m\u001b[1;33m\u001b[0m\u001b[0m\n\u001b[1;32m-> 1578\u001b[1;33m         ret = self._execute_context(\n\u001b[0m\u001b[0;32m   1579\u001b[0m             \u001b[0mdialect\u001b[0m\u001b[1;33m,\u001b[0m\u001b[1;33m\u001b[0m\u001b[1;33m\u001b[0m\u001b[0m\n\u001b[0;32m   1580\u001b[0m             \u001b[0mdialect\u001b[0m\u001b[1;33m.\u001b[0m\u001b[0mexecution_ctx_cls\u001b[0m\u001b[1;33m.\u001b[0m\u001b[0m_init_statement\u001b[0m\u001b[1;33m,\u001b[0m\u001b[1;33m\u001b[0m\u001b[1;33m\u001b[0m\u001b[0m\n",
      "\u001b[1;32m~\\repos\\envs\\pa005_insiders_clustering\\lib\\site-packages\\sqlalchemy\\engine\\base.py\u001b[0m in \u001b[0;36m_execute_context\u001b[1;34m(self, dialect, constructor, statement, parameters, execution_options, *args, **kw)\u001b[0m\n\u001b[0;32m   1843\u001b[0m \u001b[1;33m\u001b[0m\u001b[0m\n\u001b[0;32m   1844\u001b[0m         \u001b[1;32mexcept\u001b[0m \u001b[0mBaseException\u001b[0m \u001b[1;32mas\u001b[0m \u001b[0me\u001b[0m\u001b[1;33m:\u001b[0m\u001b[1;33m\u001b[0m\u001b[1;33m\u001b[0m\u001b[0m\n\u001b[1;32m-> 1845\u001b[1;33m             self._handle_dbapi_exception(\n\u001b[0m\u001b[0;32m   1846\u001b[0m                 \u001b[0me\u001b[0m\u001b[1;33m,\u001b[0m \u001b[0mstatement\u001b[0m\u001b[1;33m,\u001b[0m \u001b[0mparameters\u001b[0m\u001b[1;33m,\u001b[0m \u001b[0mcursor\u001b[0m\u001b[1;33m,\u001b[0m \u001b[0mcontext\u001b[0m\u001b[1;33m\u001b[0m\u001b[1;33m\u001b[0m\u001b[0m\n\u001b[0;32m   1847\u001b[0m             )\n",
      "\u001b[1;32m~\\repos\\envs\\pa005_insiders_clustering\\lib\\site-packages\\sqlalchemy\\engine\\base.py\u001b[0m in \u001b[0;36m_handle_dbapi_exception\u001b[1;34m(self, e, statement, parameters, cursor, context)\u001b[0m\n\u001b[0;32m   2024\u001b[0m                 \u001b[0mutil\u001b[0m\u001b[1;33m.\u001b[0m\u001b[0mraise_\u001b[0m\u001b[1;33m(\u001b[0m\u001b[0mnewraise\u001b[0m\u001b[1;33m,\u001b[0m \u001b[0mwith_traceback\u001b[0m\u001b[1;33m=\u001b[0m\u001b[0mexc_info\u001b[0m\u001b[1;33m[\u001b[0m\u001b[1;36m2\u001b[0m\u001b[1;33m]\u001b[0m\u001b[1;33m,\u001b[0m \u001b[0mfrom_\u001b[0m\u001b[1;33m=\u001b[0m\u001b[0me\u001b[0m\u001b[1;33m)\u001b[0m\u001b[1;33m\u001b[0m\u001b[1;33m\u001b[0m\u001b[0m\n\u001b[0;32m   2025\u001b[0m             \u001b[1;32melif\u001b[0m \u001b[0mshould_wrap\u001b[0m\u001b[1;33m:\u001b[0m\u001b[1;33m\u001b[0m\u001b[1;33m\u001b[0m\u001b[0m\n\u001b[1;32m-> 2026\u001b[1;33m                 util.raise_(\n\u001b[0m\u001b[0;32m   2027\u001b[0m                     \u001b[0msqlalchemy_exception\u001b[0m\u001b[1;33m,\u001b[0m \u001b[0mwith_traceback\u001b[0m\u001b[1;33m=\u001b[0m\u001b[0mexc_info\u001b[0m\u001b[1;33m[\u001b[0m\u001b[1;36m2\u001b[0m\u001b[1;33m]\u001b[0m\u001b[1;33m,\u001b[0m \u001b[0mfrom_\u001b[0m\u001b[1;33m=\u001b[0m\u001b[0me\u001b[0m\u001b[1;33m\u001b[0m\u001b[1;33m\u001b[0m\u001b[0m\n\u001b[0;32m   2028\u001b[0m                 )\n",
      "\u001b[1;32m~\\repos\\envs\\pa005_insiders_clustering\\lib\\site-packages\\sqlalchemy\\util\\compat.py\u001b[0m in \u001b[0;36mraise_\u001b[1;34m(***failed resolving arguments***)\u001b[0m\n\u001b[0;32m    205\u001b[0m \u001b[1;33m\u001b[0m\u001b[0m\n\u001b[0;32m    206\u001b[0m         \u001b[1;32mtry\u001b[0m\u001b[1;33m:\u001b[0m\u001b[1;33m\u001b[0m\u001b[1;33m\u001b[0m\u001b[0m\n\u001b[1;32m--> 207\u001b[1;33m             \u001b[1;32mraise\u001b[0m \u001b[0mexception\u001b[0m\u001b[1;33m\u001b[0m\u001b[1;33m\u001b[0m\u001b[0m\n\u001b[0m\u001b[0;32m    208\u001b[0m         \u001b[1;32mfinally\u001b[0m\u001b[1;33m:\u001b[0m\u001b[1;33m\u001b[0m\u001b[1;33m\u001b[0m\u001b[0m\n\u001b[0;32m    209\u001b[0m             \u001b[1;31m# credit to\u001b[0m\u001b[1;33m\u001b[0m\u001b[1;33m\u001b[0m\u001b[0m\n",
      "\u001b[1;32m~\\repos\\envs\\pa005_insiders_clustering\\lib\\site-packages\\sqlalchemy\\engine\\base.py\u001b[0m in \u001b[0;36m_execute_context\u001b[1;34m(self, dialect, constructor, statement, parameters, execution_options, *args, **kw)\u001b[0m\n\u001b[0;32m   1800\u001b[0m                             \u001b[1;32mbreak\u001b[0m\u001b[1;33m\u001b[0m\u001b[1;33m\u001b[0m\u001b[0m\n\u001b[0;32m   1801\u001b[0m                 \u001b[1;32mif\u001b[0m \u001b[1;32mnot\u001b[0m \u001b[0mevt_handled\u001b[0m\u001b[1;33m:\u001b[0m\u001b[1;33m\u001b[0m\u001b[1;33m\u001b[0m\u001b[0m\n\u001b[1;32m-> 1802\u001b[1;33m                     self.dialect.do_execute(\n\u001b[0m\u001b[0;32m   1803\u001b[0m                         \u001b[0mcursor\u001b[0m\u001b[1;33m,\u001b[0m \u001b[0mstatement\u001b[0m\u001b[1;33m,\u001b[0m \u001b[0mparameters\u001b[0m\u001b[1;33m,\u001b[0m \u001b[0mcontext\u001b[0m\u001b[1;33m\u001b[0m\u001b[1;33m\u001b[0m\u001b[0m\n\u001b[0;32m   1804\u001b[0m                     )\n",
      "\u001b[1;32m~\\repos\\envs\\pa005_insiders_clustering\\lib\\site-packages\\sqlalchemy\\engine\\default.py\u001b[0m in \u001b[0;36mdo_execute\u001b[1;34m(self, cursor, statement, parameters, context)\u001b[0m\n\u001b[0;32m    717\u001b[0m \u001b[1;33m\u001b[0m\u001b[0m\n\u001b[0;32m    718\u001b[0m     \u001b[1;32mdef\u001b[0m \u001b[0mdo_execute\u001b[0m\u001b[1;33m(\u001b[0m\u001b[0mself\u001b[0m\u001b[1;33m,\u001b[0m \u001b[0mcursor\u001b[0m\u001b[1;33m,\u001b[0m \u001b[0mstatement\u001b[0m\u001b[1;33m,\u001b[0m \u001b[0mparameters\u001b[0m\u001b[1;33m,\u001b[0m \u001b[0mcontext\u001b[0m\u001b[1;33m=\u001b[0m\u001b[1;32mNone\u001b[0m\u001b[1;33m)\u001b[0m\u001b[1;33m:\u001b[0m\u001b[1;33m\u001b[0m\u001b[1;33m\u001b[0m\u001b[0m\n\u001b[1;32m--> 719\u001b[1;33m         \u001b[0mcursor\u001b[0m\u001b[1;33m.\u001b[0m\u001b[0mexecute\u001b[0m\u001b[1;33m(\u001b[0m\u001b[0mstatement\u001b[0m\u001b[1;33m,\u001b[0m \u001b[0mparameters\u001b[0m\u001b[1;33m)\u001b[0m\u001b[1;33m\u001b[0m\u001b[1;33m\u001b[0m\u001b[0m\n\u001b[0m\u001b[0;32m    720\u001b[0m \u001b[1;33m\u001b[0m\u001b[0m\n\u001b[0;32m    721\u001b[0m     \u001b[1;32mdef\u001b[0m \u001b[0mdo_execute_no_params\u001b[0m\u001b[1;33m(\u001b[0m\u001b[0mself\u001b[0m\u001b[1;33m,\u001b[0m \u001b[0mcursor\u001b[0m\u001b[1;33m,\u001b[0m \u001b[0mstatement\u001b[0m\u001b[1;33m,\u001b[0m \u001b[0mcontext\u001b[0m\u001b[1;33m=\u001b[0m\u001b[1;32mNone\u001b[0m\u001b[1;33m)\u001b[0m\u001b[1;33m:\u001b[0m\u001b[1;33m\u001b[0m\u001b[1;33m\u001b[0m\u001b[0m\n",
      "\u001b[1;31mOperationalError\u001b[0m: (sqlite3.OperationalError) table insiders already exists\n[SQL: \n    CREATE TABLE insiders (\n        customer_id         INTEGER,    \n        gross_revenue       REAL,\n        recency_days        INTEGER,\n        qtde_products       INTEGER,       \n        frequency           REAL,\n        qtde_returns        INTEGER,\n        cluster             INTEGER\n\n    )\n]\n(Background on this error at: https://sqlalche.me/e/14/e3q8)"
     ]
    }
   ],
   "source": [
    "# database conection\n",
    "conn = create_engine('sqlite:///insiders_db.sqlite')\n",
    "\n",
    "## drop table\n",
    "#query_drop_insiders = \"\"\"\n",
    "#        DROP TABLE insiders\n",
    "#\"\"\"\n",
    "\n",
    "# create table\n",
    "query_create_insiders = \"\"\"\n",
    "    CREATE TABLE insiders (\n",
    "        customer_id         INTEGER,    \n",
    "        gross_revenue       REAL,\n",
    "        recency_days        INTEGER,\n",
    "        qtde_products       INTEGER,       \n",
    "        frequency           REAL,\n",
    "        qtde_returns        INTEGER,\n",
    "        cluster             INTEGER\n",
    "\n",
    "    )\n",
    "\"\"\"\n",
    "\n",
    "conn.execute (query_create_insiders)\n",
    "\n",
    "#conn = sqlite3.connect('insiders_db.sqlite')\n",
    "#conn.execute (query_create_table_insiders)\n",
    "#conn.commit()\n",
    "#conn.close()"
   ]
  },
  {
   "cell_type": "code",
   "execution_count": null,
   "id": "87875627",
   "metadata": {},
   "outputs": [],
   "source": [
    "# insert data into\n",
    "df92.to_sql('insiders', con=conn, if_exists='append', index=False)"
   ]
  },
  {
   "cell_type": "code",
   "execution_count": null,
   "id": "074181e0",
   "metadata": {},
   "outputs": [
    {
     "data": {
      "text/html": [
       "<div>\n",
       "<style scoped>\n",
       "    .dataframe tbody tr th:only-of-type {\n",
       "        vertical-align: middle;\n",
       "    }\n",
       "\n",
       "    .dataframe tbody tr th {\n",
       "        vertical-align: top;\n",
       "    }\n",
       "\n",
       "    .dataframe thead th {\n",
       "        text-align: right;\n",
       "    }\n",
       "</style>\n",
       "<table border=\"1\" class=\"dataframe\">\n",
       "  <thead>\n",
       "    <tr style=\"text-align: right;\">\n",
       "      <th></th>\n",
       "      <th>customer_id</th>\n",
       "      <th>gross_revenue</th>\n",
       "      <th>recency_days</th>\n",
       "      <th>qtde_products</th>\n",
       "      <th>frequency</th>\n",
       "      <th>qtde_returns</th>\n",
       "      <th>cluster</th>\n",
       "    </tr>\n",
       "  </thead>\n",
       "  <tbody>\n",
       "    <tr>\n",
       "      <th>0</th>\n",
       "      <td>17850</td>\n",
       "      <td>5,391.21</td>\n",
       "      <td>372</td>\n",
       "      <td>297</td>\n",
       "      <td>17.00</td>\n",
       "      <td>40</td>\n",
       "      <td>4</td>\n",
       "    </tr>\n",
       "    <tr>\n",
       "      <th>1</th>\n",
       "      <td>13047</td>\n",
       "      <td>3,232.59</td>\n",
       "      <td>56</td>\n",
       "      <td>171</td>\n",
       "      <td>0.03</td>\n",
       "      <td>35</td>\n",
       "      <td>4</td>\n",
       "    </tr>\n",
       "    <tr>\n",
       "      <th>2</th>\n",
       "      <td>12583</td>\n",
       "      <td>6,705.38</td>\n",
       "      <td>2</td>\n",
       "      <td>232</td>\n",
       "      <td>0.04</td>\n",
       "      <td>50</td>\n",
       "      <td>4</td>\n",
       "    </tr>\n",
       "    <tr>\n",
       "      <th>3</th>\n",
       "      <td>13748</td>\n",
       "      <td>948.25</td>\n",
       "      <td>95</td>\n",
       "      <td>28</td>\n",
       "      <td>0.02</td>\n",
       "      <td>0</td>\n",
       "      <td>0</td>\n",
       "    </tr>\n",
       "    <tr>\n",
       "      <th>4</th>\n",
       "      <td>15100</td>\n",
       "      <td>876.00</td>\n",
       "      <td>333</td>\n",
       "      <td>3</td>\n",
       "      <td>0.07</td>\n",
       "      <td>22</td>\n",
       "      <td>0</td>\n",
       "    </tr>\n",
       "  </tbody>\n",
       "</table>\n",
       "</div>"
      ],
      "text/plain": [
       "   customer_id  gross_revenue  recency_days  qtde_products  frequency  \\\n",
       "0        17850       5,391.21           372            297      17.00   \n",
       "1        13047       3,232.59            56            171       0.03   \n",
       "2        12583       6,705.38             2            232       0.04   \n",
       "3        13748         948.25            95             28       0.02   \n",
       "4        15100         876.00           333              3       0.07   \n",
       "\n",
       "   qtde_returns  cluster  \n",
       "0            40        4  \n",
       "1            35        4  \n",
       "2            50        4  \n",
       "3             0        0  \n",
       "4            22        0  "
      ]
     },
     "execution_count": 78,
     "metadata": {},
     "output_type": "execute_result"
    }
   ],
   "source": [
    "## consulting database\n",
    "#query_colect = \"\"\"\n",
    "#    SELECT * from insiders\n",
    "#\n",
    "#\"\"\"\n",
    "#df = pd.read_sql_query(query_colect, conn)\n",
    "#df.head()"
   ]
  },
  {
   "cell_type": "code",
   "execution_count": 59,
   "id": "5c2f90bf",
   "metadata": {},
   "outputs": [
    {
     "name": "stderr",
     "output_type": "stream",
     "text": [
      "ERROR: Could not find a version that satisfies the requirement papermil (from versions: none)\n",
      "ERROR: No matching distribution found for papermil\n",
      "WARNING: You are using pip version 21.2.4; however, version 21.3.1 is available.\n",
      "You should consider upgrading via the 'C:\\Users\\dml1wfe\\repos\\envs\\pa005_insiders_clustering\\Scripts\\python.exe -m pip install --upgrade pip' command.\n"
     ]
    }
   ],
   "source": [
    "! pip install papermil"
   ]
  }
 ],
 "metadata": {
  "hide_input": false,
  "kernelspec": {
   "display_name": "Python 3 (ipykernel)",
   "language": "python",
   "name": "python3"
  },
  "language_info": {
   "codemirror_mode": {
    "name": "ipython",
    "version": 3
   },
   "file_extension": ".py",
   "mimetype": "text/x-python",
   "name": "python",
   "nbconvert_exporter": "python",
   "pygments_lexer": "ipython3",
   "version": "3.9.9"
  }
 },
 "nbformat": 4,
 "nbformat_minor": 5
}
