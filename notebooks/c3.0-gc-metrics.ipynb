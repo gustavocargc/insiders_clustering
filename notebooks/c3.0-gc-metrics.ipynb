{
 "cells": [
  {
   "cell_type": "markdown",
   "id": "11a90148",
   "metadata": {},
   "source": [
    "# PA005: HIGH VALUE CUSTOMER INDETIFICATION (INSIDERS)"
   ]
  },
  {
   "cell_type": "markdown",
   "id": "3983be9a",
   "metadata": {
    "heading_collapsed": true
   },
   "source": [
    "# Planejamento da solução (IOT)"
   ]
  },
  {
   "cell_type": "markdown",
   "id": "8a9226a9",
   "metadata": {
    "heading_collapsed": true,
    "hidden": true
   },
   "source": [
    "## Input"
   ]
  },
  {
   "cell_type": "markdown",
   "id": "83d4d672",
   "metadata": {
    "hidden": true
   },
   "source": [
    "    1. Problema de negócio\n",
    "        -> selecionar os clientes mais valiosos para integrar a um programa de fidelização\n",
    "\n",
    "    2. Conjunto de dados\n",
    "        -> Vendas de um e-commerce online durante o período de um ano"
   ]
  },
  {
   "cell_type": "markdown",
   "id": "04d595ab",
   "metadata": {
    "heading_collapsed": true,
    "hidden": true
   },
   "source": [
    "## Output"
   ]
  },
  {
   "cell_type": "markdown",
   "id": "96f9893a",
   "metadata": {
    "hidden": true
   },
   "source": [
    "    1. Problema de negócio\n",
    "        -> selecionar os clientes mais valiosos para integrar a um programa de fidelização\n",
    "\n",
    "    2. Conjunto de dados\n",
    "        -> Vendas de um e-commerce online durante o período de um ano"
   ]
  },
  {
   "cell_type": "markdown",
   "id": "07163296",
   "metadata": {
    "hidden": true
   },
   "source": [
    "    A indicação das pessoas que darão parte do programa insiders\n",
    "\n",
    "    -> Relatório com as respostas das perguntas do negócio\n",
    "\n",
    "            1. Quem são as pessoas elegíveis para participar do programa de Insiders ?\n",
    "            2. Quantos clientes farão parte do grupo?\n",
    "            3. Quais as principais características desses clientes?\n",
    "            4. Qual a porcentagem de contribuição do faturamento, vinda do Insiders?\n",
    "            5. Qual a expectativa de faturamento desse grupo para os próximos meses?\n",
    "            6. Quais as condições para uma pessoa ser elegível ao Insiders?\n",
    "            7. Quais as condições para uma pessoa ser removida do Insiders?\n",
    "            8. Qual a garantia que o programa Insiders é melhor que o restante da base?\n",
    "            9. Quais ações o time de marketing pode realizar para aumentar o faturamento?"
   ]
  },
  {
   "cell_type": "markdown",
   "id": "33f52c89",
   "metadata": {
    "heading_collapsed": true,
    "hidden": true
   },
   "source": [
    "## Tasks"
   ]
  },
  {
   "cell_type": "markdown",
   "id": "ccc65ac6",
   "metadata": {
    "hidden": true
   },
   "source": [
    "    1 - Quem são as pessoas elegíveis para participar do programa de Insiders?\n",
    "\n",
    "    2 - O que é seer elegível? O que são clientes de maior valor?\n",
    "        -> em relação a faturamento\n",
    "            -> alto ticket médio (quanto o cliente gastou na média com a empresa)\n",
    "            -> alto LVT (soma do quanto o cliente gastou com a empresa)\n",
    "            -> baixa recência (tempo da última compra do cliente)\n",
    "            -> alto basket size (tamanho da cesta de compra)\n",
    "            -> baixa probabilidade de churn (período em que a pessoa parou de comprar com a empresa)\n",
    "            -> alta propensão de compra (probabilidade de uma cliente em realizar uma nova compra)\n",
    "        -> em relação a custo\n",
    "            -> baixa taxa de devolução \n",
    "            -> em relação a experiência de compra\n",
    "            -> média alta das avaliações\n",
    "\n",
    "    3 - Quantos clientes farão parte do grupo?\n",
    "        -> Com o número total de clientes vou fazer a porcentagem dos inseders\n",
    "\n",
    "    4 - Quais as principais características desses clientes?\n",
    "        -> Escrever as características do cliente\n",
    "            -> Idade\n",
    "            -> Localização\n",
    "        -> Escrever cracterísticas do hábito de consumo\n",
    "            -> Atributos da clusterização\n",
    "\n",
    "    5 - Qual a porcentagem de contribuição do faturamento, vinda do Insiders?\n",
    "        -> Calcular o faturamento total do ano\n",
    "        -> Calcular o faturamento do grupo\n",
    "        -> Ver o quanto o grupo está em relação a esse faturamento\n",
    "\n",
    "    6 -Qual a porcentagem de contribuição do faturamento, vinda do Insiders?\n",
    "        -> Calcular o faturamento total do ano\n",
    "        -> Calcular o faturamento do grupo \n",
    "        -> Ver o quanto o grupo está em relação a esse faturamento\n",
    "\n",
    "    7 -Qual a expectativa de faturamento desse grupo para os próximos meses?\n",
    "        -> LTV do grupo insiders - está ligada com metas\n",
    "        -> Análise de Cohort (análise onde você marca a pessoa no tempo/produto/compra)\n",
    "\n",
    "    8 - Quais as condições para uma pessoa ser elegível ao Insiders?\n",
    "        -> Definir a periodicidade do modelo (1 mes, 3 meses?)\n",
    "        -> A pessoa precisa ser similar com uma pessoa do grupo\n",
    "\n",
    "    9 - Quais as condições para uma pessoa ser removida do Insiders ?\n",
    "        -> Definir a periodicidade do modelo (1 mes, 3 meses?) \n",
    "        -> A pessoa precisa ser dissimilar com uma pessoa do grupo\n",
    "\n",
    "    10 - Qual a garantia que o programa Insiders é melhor que o restante da base ?\n",
    "        -> Teste A/BTeste\n",
    "        -> A/B beyesiano\n",
    "        -> Teste de hipótese\n",
    "\n",
    "    11 - Quais ações o time de marketing pode realizar para aumentar o faturamento?\n",
    "        -> desconto \n",
    "        -> preferencia de compra\n",
    "        -> frete\n",
    "        -> visita "
   ]
  },
  {
   "cell_type": "markdown",
   "id": "9e13e83a",
   "metadata": {
    "hidden": true
   },
   "source": [
    "passo 1: ordenar os clientes por recency\n",
    "\n",
    "passo 2: dividir a base de clientes de acordo com as notas \n",
    "\n",
    "passo 3: ordenar pela frequency\n",
    "\n",
    "passo 4: dar as notas \n",
    "\n",
    "passo 5: ordenar os clientes por monetary\n",
    "\n",
    "passo 6: dar as notas\n",
    "\n",
    "passo 7: calcular a média das notas para R, F, M"
   ]
  },
  {
   "cell_type": "markdown",
   "id": "c498b696",
   "metadata": {},
   "source": [
    "# 0.0 - Imports"
   ]
  },
  {
   "cell_type": "markdown",
   "id": "8ce4920d",
   "metadata": {},
   "source": [
    " ## 0.1. Imports"
   ]
  },
  {
   "cell_type": "code",
   "execution_count": 5,
   "id": "2682529c",
   "metadata": {},
   "outputs": [],
   "source": [
    "#!pip install umap-learn\n",
    "#!pip install -U yellowbrick"
   ]
  },
  {
   "cell_type": "code",
   "execution_count": 1,
   "id": "7ffe8324",
   "metadata": {
    "ExecuteTime": {
     "end_time": "2021-11-07T00:44:32.273702Z",
     "start_time": "2021-11-07T00:44:30.720472Z"
    }
   },
   "outputs": [],
   "source": [
    "import numpy      as np\n",
    "import pandas     as pd\n",
    "import seaborn    as sns\n",
    "import inflection\n",
    "import umap.umap_ as umap\n",
    "import re\n",
    "\n",
    "from numpy                 import int64\n",
    "from matplotlib            import pyplot as plt\n",
    "from IPython.display       import Image\n",
    "from IPython.core.display  import HTML\n",
    "from sklearn               import cluster as c\n",
    "from sklearn               import metrics as m\n",
    "from plotly                import express as px\n",
    "from yellowbrick.cluster   import KElbowVisualizer, SilhouetteVisualizer"
   ]
  },
  {
   "cell_type": "markdown",
   "id": "531efeb7",
   "metadata": {
    "heading_collapsed": true
   },
   "source": [
    "## 0.2. Helper Functions"
   ]
  },
  {
   "cell_type": "code",
   "execution_count": null,
   "id": "ee0ebcd2",
   "metadata": {
    "ExecuteTime": {
     "end_time": "2021-11-07T00:28:03.687642Z",
     "start_time": "2021-11-07T00:28:03.672987Z"
    },
    "hidden": true
   },
   "outputs": [],
   "source": [
    "#def jupyter_settings():\n",
    "    #%matplotlib inline\n",
    "    #%pylab inline\n",
    "    \n",
    "    #plt.style.use('bmh')\n",
    "    #plt.rcParams['figure.figsize'] = [20, 12]\n",
    "    #plt.rcParams['font.size'] = 25\n",
    "    \n",
    "    #display(HTML( '<style>.container {width:100% !important;}</style>'))\n",
    "    ##pd.options.display.max_columns = None\n",
    "    ##pd.options.display.max_rows = None\n",
    "    #pd.set_option('display.expand_frame_repr', False)\n",
    "            \n",
    "    #sns.set()"
   ]
  },
  {
   "cell_type": "code",
   "execution_count": null,
   "id": "fa96637a",
   "metadata": {
    "ExecuteTime": {
     "end_time": "2021-11-07T00:28:03.716567Z",
     "start_time": "2021-11-07T00:28:03.690635Z"
    },
    "hidden": true
   },
   "outputs": [],
   "source": [
    "#jupyter_settings()"
   ]
  },
  {
   "cell_type": "markdown",
   "id": "188b23db",
   "metadata": {},
   "source": [
    "# 1.0 - Data Description"
   ]
  },
  {
   "cell_type": "markdown",
   "id": "23d8400f",
   "metadata": {},
   "source": [
    "##  1.1. Load dataset"
   ]
  },
  {
   "cell_type": "code",
   "execution_count": 2,
   "id": "aee84156",
   "metadata": {
    "ExecuteTime": {
     "end_time": "2021-11-07T00:28:04.825096Z",
     "start_time": "2021-11-07T00:28:03.720554Z"
    }
   },
   "outputs": [],
   "source": [
    "# read data\n",
    "df_raw = pd.read_csv('C:/Users/DML1WFE/repos/projects/pa005_insiders_clustering/insiders_clustering/data/raw/Ecommerce.csv', encoding='unicode_escape', low_memory=False)\n",
    "\n",
    "# drop extra column\n",
    "df_raw = df_raw.drop(['Unnamed: 8'], axis = 1)"
   ]
  },
  {
   "cell_type": "markdown",
   "id": "a7634e51",
   "metadata": {},
   "source": [
    "##  1.2. Rename Columns"
   ]
  },
  {
   "cell_type": "code",
   "execution_count": 3,
   "id": "f19a709e",
   "metadata": {
    "ExecuteTime": {
     "end_time": "2021-11-07T00:28:04.833042Z",
     "start_time": "2021-11-07T00:28:04.825096Z"
    }
   },
   "outputs": [],
   "source": [
    "df1 = df_raw.copy()"
   ]
  },
  {
   "cell_type": "code",
   "execution_count": 5,
   "id": "e455f9af",
   "metadata": {
    "ExecuteTime": {
     "end_time": "2021-11-07T00:28:04.867948Z",
     "start_time": "2021-11-07T00:28:04.836034Z"
    },
    "code_folding": []
   },
   "outputs": [],
   "source": [
    "cols_old = ['InvoiceNo', 'StockCode', 'Description', 'Quantity', 'InvoiceDate',\n",
    "       'UnitPrice', 'CustomerID', 'Country']\n",
    "\n",
    "snakecase = lambda x: inflection.underscore(x)\n",
    "cols_new = list(map(snakecase, cols_old))\n",
    "\n",
    "#rename\n",
    "\n",
    "df1.columns = cols_new"
   ]
  },
  {
   "cell_type": "markdown",
   "id": "d3d09134",
   "metadata": {},
   "source": [
    "##  1.3. Data Dimensions"
   ]
  },
  {
   "cell_type": "code",
   "execution_count": 6,
   "id": "b2389757",
   "metadata": {
    "ExecuteTime": {
     "end_time": "2021-11-07T00:28:04.876924Z",
     "start_time": "2021-11-07T00:28:04.869943Z"
    }
   },
   "outputs": [
    {
     "name": "stdout",
     "output_type": "stream",
     "text": [
      "Number od rows: 541909 \n",
      "Number of columns: 8\n"
     ]
    }
   ],
   "source": [
    "print('Number od rows: {} '.format(df1.shape[0]))\n",
    "print('Number of columns: {}'.format(df1.shape[1]))"
   ]
  },
  {
   "cell_type": "markdown",
   "id": "6ddbe3b2",
   "metadata": {},
   "source": [
    "## 1.4. Data Types"
   ]
  },
  {
   "cell_type": "code",
   "execution_count": 7,
   "id": "5b17d5a3",
   "metadata": {
    "ExecuteTime": {
     "end_time": "2021-11-07T00:28:04.888892Z",
     "start_time": "2021-11-07T00:28:04.879918Z"
    }
   },
   "outputs": [
    {
     "data": {
      "text/plain": [
       "invoice_no       object\n",
       "stock_code       object\n",
       "description      object\n",
       "quantity          int64\n",
       "invoice_date     object\n",
       "unit_price      float64\n",
       "customer_id     float64\n",
       "country          object\n",
       "dtype: object"
      ]
     },
     "execution_count": 7,
     "metadata": {},
     "output_type": "execute_result"
    }
   ],
   "source": [
    "df1.dtypes"
   ]
  },
  {
   "cell_type": "markdown",
   "id": "667aedbe",
   "metadata": {},
   "source": [
    "##  1.5. Check NA"
   ]
  },
  {
   "cell_type": "code",
   "execution_count": 8,
   "id": "43362cc7",
   "metadata": {
    "ExecuteTime": {
     "end_time": "2021-11-07T00:28:05.066418Z",
     "start_time": "2021-11-07T00:28:04.891886Z"
    }
   },
   "outputs": [
    {
     "data": {
      "text/plain": [
       "invoice_no           0\n",
       "stock_code           0\n",
       "description       1454\n",
       "quantity             0\n",
       "invoice_date         0\n",
       "unit_price           0\n",
       "customer_id     135080\n",
       "country              0\n",
       "dtype: int64"
      ]
     },
     "execution_count": 8,
     "metadata": {},
     "output_type": "execute_result"
    }
   ],
   "source": [
    "df1.isna().sum()"
   ]
  },
  {
   "cell_type": "markdown",
   "id": "ac0215b4",
   "metadata": {},
   "source": [
    "##  1.6. Fillout NA"
   ]
  },
  {
   "cell_type": "code",
   "execution_count": 9,
   "id": "45d57bab",
   "metadata": {
    "ExecuteTime": {
     "end_time": "2021-11-07T00:28:05.217015Z",
     "start_time": "2021-11-07T00:28:05.071405Z"
    }
   },
   "outputs": [
    {
     "name": "stdout",
     "output_type": "stream",
     "text": [
      "removed data: 25%\n"
     ]
    }
   ],
   "source": [
    "# drop NA\n",
    "df1 = df1.dropna(subset=('description', 'customer_id'))\n",
    "print('removed data: {:.0f}%'.format((df_raw.shape[0] - df1.shape[0])/df_raw.shape[0]*100))"
   ]
  },
  {
   "cell_type": "markdown",
   "id": "4a331fa4",
   "metadata": {},
   "source": [
    "##  1.7. Chage dtypes"
   ]
  },
  {
   "cell_type": "code",
   "execution_count": 10,
   "id": "1111032c",
   "metadata": {
    "ExecuteTime": {
     "end_time": "2021-11-07T00:28:05.342679Z",
     "start_time": "2021-11-07T00:28:05.220008Z"
    }
   },
   "outputs": [
    {
     "name": "stderr",
     "output_type": "stream",
     "text": [
      "C:\\Users\\dml1wfe\\AppData\\Local\\Temp/ipykernel_12784/3202911936.py:2: SettingWithCopyWarning: \n",
      "A value is trying to be set on a copy of a slice from a DataFrame.\n",
      "Try using .loc[row_indexer,col_indexer] = value instead\n",
      "\n",
      "See the caveats in the documentation: https://pandas.pydata.org/pandas-docs/stable/user_guide/indexing.html#returning-a-view-versus-a-copy\n",
      "  df1['invoice_date'] = pd.to_datetime(df1['invoice_date'],format='%d-%b-%y')\n",
      "C:\\Users\\dml1wfe\\AppData\\Local\\Temp/ipykernel_12784/3202911936.py:5: SettingWithCopyWarning: \n",
      "A value is trying to be set on a copy of a slice from a DataFrame.\n",
      "Try using .loc[row_indexer,col_indexer] = value instead\n",
      "\n",
      "See the caveats in the documentation: https://pandas.pydata.org/pandas-docs/stable/user_guide/indexing.html#returning-a-view-versus-a-copy\n",
      "  df1['customer_id'] = df1['customer_id'].astype(int64)\n"
     ]
    }
   ],
   "source": [
    "# invoice date\n",
    "df1['invoice_date'] = pd.to_datetime(df1['invoice_date'],format='%d-%b-%y')\n",
    "\n",
    "# customer id\n",
    "df1['customer_id'] = df1['customer_id'].astype(int64)"
   ]
  },
  {
   "cell_type": "markdown",
   "id": "766bb259",
   "metadata": {},
   "source": [
    "##  1.8. Descriptive Statistical"
   ]
  },
  {
   "cell_type": "code",
   "execution_count": 11,
   "id": "64b2ba80",
   "metadata": {},
   "outputs": [],
   "source": [
    "num_attributes = df1.select_dtypes(include=['int64', 'float64'])\n",
    "cat_attributes = df1.select_dtypes(exclude=['int64', 'float64', 'datetime64[ns]'])"
   ]
  },
  {
   "cell_type": "markdown",
   "id": "328de510",
   "metadata": {},
   "source": [
    "### 1.7.1 - Numerical Attributes"
   ]
  },
  {
   "cell_type": "code",
   "execution_count": 51,
   "id": "f795248b",
   "metadata": {},
   "outputs": [
    {
     "data": {
      "text/html": [
       "<div>\n",
       "<style scoped>\n",
       "    .dataframe tbody tr th:only-of-type {\n",
       "        vertical-align: middle;\n",
       "    }\n",
       "\n",
       "    .dataframe tbody tr th {\n",
       "        vertical-align: top;\n",
       "    }\n",
       "\n",
       "    .dataframe thead th {\n",
       "        text-align: right;\n",
       "    }\n",
       "</style>\n",
       "<table border=\"1\" class=\"dataframe\">\n",
       "  <thead>\n",
       "    <tr style=\"text-align: right;\">\n",
       "      <th></th>\n",
       "      <th>attributes</th>\n",
       "      <th>min</th>\n",
       "      <th>max</th>\n",
       "      <th>range</th>\n",
       "      <th>mean</th>\n",
       "      <th>median</th>\n",
       "      <th>std</th>\n",
       "      <th>skew</th>\n",
       "      <th>kurtosis</th>\n",
       "    </tr>\n",
       "  </thead>\n",
       "  <tbody>\n",
       "    <tr>\n",
       "      <th>0</th>\n",
       "      <td>quantity</td>\n",
       "      <td>-80995.0</td>\n",
       "      <td>80995.0</td>\n",
       "      <td>161990.0</td>\n",
       "      <td>12.061303</td>\n",
       "      <td>5.00</td>\n",
       "      <td>248.693064</td>\n",
       "      <td>0.182663</td>\n",
       "      <td>94317.563673</td>\n",
       "    </tr>\n",
       "    <tr>\n",
       "      <th>1</th>\n",
       "      <td>unit_price</td>\n",
       "      <td>0.0</td>\n",
       "      <td>38970.0</td>\n",
       "      <td>38970.0</td>\n",
       "      <td>3.460471</td>\n",
       "      <td>1.95</td>\n",
       "      <td>69.315077</td>\n",
       "      <td>452.219019</td>\n",
       "      <td>246924.542988</td>\n",
       "    </tr>\n",
       "    <tr>\n",
       "      <th>2</th>\n",
       "      <td>customer_id</td>\n",
       "      <td>12346.0</td>\n",
       "      <td>18287.0</td>\n",
       "      <td>5941.0</td>\n",
       "      <td>15287.690570</td>\n",
       "      <td>15152.00</td>\n",
       "      <td>1713.598197</td>\n",
       "      <td>0.029835</td>\n",
       "      <td>-1.179982</td>\n",
       "    </tr>\n",
       "  </tbody>\n",
       "</table>\n",
       "</div>"
      ],
      "text/plain": [
       "    attributes      min      max     range          mean    median  \\\n",
       "0     quantity -80995.0  80995.0  161990.0     12.061303      5.00   \n",
       "1   unit_price      0.0  38970.0   38970.0      3.460471      1.95   \n",
       "2  customer_id  12346.0  18287.0    5941.0  15287.690570  15152.00   \n",
       "\n",
       "           std        skew       kurtosis  \n",
       "0   248.693064    0.182663   94317.563673  \n",
       "1    69.315077  452.219019  246924.542988  \n",
       "2  1713.598197    0.029835      -1.179982  "
      ]
     },
     "execution_count": 51,
     "metadata": {},
     "output_type": "execute_result"
    }
   ],
   "source": [
    "# central tendecy - mean, median\n",
    "ct1 = pd.DataFrame(num_attributes.apply(np.mean)).T\n",
    "ct2 = pd.DataFrame(num_attributes.apply(np.median)).T\n",
    "\n",
    "# dispersion - desvio padrão, mínimo, maximo, range, skew, kurtosis\n",
    "d1 = pd.DataFrame(num_attributes.apply(np.std)).T\n",
    "d2 = pd.DataFrame(num_attributes.apply(np.min)).T\n",
    "d3 = pd.DataFrame(num_attributes.apply(np.max)).T\n",
    "d4 = pd.DataFrame(num_attributes.apply(lambda x: x.max() - x.min())).T\n",
    "#d5 = pd.DataFrame(num_attributes.apply(lambda x: x.skew() - x.skew())).T\n",
    "d5 = pd.DataFrame(num_attributes.apply(lambda x: x.skew())).T\n",
    "d6 = pd.DataFrame(num_attributes.apply(lambda x: x.kurtosis())).T\n",
    "\n",
    "# concatenate\n",
    "m = pd.concat([d2, d3, d4, ct1, ct2, d1, d5, d6]).T.reset_index()\n",
    "m.columns = ['attributes', 'min', 'max', 'range', 'mean', 'median', 'std', 'skew', 'kurtosis']\n",
    "m"
   ]
  },
  {
   "cell_type": "markdown",
   "id": "dccc5b5e",
   "metadata": {},
   "source": [
    "#### <font color=red> 1.7.1.1 - Numerical Attributes - investigating  </font>"
   ]
  },
  {
   "cell_type": "markdown",
   "id": "d7ae0f89",
   "metadata": {},
   "source": [
    "1 - quantity negativa (devolução?) \n",
    "\n",
    "2 - unit price zero?"
   ]
  },
  {
   "cell_type": "markdown",
   "id": "328de510",
   "metadata": {},
   "source": [
    "### 1.7.2 - Categorical Attributes"
   ]
  },
  {
   "cell_type": "markdown",
   "id": "f96932ea",
   "metadata": {},
   "source": [
    "#### Invoice No"
   ]
  },
  {
   "cell_type": "code",
   "execution_count": 80,
   "id": "62fc99fa",
   "metadata": {},
   "outputs": [
    {
     "name": "stdout",
     "output_type": "stream",
     "text": [
      "Total number of invoices: 8905\n",
      "Total number of negative quantity: 8905\n"
     ]
    }
   ],
   "source": [
    "#dic = df_letter_invoices.loc[df_letter_invoices['stock_code'] == 'D']s\n",
    "\n",
    "#invoices com letras nos numeros\n",
    "\n",
    "#identificação\n",
    "df_letter_invoices = df1.loc[df1['invoice_no'].apply(lambda x: bool(re.search( '[^0-9]+' , x))), :]\n",
    "\n",
    "print('Total number of invoices: {}'.format(len(df_letter_invoices)))\n",
    "print('Total number of negative quantity: {}'.format(len(df_letter_invoices[df_letter_invoices['quantity'] < 0])))"
   ]
  },
  {
   "cell_type": "markdown",
   "id": "f96932ea",
   "metadata": {},
   "source": [
    "#### Stock code"
   ]
  },
  {
   "cell_type": "code",
   "execution_count": 87,
   "id": "cea7be89",
   "metadata": {},
   "outputs": [
    {
     "data": {
      "text/plain": [
       "array(['POST', 'D', 'M', 'PADS', 'DOT', 'CRUK'], dtype=object)"
      ]
     },
     "execution_count": 87,
     "metadata": {},
     "output_type": "execute_result"
    }
   ],
   "source": [
    "df1.loc[df1['stock_code'].apply(lambda x: bool(re.search('^[a-zA-Z]+$', x))),'stock_code'].unique()\n",
    "\n",
    "# Ação\n",
    "## Remove stock code in ['POST', 'D', 'M', 'PADS', 'DOT', 'CRUK']"
   ]
  },
  {
   "cell_type": "markdown",
   "id": "f96932ea",
   "metadata": {},
   "source": [
    "#### Description"
   ]
  },
  {
   "cell_type": "code",
   "execution_count": 93,
   "id": "0cfc5398",
   "metadata": {},
   "outputs": [
    {
     "data": {
      "text/html": [
       "<div>\n",
       "<style scoped>\n",
       "    .dataframe tbody tr th:only-of-type {\n",
       "        vertical-align: middle;\n",
       "    }\n",
       "\n",
       "    .dataframe tbody tr th {\n",
       "        vertical-align: top;\n",
       "    }\n",
       "\n",
       "    .dataframe thead th {\n",
       "        text-align: right;\n",
       "    }\n",
       "</style>\n",
       "<table border=\"1\" class=\"dataframe\">\n",
       "  <thead>\n",
       "    <tr style=\"text-align: right;\">\n",
       "      <th></th>\n",
       "      <th>invoice_no</th>\n",
       "      <th>stock_code</th>\n",
       "      <th>description</th>\n",
       "      <th>quantity</th>\n",
       "      <th>invoice_date</th>\n",
       "      <th>unit_price</th>\n",
       "      <th>customer_id</th>\n",
       "      <th>country</th>\n",
       "    </tr>\n",
       "  </thead>\n",
       "  <tbody>\n",
       "    <tr>\n",
       "      <th>0</th>\n",
       "      <td>536365</td>\n",
       "      <td>85123A</td>\n",
       "      <td>WHITE HANGING HEART T-LIGHT HOLDER</td>\n",
       "      <td>6</td>\n",
       "      <td>2016-11-29</td>\n",
       "      <td>2.55</td>\n",
       "      <td>17850</td>\n",
       "      <td>United Kingdom</td>\n",
       "    </tr>\n",
       "    <tr>\n",
       "      <th>1</th>\n",
       "      <td>536365</td>\n",
       "      <td>71053</td>\n",
       "      <td>WHITE METAL LANTERN</td>\n",
       "      <td>6</td>\n",
       "      <td>2016-11-29</td>\n",
       "      <td>3.39</td>\n",
       "      <td>17850</td>\n",
       "      <td>United Kingdom</td>\n",
       "    </tr>\n",
       "    <tr>\n",
       "      <th>2</th>\n",
       "      <td>536365</td>\n",
       "      <td>84406B</td>\n",
       "      <td>CREAM CUPID HEARTS COAT HANGER</td>\n",
       "      <td>8</td>\n",
       "      <td>2016-11-29</td>\n",
       "      <td>2.75</td>\n",
       "      <td>17850</td>\n",
       "      <td>United Kingdom</td>\n",
       "    </tr>\n",
       "    <tr>\n",
       "      <th>3</th>\n",
       "      <td>536365</td>\n",
       "      <td>84029G</td>\n",
       "      <td>KNITTED UNION FLAG HOT WATER BOTTLE</td>\n",
       "      <td>6</td>\n",
       "      <td>2016-11-29</td>\n",
       "      <td>3.39</td>\n",
       "      <td>17850</td>\n",
       "      <td>United Kingdom</td>\n",
       "    </tr>\n",
       "    <tr>\n",
       "      <th>4</th>\n",
       "      <td>536365</td>\n",
       "      <td>84029E</td>\n",
       "      <td>RED WOOLLY HOTTIE WHITE HEART.</td>\n",
       "      <td>6</td>\n",
       "      <td>2016-11-29</td>\n",
       "      <td>3.39</td>\n",
       "      <td>17850</td>\n",
       "      <td>United Kingdom</td>\n",
       "    </tr>\n",
       "  </tbody>\n",
       "</table>\n",
       "</div>"
      ],
      "text/plain": [
       "  invoice_no stock_code                          description  quantity  \\\n",
       "0     536365     85123A   WHITE HANGING HEART T-LIGHT HOLDER         6   \n",
       "1     536365      71053                  WHITE METAL LANTERN         6   \n",
       "2     536365     84406B       CREAM CUPID HEARTS COAT HANGER         8   \n",
       "3     536365     84029G  KNITTED UNION FLAG HOT WATER BOTTLE         6   \n",
       "4     536365     84029E       RED WOOLLY HOTTIE WHITE HEART.         6   \n",
       "\n",
       "  invoice_date  unit_price  customer_id         country  \n",
       "0   2016-11-29        2.55        17850  United Kingdom  \n",
       "1   2016-11-29        3.39        17850  United Kingdom  \n",
       "2   2016-11-29        2.75        17850  United Kingdom  \n",
       "3   2016-11-29        3.39        17850  United Kingdom  \n",
       "4   2016-11-29        3.39        17850  United Kingdom  "
      ]
     },
     "execution_count": 93,
     "metadata": {},
     "output_type": "execute_result"
    }
   ],
   "source": [
    "df1.head()\n",
    "#  delete description\n"
   ]
  },
  {
   "cell_type": "markdown",
   "id": "f96932ea",
   "metadata": {},
   "source": [
    "#### Country"
   ]
  },
  {
   "cell_type": "code",
   "execution_count": 92,
   "id": "d3172ddb",
   "metadata": {},
   "outputs": [
    {
     "data": {
      "text/plain": [
       "array(['United Kingdom', 'France', 'Australia', 'Netherlands', 'Germany',\n",
       "       'Norway', 'EIRE', 'Switzerland', 'Spain', 'Poland', 'Portugal',\n",
       "       'Italy', 'Belgium', 'Lithuania', 'Japan', 'Iceland',\n",
       "       'Channel Islands', 'Denmark', 'Cyprus', 'Sweden', 'Austria',\n",
       "       'Israel', 'Finland', 'Greece', 'Singapore', 'Lebanon',\n",
       "       'United Arab Emirates', 'Saudi Arabia', 'Czech Republic', 'Canada',\n",
       "       'Unspecified', 'Brazil', 'USA', 'European Community', 'Bahrain',\n",
       "       'Malta', 'RSA'], dtype=object)"
      ]
     },
     "execution_count": 92,
     "metadata": {},
     "output_type": "execute_result"
    }
   ],
   "source": [
    "df1['country'].unique()"
   ]
  },
  {
   "cell_type": "code",
   "execution_count": 108,
   "id": "7076fc3a",
   "metadata": {},
   "outputs": [
    {
     "data": {
      "text/plain": [
       "United Kingdom    0.889509\n",
       "Germany           0.023339\n",
       "France            0.020871\n",
       "EIRE              0.018398\n",
       "Spain             0.006226\n",
       "Name: country, dtype: float64"
      ]
     },
     "execution_count": 108,
     "metadata": {},
     "output_type": "execute_result"
    }
   ],
   "source": [
    "df1['country'].value_counts(normalize=True).head(5)"
   ]
  },
  {
   "cell_type": "code",
   "execution_count": 107,
   "id": "b395746d",
   "metadata": {},
   "outputs": [
    {
     "data": {
      "text/html": [
       "<div>\n",
       "<style scoped>\n",
       "    .dataframe tbody tr th:only-of-type {\n",
       "        vertical-align: middle;\n",
       "    }\n",
       "\n",
       "    .dataframe tbody tr th {\n",
       "        vertical-align: top;\n",
       "    }\n",
       "\n",
       "    .dataframe thead th {\n",
       "        text-align: right;\n",
       "    }\n",
       "</style>\n",
       "<table border=\"1\" class=\"dataframe\">\n",
       "  <thead>\n",
       "    <tr style=\"text-align: right;\">\n",
       "      <th></th>\n",
       "      <th>country</th>\n",
       "      <th>customer_id</th>\n",
       "    </tr>\n",
       "  </thead>\n",
       "  <tbody>\n",
       "    <tr>\n",
       "      <th>35</th>\n",
       "      <td>United Kingdom</td>\n",
       "      <td>3950</td>\n",
       "    </tr>\n",
       "    <tr>\n",
       "      <th>14</th>\n",
       "      <td>Germany</td>\n",
       "      <td>95</td>\n",
       "    </tr>\n",
       "    <tr>\n",
       "      <th>13</th>\n",
       "      <td>France</td>\n",
       "      <td>87</td>\n",
       "    </tr>\n",
       "    <tr>\n",
       "      <th>30</th>\n",
       "      <td>Spain</td>\n",
       "      <td>31</td>\n",
       "    </tr>\n",
       "    <tr>\n",
       "      <th>3</th>\n",
       "      <td>Belgium</td>\n",
       "      <td>25</td>\n",
       "    </tr>\n",
       "  </tbody>\n",
       "</table>\n",
       "</div>"
      ],
      "text/plain": [
       "           country  customer_id\n",
       "35  United Kingdom         3950\n",
       "14         Germany           95\n",
       "13          France           87\n",
       "30           Spain           31\n",
       "3          Belgium           25"
      ]
     },
     "execution_count": 107,
     "metadata": {},
     "output_type": "execute_result"
    }
   ],
   "source": [
    "df1[['customer_id', 'country']].drop_duplicates().groupby('country').count().reset_index().sort_values('customer_id', ascending = False).head(5)"
   ]
  },
  {
   "cell_type": "markdown",
   "id": "1b6193c7",
   "metadata": {},
   "source": [
    "#  2.0 - Filtering Feature"
   ]
  },
  {
   "cell_type": "code",
   "execution_count": 116,
   "id": "f715d3ad",
   "metadata": {
    "ExecuteTime": {
     "end_time": "2021-11-07T00:28:05.689751Z",
     "start_time": "2021-11-07T00:28:05.684764Z"
    }
   },
   "outputs": [],
   "source": [
    "df2 = df1.copy()"
   ]
  },
  {
   "cell_type": "code",
   "execution_count": 117,
   "id": "c50a77c8",
   "metadata": {},
   "outputs": [],
   "source": [
    "# ==== Numerical attributes =====\n",
    "df2 = df2.loc[df2['unit_price']>=0.04, :]\n",
    "\n",
    "# ==== Categorical attributes =====\n",
    "df2 = df2[~df2['stock_code'].isin(['POST', 'D', 'M', 'DOT', 'CRUK', 'C2'])]\n",
    "\n",
    "# description\n",
    "df2 = df2.drop(columns = 'description', axis = 1)\n",
    "\n",
    "# map\n",
    "df2 = df2[~df2['country'].isin(['Unspecified','European Community'])]\n",
    "\n",
    "# quantity\n",
    "df2_returns = df2.loc[df2['quantity'] < 0, :] \n",
    "df2_purchases = df2.loc[df2['quantity'] >= 0, :]\n",
    "\n"
   ]
  },
  {
   "cell_type": "markdown",
   "id": "cc48c328",
   "metadata": {},
   "source": [
    "# 3.0 - Feature Engineering"
   ]
  },
  {
   "cell_type": "markdown",
   "id": "7112ceaf",
   "metadata": {},
   "source": [
    "## 2.1. Data"
   ]
  },
  {
   "cell_type": "code",
   "execution_count": 124,
   "id": "6835e3c3",
   "metadata": {
    "ExecuteTime": {
     "end_time": "2021-11-07T00:28:05.350658Z",
     "start_time": "2021-11-07T00:28:05.344673Z"
    }
   },
   "outputs": [],
   "source": [
    "df3 = df2.copy()"
   ]
  },
  {
   "cell_type": "markdown",
   "id": "4de7a688",
   "metadata": {},
   "source": [
    "## 2.1. Feature Creation"
   ]
  },
  {
   "cell_type": "code",
   "execution_count": 125,
   "id": "0f50c8b6",
   "metadata": {},
   "outputs": [],
   "source": [
    "# data reference\n",
    "df_ref = df3.drop(['invoice_no', 'stock_code', 'quantity', 'invoice_date', 'unit_price', 'country'], axis=1).drop_duplicates(ignore_index=True)"
   ]
  },
  {
   "cell_type": "code",
   "execution_count": 126,
   "id": "9e282bf5",
   "metadata": {},
   "outputs": [
    {
     "data": {
      "text/plain": [
       "customer_id       0\n",
       "gross_revenue    27\n",
       "recency_days     27\n",
       "invoice_no       27\n",
       "avg_ticket       27\n",
       "dtype: int64"
      ]
     },
     "execution_count": 126,
     "metadata": {},
     "output_type": "execute_result"
    }
   ],
   "source": [
    "# Gross Revenue\n",
    "df2_purchases.loc[:, 'gross_revenue'] = df2_purchases.loc[:, 'quantity'] * df2_purchases.loc[:, 'unit_price']\n",
    "\n",
    "# monetary\n",
    "df_monetary = df2_purchases.loc[:,['customer_id', 'gross_revenue']].groupby('customer_id').sum().reset_index()\n",
    "df_ref = pd.merge(df_ref, df_monetary, on='customer_id', how='left')\n",
    "\n",
    "# Recency\n",
    "df_recency = df2_purchases.loc[:,['customer_id', 'invoice_date']].groupby('customer_id').max().reset_index()\n",
    "df_recency['recency_days'] = (df2_purchases['invoice_date'].max() - df_recency['invoice_date']).dt.days\n",
    "df_recency = df_recency[['customer_id','recency_days']].copy()\n",
    "df_ref = pd.merge(df_ref, df_recency,on='customer_id', how='left')\n",
    "\n",
    "# Frequency\n",
    "df_freq= df2_purchases.loc[:,['customer_id', 'invoice_no']].drop_duplicates().groupby('customer_id').count().reset_index()\n",
    "df_ref = pd.merge(df_ref, df_freq, on='customer_id', how='left')\n",
    "\n",
    "# avg ticket\n",
    "df_avg_ticket = df2_purchases.loc[:,['customer_id', 'gross_revenue']].groupby('customer_id').mean().reset_index().rename(columns={'gross_revenue': 'avg_ticket'})\n",
    "df_ref = pd.merge(df_ref, df_avg_ticket, on='customer_id', how='left')\n",
    "\n",
    "df_ref.isna().sum()"
   ]
  },
  {
   "cell_type": "code",
   "execution_count": 127,
   "id": "cb7262e3",
   "metadata": {},
   "outputs": [
    {
     "data": {
      "text/html": [
       "<div>\n",
       "<style scoped>\n",
       "    .dataframe tbody tr th:only-of-type {\n",
       "        vertical-align: middle;\n",
       "    }\n",
       "\n",
       "    .dataframe tbody tr th {\n",
       "        vertical-align: top;\n",
       "    }\n",
       "\n",
       "    .dataframe thead th {\n",
       "        text-align: right;\n",
       "    }\n",
       "</style>\n",
       "<table border=\"1\" class=\"dataframe\">\n",
       "  <thead>\n",
       "    <tr style=\"text-align: right;\">\n",
       "      <th></th>\n",
       "      <th>customer_id</th>\n",
       "      <th>gross_revenue</th>\n",
       "      <th>recency_days</th>\n",
       "      <th>invoice_no</th>\n",
       "      <th>avg_ticket</th>\n",
       "    </tr>\n",
       "  </thead>\n",
       "  <tbody>\n",
       "    <tr>\n",
       "      <th>0</th>\n",
       "      <td>17850</td>\n",
       "      <td>5391.21</td>\n",
       "      <td>372.0</td>\n",
       "      <td>34.0</td>\n",
       "      <td>18.152222</td>\n",
       "    </tr>\n",
       "    <tr>\n",
       "      <th>1</th>\n",
       "      <td>13047</td>\n",
       "      <td>3232.59</td>\n",
       "      <td>56.0</td>\n",
       "      <td>9.0</td>\n",
       "      <td>18.904035</td>\n",
       "    </tr>\n",
       "    <tr>\n",
       "      <th>2</th>\n",
       "      <td>12583</td>\n",
       "      <td>6705.38</td>\n",
       "      <td>2.0</td>\n",
       "      <td>15.0</td>\n",
       "      <td>28.902500</td>\n",
       "    </tr>\n",
       "    <tr>\n",
       "      <th>3</th>\n",
       "      <td>13748</td>\n",
       "      <td>948.25</td>\n",
       "      <td>95.0</td>\n",
       "      <td>5.0</td>\n",
       "      <td>33.866071</td>\n",
       "    </tr>\n",
       "    <tr>\n",
       "      <th>4</th>\n",
       "      <td>15100</td>\n",
       "      <td>876.00</td>\n",
       "      <td>333.0</td>\n",
       "      <td>3.0</td>\n",
       "      <td>292.000000</td>\n",
       "    </tr>\n",
       "  </tbody>\n",
       "</table>\n",
       "</div>"
      ],
      "text/plain": [
       "   customer_id  gross_revenue  recency_days  invoice_no  avg_ticket\n",
       "0        17850        5391.21         372.0        34.0   18.152222\n",
       "1        13047        3232.59          56.0         9.0   18.904035\n",
       "2        12583        6705.38           2.0        15.0   28.902500\n",
       "3        13748         948.25          95.0         5.0   33.866071\n",
       "4        15100         876.00         333.0         3.0  292.000000"
      ]
     },
     "execution_count": 127,
     "metadata": {},
     "output_type": "execute_result"
    }
   ],
   "source": [
    "df_ref.head()"
   ]
  },
  {
   "cell_type": "markdown",
   "id": "a876e27a",
   "metadata": {},
   "source": [
    "#  4.0 - Exploratory Data Analysis - EDA"
   ]
  },
  {
   "cell_type": "code",
   "execution_count": 128,
   "id": "10bb1e1e",
   "metadata": {
    "ExecuteTime": {
     "end_time": "2021-11-07T00:28:05.700721Z",
     "start_time": "2021-11-07T00:28:05.692743Z"
    }
   },
   "outputs": [
    {
     "data": {
      "text/plain": [
       "customer_id      0\n",
       "gross_revenue    0\n",
       "recency_days     0\n",
       "invoice_no       0\n",
       "avg_ticket       0\n",
       "dtype: int64"
      ]
     },
     "execution_count": 128,
     "metadata": {},
     "output_type": "execute_result"
    }
   ],
   "source": [
    "df4 = df_ref.dropna()\n",
    "df4.isna().sum()"
   ]
  },
  {
   "cell_type": "markdown",
   "id": "62f18c52",
   "metadata": {},
   "source": [
    "#  5.0 - Data Preparation"
   ]
  },
  {
   "cell_type": "code",
   "execution_count": 203,
   "id": "e12175d8",
   "metadata": {
    "ExecuteTime": {
     "end_time": "2021-11-07T00:28:05.714684Z",
     "start_time": "2021-11-07T00:28:05.704710Z"
    }
   },
   "outputs": [],
   "source": [
    "df5 = df4.copy()"
   ]
  },
  {
   "cell_type": "code",
   "execution_count": 204,
   "id": "51f1162e",
   "metadata": {},
   "outputs": [],
   "source": [
    "from sklearn import preprocessing as pp"
   ]
  },
  {
   "cell_type": "code",
   "execution_count": 205,
   "id": "96b305e8",
   "metadata": {},
   "outputs": [],
   "source": [
    "ss = pp.StandardScaler()\n",
    "df5['gross_revenue'] = ss.fit_transform(df5[['gross_revenue']])\n",
    "df5['recency_days'] = ss.fit_transform(df5[['recency_days']])\n",
    "df5['invoice_no'] = ss.fit_transform(df5[['invoice_no']])\n",
    "df5['avg_ticket'] = ss.fit_transform(df5[['avg_ticket']])\n"
   ]
  },
  {
   "cell_type": "code",
   "execution_count": 223,
   "id": "ced417f4",
   "metadata": {},
   "outputs": [
    {
     "data": {
      "text/html": [
       "<div>\n",
       "<style scoped>\n",
       "    .dataframe tbody tr th:only-of-type {\n",
       "        vertical-align: middle;\n",
       "    }\n",
       "\n",
       "    .dataframe tbody tr th {\n",
       "        vertical-align: top;\n",
       "    }\n",
       "\n",
       "    .dataframe thead th {\n",
       "        text-align: right;\n",
       "    }\n",
       "</style>\n",
       "<table border=\"1\" class=\"dataframe\">\n",
       "  <thead>\n",
       "    <tr style=\"text-align: right;\">\n",
       "      <th></th>\n",
       "      <th>customer_id</th>\n",
       "      <th>gross_revenue</th>\n",
       "      <th>recency_days</th>\n",
       "      <th>invoice_no</th>\n",
       "      <th>avg_ticket</th>\n",
       "    </tr>\n",
       "  </thead>\n",
       "  <tbody>\n",
       "    <tr>\n",
       "      <th>0</th>\n",
       "      <td>17850</td>\n",
       "      <td>0.378060</td>\n",
       "      <td>2.791504</td>\n",
       "      <td>3.893137</td>\n",
       "      <td>-0.033930</td>\n",
       "    </tr>\n",
       "    <tr>\n",
       "      <th>1</th>\n",
       "      <td>13047</td>\n",
       "      <td>0.135805</td>\n",
       "      <td>-0.360996</td>\n",
       "      <td>0.621606</td>\n",
       "      <td>-0.033418</td>\n",
       "    </tr>\n",
       "    <tr>\n",
       "      <th>2</th>\n",
       "      <td>12583</td>\n",
       "      <td>0.525545</td>\n",
       "      <td>-0.899714</td>\n",
       "      <td>1.406774</td>\n",
       "      <td>-0.026613</td>\n",
       "    </tr>\n",
       "    <tr>\n",
       "      <th>3</th>\n",
       "      <td>13748</td>\n",
       "      <td>-0.120559</td>\n",
       "      <td>0.028079</td>\n",
       "      <td>0.098161</td>\n",
       "      <td>-0.023235</td>\n",
       "    </tr>\n",
       "    <tr>\n",
       "      <th>4</th>\n",
       "      <td>15100</td>\n",
       "      <td>-0.128667</td>\n",
       "      <td>2.402430</td>\n",
       "      <td>-0.163561</td>\n",
       "      <td>0.152452</td>\n",
       "    </tr>\n",
       "  </tbody>\n",
       "</table>\n",
       "</div>"
      ],
      "text/plain": [
       "   customer_id  gross_revenue  recency_days  invoice_no  avg_ticket\n",
       "0        17850       0.378060      2.791504    3.893137   -0.033930\n",
       "1        13047       0.135805     -0.360996    0.621606   -0.033418\n",
       "2        12583       0.525545     -0.899714    1.406774   -0.026613\n",
       "3        13748      -0.120559      0.028079    0.098161   -0.023235\n",
       "4        15100      -0.128667      2.402430   -0.163561    0.152452"
      ]
     },
     "execution_count": 223,
     "metadata": {},
     "output_type": "execute_result"
    }
   ],
   "source": [
    "df5.head()"
   ]
  },
  {
   "cell_type": "code",
   "execution_count": 227,
   "id": "544b8e1e",
   "metadata": {},
   "outputs": [
    {
     "name": "stderr",
     "output_type": "stream",
     "text": [
      "C:\\Users\\dml1wfe\\repos\\envs\\pa005_insiders_clustering\\lib\\site-packages\\pandas\\core\\arraylike.py:364: RuntimeWarning: invalid value encountered in log\n",
      "  result = getattr(ufunc, method)(*inputs, **kwargs)\n",
      "C:\\Users\\dml1wfe\\repos\\envs\\pa005_insiders_clustering\\lib\\site-packages\\seaborn\\distributions.py:2619: FutureWarning: `distplot` is a deprecated function and will be removed in a future version. Please adapt your code to use either `displot` (a figure-level function with similar flexibility) or `histplot` (an axes-level function for histograms).\n",
      "  warnings.warn(msg, FutureWarning)\n"
     ]
    },
    {
     "data": {
      "image/png": "[encoded data removed]",
      "text/plain": [
       "<Figure size 576x396 with 1 Axes>"
      ]
     },
     "metadata": {},
     "output_type": "display_data"
    }
   ],
   "source": [
    "sns.distplot(np.log(df5['gross_revenue']));"
   ]
  },
  {
   "cell_type": "markdown",
   "id": "6269c46d",
   "metadata": {},
   "source": [
    "#  6.0 - Feature Selection"
   ]
  },
  {
   "cell_type": "code",
   "execution_count": 228,
   "id": "f715d3ad",
   "metadata": {
    "ExecuteTime": {
     "end_time": "2021-11-07T00:28:05.689751Z",
     "start_time": "2021-11-07T00:28:05.684764Z"
    }
   },
   "outputs": [],
   "source": [
    "df3 = df_ref"
   ]
  },
  {
   "cell_type": "code",
   "execution_count": 229,
   "id": "3978b96d",
   "metadata": {
    "ExecuteTime": {
     "end_time": "2021-11-07T00:28:05.721665Z",
     "start_time": "2021-11-07T00:28:05.717675Z"
    }
   },
   "outputs": [],
   "source": [
    "df6 = df5.copy()"
   ]
  },
  {
   "cell_type": "markdown",
   "id": "b7cc5d79",
   "metadata": {},
   "source": [
    "#  7.0 - Hyperparameter Fine-Tunning"
   ]
  },
  {
   "cell_type": "code",
   "execution_count": 230,
   "id": "4b23ddec",
   "metadata": {
    "ExecuteTime": {
     "end_time": "2021-11-07T00:28:05.733634Z",
     "start_time": "2021-11-07T00:28:05.724657Z"
    }
   },
   "outputs": [],
   "source": [
    "X = df6.drop(columns=['customer_id'])"
   ]
  },
  {
   "cell_type": "code",
   "execution_count": 231,
   "id": "05b4de72",
   "metadata": {},
   "outputs": [
    {
     "data": {
      "text/html": [
       "<div>\n",
       "<style scoped>\n",
       "    .dataframe tbody tr th:only-of-type {\n",
       "        vertical-align: middle;\n",
       "    }\n",
       "\n",
       "    .dataframe tbody tr th {\n",
       "        vertical-align: top;\n",
       "    }\n",
       "\n",
       "    .dataframe thead th {\n",
       "        text-align: right;\n",
       "    }\n",
       "</style>\n",
       "<table border=\"1\" class=\"dataframe\">\n",
       "  <thead>\n",
       "    <tr style=\"text-align: right;\">\n",
       "      <th></th>\n",
       "      <th>gross_revenue</th>\n",
       "      <th>recency_days</th>\n",
       "      <th>invoice_no</th>\n",
       "      <th>avg_ticket</th>\n",
       "    </tr>\n",
       "  </thead>\n",
       "  <tbody>\n",
       "    <tr>\n",
       "      <th>0</th>\n",
       "      <td>0.378060</td>\n",
       "      <td>2.791504</td>\n",
       "      <td>3.893137</td>\n",
       "      <td>-0.033930</td>\n",
       "    </tr>\n",
       "    <tr>\n",
       "      <th>1</th>\n",
       "      <td>0.135805</td>\n",
       "      <td>-0.360996</td>\n",
       "      <td>0.621606</td>\n",
       "      <td>-0.033418</td>\n",
       "    </tr>\n",
       "    <tr>\n",
       "      <th>2</th>\n",
       "      <td>0.525545</td>\n",
       "      <td>-0.899714</td>\n",
       "      <td>1.406774</td>\n",
       "      <td>-0.026613</td>\n",
       "    </tr>\n",
       "    <tr>\n",
       "      <th>3</th>\n",
       "      <td>-0.120559</td>\n",
       "      <td>0.028079</td>\n",
       "      <td>0.098161</td>\n",
       "      <td>-0.023235</td>\n",
       "    </tr>\n",
       "    <tr>\n",
       "      <th>4</th>\n",
       "      <td>-0.128667</td>\n",
       "      <td>2.402430</td>\n",
       "      <td>-0.163561</td>\n",
       "      <td>0.152452</td>\n",
       "    </tr>\n",
       "  </tbody>\n",
       "</table>\n",
       "</div>"
      ],
      "text/plain": [
       "   gross_revenue  recency_days  invoice_no  avg_ticket\n",
       "0       0.378060      2.791504    3.893137   -0.033930\n",
       "1       0.135805     -0.360996    0.621606   -0.033418\n",
       "2       0.525545     -0.899714    1.406774   -0.026613\n",
       "3      -0.120559      0.028079    0.098161   -0.023235\n",
       "4      -0.128667      2.402430   -0.163561    0.152452"
      ]
     },
     "execution_count": 231,
     "metadata": {},
     "output_type": "execute_result"
    }
   ],
   "source": [
    "X.head()"
   ]
  },
  {
   "cell_type": "code",
   "execution_count": 232,
   "id": "e6cbd454",
   "metadata": {
    "ExecuteTime": {
     "end_time": "2021-11-07T00:28:05.742608Z",
     "start_time": "2021-11-07T00:28:05.736625Z"
    }
   },
   "outputs": [],
   "source": [
    "clusters = [2, 3, 4, 5, 6, 7]"
   ]
  },
  {
   "cell_type": "markdown",
   "id": "1364c825",
   "metadata": {
    "ExecuteTime": {
     "end_time": "2021-11-06T17:38:51.702214Z",
     "start_time": "2021-11-06T17:38:51.687254Z"
    }
   },
   "source": [
    "## 7.1 Within-Cluster Sum of Square (WSS)"
   ]
  },
  {
   "cell_type": "code",
   "execution_count": 234,
   "id": "7e9047fa",
   "metadata": {
    "ExecuteTime": {
     "end_time": "2021-11-07T00:28:08.422186Z",
     "start_time": "2021-11-07T00:28:07.063377Z"
    },
    "scrolled": false
   },
   "outputs": [
    {
     "data": {
      "image/png": "[encoded data removed]",
      "text/plain": [
       "<Figure size 576x396 with 1 Axes>"
      ]
     },
     "metadata": {},
     "output_type": "display_data"
    }
   ],
   "source": [
    "kmeans = KElbowVisualizer(c.KMeans(), k=clusters, timings=False)\n",
    "kmeans.fit(X)\n",
    "kmeans.show();"
   ]
  },
  {
   "cell_type": "markdown",
   "id": "56cbe4e3",
   "metadata": {
    "ExecuteTime": {
     "end_time": "2021-11-06T17:38:51.702214Z",
     "start_time": "2021-11-06T17:38:51.687254Z"
    }
   },
   "source": [
    "## 7.2 Sillhouette Score"
   ]
  },
  {
   "cell_type": "code",
   "execution_count": 235,
   "id": "e0341464",
   "metadata": {
    "ExecuteTime": {
     "end_time": "2021-11-07T00:28:11.823636Z",
     "start_time": "2021-11-07T00:28:08.426176Z"
    }
   },
   "outputs": [
    {
     "data": {
      "image/png": "[encoded data removed]",
      "text/plain": [
       "<Figure size 576x396 with 1 Axes>"
      ]
     },
     "metadata": {},
     "output_type": "display_data"
    }
   ],
   "source": [
    "kmeans = KElbowVisualizer(c.KMeans(), k=clusters, metric='silhouette', timings=False)\n",
    "kmeans.fit(X)\n",
    "kmeans.show();"
   ]
  },
  {
   "cell_type": "markdown",
   "id": "f77a92ac",
   "metadata": {},
   "source": [
    "## 7.2.1 - Silhouette Analysis"
   ]
  },
  {
   "cell_type": "code",
   "execution_count": 236,
   "id": "4f65d7fb",
   "metadata": {},
   "outputs": [
    {
     "data": {
      "image/png": "[encoded data removed]",
      "text/plain": [
       "<Figure size 1800x1296 with 6 Axes>"
      ]
     },
     "metadata": {},
     "output_type": "display_data"
    }
   ],
   "source": [
    "fig, ax = plt.subplots(3,2, figsize=(25,18))\n",
    "\n",
    "for k in clusters:\n",
    "    km = c.KMeans(n_clusters=k, init='random', n_init=10, max_iter=100, random_state=42)\n",
    "    q, mod = divmod(k, 2)\n",
    "\n",
    "    visualizer = SilhouetteVisualizer(km, colors='yellowbrick', ax=ax[q-1][mod])\n",
    "    visualizer.fit(X)\n",
    "    visualizer.finalize()"
   ]
  },
  {
   "cell_type": "markdown",
   "id": "428f52dd",
   "metadata": {},
   "source": [
    "#  8.0 - Model Training"
   ]
  },
  {
   "cell_type": "markdown",
   "id": "c84dba9e",
   "metadata": {},
   "source": [
    "## 8.1 - K-Means"
   ]
  },
  {
   "cell_type": "code",
   "execution_count": 245,
   "id": "04ffa941",
   "metadata": {
    "ExecuteTime": {
     "end_time": "2021-11-07T00:34:28.671805Z",
     "start_time": "2021-11-07T00:34:28.519512Z"
    }
   },
   "outputs": [],
   "source": [
    "# model definition\n",
    "k = 3\n",
    "kmeans = c.KMeans(init='random', n_clusters=k, n_init=10, max_iter=300, random_state=42)\n",
    "\n",
    "# model training\n",
    "kmeans.fit(X)\n",
    "\n",
    "# clustering\n",
    "labels = kmeans.labels_"
   ]
  },
  {
   "cell_type": "markdown",
   "id": "4ac8a942",
   "metadata": {},
   "source": [
    "## 8.2 - Cluster Validation"
   ]
  },
  {
   "cell_type": "code",
   "execution_count": 246,
   "id": "024c2b0e",
   "metadata": {},
   "outputs": [],
   "source": [
    "from sklearn import metrics as m"
   ]
  },
  {
   "cell_type": "code",
   "execution_count": 247,
   "id": "ec7bb632",
   "metadata": {
    "ExecuteTime": {
     "end_time": "2021-11-07T00:36:51.507617Z",
     "start_time": "2021-11-07T00:36:50.984399Z"
    }
   },
   "outputs": [
    {
     "name": "stdout",
     "output_type": "stream",
     "text": [
      "WSS value: 9408.141080314075\n",
      "SS value: 0.5893664818504057\n"
     ]
    }
   ],
   "source": [
    "## WSS (within Cluster sum of square)\n",
    "print('WSS value: {}'. format(kmeans.inertia_))\n",
    "\n",
    "## SS (Silhoutte Score) \n",
    "print('SS value: {}'.format(m.silhouette_score(X, labels, metric='euclidean')))"
   ]
  },
  {
   "cell_type": "markdown",
   "id": "02574b64",
   "metadata": {},
   "source": [
    "#  9.0 - Cluster Analysis"
   ]
  },
  {
   "cell_type": "markdown",
   "id": "2eac165c",
   "metadata": {},
   "source": [
    "## 9.1 - Data"
   ]
  },
  {
   "cell_type": "code",
   "execution_count": 248,
   "id": "b9e454b6",
   "metadata": {
    "ExecuteTime": {
     "end_time": "2021-11-07T00:39:31.362408Z",
     "start_time": "2021-11-07T00:39:31.350442Z"
    }
   },
   "outputs": [],
   "source": [
    "df9 = df6.copy()\n",
    "df9['cluster'] = labels\n"
   ]
  },
  {
   "cell_type": "markdown",
   "id": "2eac165c",
   "metadata": {},
   "source": [
    "## 9.2 - Visualization Inspection"
   ]
  },
  {
   "cell_type": "code",
   "execution_count": 249,
   "id": "4c476e6b",
   "metadata": {},
   "outputs": [
    {
     "name": "stderr",
     "output_type": "stream",
     "text": [
      "C:\\Users\\dml1wfe\\repos\\envs\\pa005_insiders_clustering\\lib\\site-packages\\sklearn\\base.py:445: UserWarning: X does not have valid feature names, but KMeans was fitted with feature names\n",
      "  warnings.warn(\n"
     ]
    },
    {
     "data": {
      "image/png": "[encoded data removed]",
      "text/plain": [
       "<Figure size 576x396 with 1 Axes>"
      ]
     },
     "metadata": {},
     "output_type": "display_data"
    }
   ],
   "source": [
    "visualizer = SilhouetteVisualizer(kmeans, colors='yellowbrick')\n",
    "visualizer.fit(X)\n",
    "visualizer.finalize()"
   ]
  },
  {
   "cell_type": "markdown",
   "id": "6ed5160a",
   "metadata": {},
   "source": [
    "## 9.3 - 2d plot"
   ]
  },
  {
   "cell_type": "code",
   "execution_count": 253,
   "id": "807e9142",
   "metadata": {},
   "outputs": [],
   "source": [
    "#df_viz = df9.drop(columns='customer_id', axis=1)\n",
    "#sns.pairplot(df_viz, hue='cluster');"
   ]
  },
  {
   "cell_type": "markdown",
   "id": "6ed5160a",
   "metadata": {},
   "source": [
    "## 9.4 - UMAP"
   ]
  },
  {
   "cell_type": "code",
   "execution_count": 258,
   "id": "807e9142",
   "metadata": {},
   "outputs": [
    {
     "data": {
      "image/png": "[encoded data removed]",
      "text/plain": [
       "<Figure size 576x396 with 1 Axes>"
      ]
     },
     "metadata": {},
     "output_type": "display_data"
    }
   ],
   "source": [
    "reducer = umap.UMAP(n_neighbors=90, random_state=42)\n",
    "embedding = reducer.fit_transform(X)\n",
    "\n",
    "# embedding\n",
    "df_viz['embedding_x'] = embedding[:, 0]\n",
    "df_viz['embedding_y'] = embedding[:, 1]\n",
    "\n",
    "# plot UMAP\n",
    "sns.scatterplot( x='embedding_x', y='embedding_y', hue='cluster', palette=sns.color_palette('hls', n_colors=len(df_viz['cluster'].unique())), data=df_viz);"
   ]
  },
  {
   "cell_type": "markdown",
   "id": "2b2fe548",
   "metadata": {},
   "source": [
    "## 9.5 - Cluster Profile"
   ]
  },
  {
   "cell_type": "code",
   "execution_count": 255,
   "id": "f61239b3",
   "metadata": {
    "ExecuteTime": {
     "end_time": "2021-11-07T01:05:12.913770Z",
     "start_time": "2021-11-07T01:05:12.867892Z"
    }
   },
   "outputs": [
    {
     "data": {
      "text/html": [
       "<div>\n",
       "<style scoped>\n",
       "    .dataframe tbody tr th:only-of-type {\n",
       "        vertical-align: middle;\n",
       "    }\n",
       "\n",
       "    .dataframe tbody tr th {\n",
       "        vertical-align: top;\n",
       "    }\n",
       "\n",
       "    .dataframe thead th {\n",
       "        text-align: right;\n",
       "    }\n",
       "</style>\n",
       "<table border=\"1\" class=\"dataframe\">\n",
       "  <thead>\n",
       "    <tr style=\"text-align: right;\">\n",
       "      <th></th>\n",
       "      <th>cluster</th>\n",
       "      <th>customer_id</th>\n",
       "      <th>prec_customer</th>\n",
       "      <th>gross_revenue</th>\n",
       "      <th>recency_days</th>\n",
       "      <th>invoice_no</th>\n",
       "      <th>avg_ticket</th>\n",
       "    </tr>\n",
       "  </thead>\n",
       "  <tbody>\n",
       "    <tr>\n",
       "      <th>0</th>\n",
       "      <td>0</td>\n",
       "      <td>22</td>\n",
       "      <td>0.508083</td>\n",
       "      <td>10.330215</td>\n",
       "      <td>-0.722409</td>\n",
       "      <td>8.437592</td>\n",
       "      <td>4.189466</td>\n",
       "    </tr>\n",
       "    <tr>\n",
       "      <th>1</th>\n",
       "      <td>1</td>\n",
       "      <td>1086</td>\n",
       "      <td>25.080831</td>\n",
       "      <td>-0.164755</td>\n",
       "      <td>1.538959</td>\n",
       "      <td>-0.350575</td>\n",
       "      <td>-0.008679</td>\n",
       "    </tr>\n",
       "    <tr>\n",
       "      <th>2</th>\n",
       "      <td>2</td>\n",
       "      <td>3222</td>\n",
       "      <td>74.411085</td>\n",
       "      <td>-0.015003</td>\n",
       "      <td>-0.513785</td>\n",
       "      <td>0.060552</td>\n",
       "      <td>-0.025680</td>\n",
       "    </tr>\n",
       "  </tbody>\n",
       "</table>\n",
       "</div>"
      ],
      "text/plain": [
       "   cluster  customer_id  prec_customer  gross_revenue  recency_days  \\\n",
       "0        0           22       0.508083      10.330215     -0.722409   \n",
       "1        1         1086      25.080831      -0.164755      1.538959   \n",
       "2        2         3222      74.411085      -0.015003     -0.513785   \n",
       "\n",
       "   invoice_no  avg_ticket  \n",
       "0    8.437592    4.189466  \n",
       "1   -0.350575   -0.008679  \n",
       "2    0.060552   -0.025680  "
      ]
     },
     "execution_count": 255,
     "metadata": {},
     "output_type": "execute_result"
    }
   ],
   "source": [
    "# Number of customer\n",
    "df_cluster = df9[['customer_id', 'cluster']].groupby('cluster').count().reset_index()\n",
    "df_cluster['prec_customer'] = (df_cluster['customer_id'] / df_cluster['customer_id'].sum())*100\n",
    "\n",
    "# Average Gross Revenue\n",
    "df_avg_gross_revenue = df9[['gross_revenue', 'cluster']].groupby('cluster').mean().reset_index()\n",
    "df_cluster = pd.merge(df_cluster, df_avg_gross_revenue, how='inner', on='cluster')\n",
    "\n",
    "# Average Recency days\n",
    "df_avg_recency_days = df9[['recency_days', 'cluster']].groupby('cluster').mean().reset_index()\n",
    "df_cluster = pd.merge(df_cluster, df_avg_recency_days, how='inner', on='cluster')\n",
    "\n",
    "# Average invoice_no\n",
    "df_avg_invoice_no = df9[['invoice_no', 'cluster']].groupby('cluster').mean().reset_index()\n",
    "df_cluster = pd.merge(df_cluster, df_avg_invoice_no, how='inner', on='cluster')\n",
    "\n",
    "# average ticket\n",
    "df_ticket = df9[['avg_ticket', 'cluster']].groupby('cluster').mean().reset_index()\n",
    "df_cluster = pd.merge(df_cluster, df_ticket, how='inner', on='cluster')\n",
    "\n",
    "df_cluster"
   ]
  },
  {
   "cell_type": "markdown",
   "id": "f8f1dfa3",
   "metadata": {},
   "source": [
    "Cluster 01: (candidato a insider)\n",
    "\n",
    "    * número de customers : 6 (0,14% do customers)\n",
    "    * Recência média: 7 dias\n",
    "    * Compras média: 89 compras\n",
    "    * Receita média: $182.182,00 USD\n",
    "\n",
    "Cluster 02:\n",
    "\n",
    "    * número de customers : 6 (0,70% do customers)\n",
    "    * Recência média: 14 dias\n",
    "    * Compras média: 53 compras\n",
    "    * Receita média: $40.543,52 USD\n",
    "\n",
    "Cluster 03:\n",
    "\n",
    "    * número de customers : 4.335 (99% do customers)\n",
    "    * Recência média: 92 dias\n",
    "    * Compras média: 5 compras\n",
    "    * Receita média: $1.372,57 USD"
   ]
  },
  {
   "cell_type": "markdown",
   "id": "8298b75d",
   "metadata": {},
   "source": [
    "# 10.0 - Deploy to Production"
   ]
  },
  {
   "cell_type": "code",
   "execution_count": null,
   "id": "a11329a5",
   "metadata": {},
   "outputs": [],
   "source": []
  },
  {
   "cell_type": "code",
   "execution_count": null,
   "id": "1370aa62",
   "metadata": {},
   "outputs": [],
   "source": []
  }
 ],
 "metadata": {
  "hide_input": false,
  "kernelspec": {
   "display_name": "Python 3 (ipykernel)",
   "language": "python",
   "name": "python3"
  },
  "language_info": {
   "codemirror_mode": {
    "name": "ipython",
    "version": 3
   },
   "file_extension": ".py",
   "mimetype": "text/x-python",
   "name": "python",
   "nbconvert_exporter": "python",
   "pygments_lexer": "ipython3",
   "version": "3.9.10"
  },
  "toc": {
   "base_numbering": 1,
   "nav_menu": {},
   "number_sections": true,
   "sideBar": true,
   "skip_h1_title": false,
   "title_cell": "Table of Contents",
   "title_sidebar": "Contents",
   "toc_cell": false,
   "toc_position": {},
   "toc_section_display": true,
   "toc_window_display": false
  }
 },
 "nbformat": 4,
 "nbformat_minor": 5
}
